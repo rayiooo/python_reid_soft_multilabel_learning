{
 "cells": [
  {
   "cell_type": "code",
   "execution_count": 1,
   "metadata": {},
   "outputs": [
    {
     "name": "stdout",
     "output_type": "stream",
     "text": [
      "Device: cuda\n"
     ]
    }
   ],
   "source": [
    "import matplotlib.pyplot as plt\n",
    "import os\n",
    "import time\n",
    "import torch\n",
    "import torch.nn as nn\n",
    "import torch.nn.functional as F\n",
    "from models.resnet import resnet50\n",
    "from my_dataset import MyDataset\n",
    "from my_lossfunc import JointLoss, MultilabelLoss, DiscriminativeLoss\n",
    "from my_transform import data_transforms\n",
    "from PIL import Image\n",
    "from scipy.spatial.distance import pdist, cdist  # 一集合点距, 两集合点距\n",
    "from torch.utils.data import DataLoader\n",
    "from tqdm import tnrange\n",
    "from tqdm import tqdm_notebook as tqdm\n",
    "from utils import *\n",
    "\n",
    "os.environ[\"CUDA_VISIBLE_DEVICES\"] = \"1,2,3\"\n",
    "DEVICE = torch.device('cuda') if torch.cuda.is_available() else torch.device('cpu')\n",
    "print('Device:', DEVICE)\n",
    "\n",
    "\n",
    "BASE = '/home/zengrui/datasets'\n",
    "DUKE_DIR_TRAIN = f'{BASE}/ReID_Duke/bounding_box_train'\n",
    "DUKE_DIR_TEST = f'{BASE}/ReID_Duke/bounding_box_test'\n",
    "DUKE_DIR_QUERY = f'{BASE}/ReID_Duke/query'\n",
    "DUKE_IMG_AMOUNT = 16522\n",
    "DUKE_ID_AMOUNT = 702\n",
    "MARKET_DIR_TRAIN = f'{BASE}/ReID_Market/bounding_box_train'\n",
    "MARKET_DIR_TEST = f'{BASE}/ReID_Market/bounding_box_test'\n",
    "MARKET_DIR_QUERY = f'{BASE}/ReID_Market/query'\n",
    "MARKET_IMG_AMOUNT = 12936\n",
    "MARKET_ID_AMOUNT = 751\n",
    "\n",
    "SOURCE_DIR_TRAIN = DUKE_DIR_TRAIN\n",
    "TARGET_DIR_TRAIN = MARKET_DIR_TRAIN\n",
    "TARGET_DIR_GALLERY = MARKET_DIR_TEST\n",
    "TARGET_DIR_PROBE = MARKET_DIR_QUERY\n",
    "SOURCE_ID_AMOUNT = DUKE_ID_AMOUNT\n",
    "TARGET_IMG_AMOUNT = MARKET_IMG_AMOUNT\n",
    "ML_PATH = 'data/ml_Market.dat'\n",
    "PRETRAIN_PATH = 'data/pretrained_weight.pkl'\n",
    "PRETRAIN_OUT_PATH = 'data/pretrained_weight_{}.pkl'\n",
    "\n",
    "BATCH_SIZE = 96\n",
    "EPOCH = 70\n",
    "LR = 0.1\n",
    "\n",
    "BETA = 0.2\n",
    "LAMB1 = 2e-4\n",
    "LAMB2 = 50\n",
    "MARGIN = 1\n",
    "SCALA_CE = 30"
   ]
  },
  {
   "cell_type": "markdown",
   "metadata": {},
   "source": [
    "# Prepare Work"
   ]
  },
  {
   "cell_type": "code",
   "execution_count": 2,
   "metadata": {},
   "outputs": [
    {
     "name": "stdout",
     "output_type": "stream",
     "text": [
      "data_loader: ok.\n"
     ]
    }
   ],
   "source": [
    "# data loader\n",
    "data_loader = {\n",
    "    'source': DataLoader(\n",
    "        dataset=MyDataset(SOURCE_DIR_TRAIN, \n",
    "                          transform=data_transforms('train'),\n",
    "                          require_view=False,\n",
    "                          encode_label=True),\n",
    "        batch_size=BATCH_SIZE,\n",
    "        shuffle=True,\n",
    "    ),\n",
    "    'target': DataLoader(\n",
    "        dataset=MyDataset(TARGET_DIR_TRAIN,\n",
    "                          transform=data_transforms('train'),\n",
    "                          require_view=True,\n",
    "                          encode_label=True),\n",
    "        batch_size=BATCH_SIZE,\n",
    "        shuffle=True,\n",
    "    ),\n",
    "    'gallery': DataLoader(\n",
    "        dataset=MyDataset(TARGET_DIR_GALLERY,\n",
    "                          transform=data_transforms('val'),\n",
    "                          require_view=True),\n",
    "        batch_size=BATCH_SIZE,\n",
    "        shuffle=False,\n",
    "    ),\n",
    "    'probe': DataLoader(\n",
    "        dataset=MyDataset(TARGET_DIR_PROBE,\n",
    "                          transform=data_transforms('val'),\n",
    "                          require_view=True),\n",
    "        batch_size=BATCH_SIZE,\n",
    "        shuffle=False,\n",
    "    ),\n",
    "}\n",
    "print('data_loader: ok.')"
   ]
  },
  {
   "cell_type": "markdown",
   "metadata": {},
   "source": [
    "# Trainer"
   ]
  },
  {
   "cell_type": "code",
   "execution_count": 3,
   "metadata": {},
   "outputs": [],
   "source": [
    "%matplotlib inline\n",
    "class Trainer(object):\n",
    "    def __init__(self):\n",
    "        \n",
    "        # 网络\n",
    "        self.net = resnet50(pretrained=False, \n",
    "                            num_classes=SOURCE_ID_AMOUNT)\n",
    "        self.net = nn.DataParallel(self.net).to(DEVICE)\n",
    "        if PRETRAIN_PATH is not None and os.path.exists(PRETRAIN_PATH):\n",
    "            self.net.load_state_dict(torch.load(PRETRAIN_PATH))\n",
    "            print('Pretrained model loaded.')\n",
    "        else:\n",
    "            print('Pretrained model not found. Train from scratch.')\n",
    "            \n",
    "        # 损失\n",
    "        self.mdl_loss = DiscriminativeLoss(0.001).to(DEVICE)\n",
    "        self.al_loss = nn.CrossEntropyLoss().to(DEVICE)\n",
    "        self.rj_loss = JointLoss(MARGIN).to(DEVICE)  # lack 1 param\n",
    "        self.cml_loss = MultilabelLoss(BATCH_SIZE).to(DEVICE)\n",
    "        \n",
    "        # 优化器\n",
    "        self.optimizer = torch.optim.SGD(\n",
    "            self.net.parameters(), lr=LR, momentum=0.9)\n",
    "        self.lr_scheduler = torch.optim.lr_scheduler.MultiStepLR(\n",
    "            self.optimizer, milestones=[int(EPOCH / 8 * 5), int(EPOCH / 8 * 7)])\n",
    "        \n",
    "        # 存储器\n",
    "        self.ml_mem = torch.zeros(TARGET_IMG_AMOUNT, SOURCE_ID_AMOUNT)\n",
    "        self.inited = self.ml_mem.sum(dim=1) != 0\n",
    "    \n",
    "    def train(self):\n",
    "        '''进行一次完整训练.'''\n",
    "        print('Training start. Epochs: %d' % EPOCH)\n",
    "        self.net.train()\n",
    "        for epoch in tnrange(EPOCH):\n",
    "            self.train_epoch(epoch)\n",
    "    \n",
    "    def train_epoch(self, epoch):\n",
    "        '''训练一个epoch.'''\n",
    "        stats = ('total', 'src', 'st', 'ml', 'tgt')\n",
    "        running_loss = {stat: AverageMeter() for stat in stats}\n",
    "        \n",
    "        if not self.mdl_loss.initialized:\n",
    "            self.init_losses(data_loader['target'])\n",
    "            self.net.train()\n",
    "        \n",
    "        with tqdm(total=len(data_loader['source'])) as pbar:\n",
    "            tgt_iter = iter(data_loader['target'])\n",
    "            for step, (ax, ay) in enumerate(data_loader['source']):\n",
    "                # a - source, b - target\n",
    "                ax = ax.to(DEVICE)\n",
    "                ay = ay.to(DEVICE)\n",
    "                try:\n",
    "                    b = next(tgt_iter)\n",
    "                except StopIteration:\n",
    "                    tgt_iter = iter(data_loader['target'])\n",
    "                    b = next(tgt_iter)\n",
    "                (bx, by, b_view, b_idx) = b\n",
    "                bx, by, b_view = bx.to(DEVICE), by.to(DEVICE), b_view.to(DEVICE)\n",
    "\n",
    "                a_f, a_sim, _ = self.net(ax)\n",
    "                b_f, b_sim, _ = self.net(bx)\n",
    "\n",
    "                loss = {stat: torch.Tensor([0]).to(DEVICE) \n",
    "                        for stat in stats}\n",
    "                \n",
    "                loss['src'] = self.al_loss(a_sim * SCALA_CE, ay)  # 有监督 交叉熵\n",
    "                \n",
    "                agents = self.net.module.fc.weight.renorm(2, 0, 1e-5).mul(1e5)  # 归一化 shape=(702, 2048)\n",
    "                loss['st'] = self.rj_loss(agents.detach(), a_f, a_sim.detach(), ay, \n",
    "                                          b_f, b_sim.detach())\n",
    "                \n",
    "                with torch.no_grad():\n",
    "                    ml = F.softmax(b_f.mm(agents.t_() * SCALA_CE), dim=1)  # t_(): 转置并inplace\n",
    "                loss['ml'] = self.cml_loss(torch.log(ml), b_view)\n",
    "    \n",
    "                if epoch > 0:  # 为什么第一轮不算 mdl_loss 呢\n",
    "                    ml_cpu = ml.detach().cpu()\n",
    "                    is_inited_batch = self.inited[b_idx]\n",
    "                    inited_idx = b_idx[is_inited_batch]\n",
    "                    uninited_idx = b_idx[~is_inited_batch]\n",
    "                    self.ml_mem[uninited_idx] = ml_cpu[~is_inited_batch]  # 0标签满更新\n",
    "                    self.inited[uninited_idx] = True\n",
    "                    self.ml_mem[inited_idx] = 0.9 * self.ml_mem[inited_idx] \\\n",
    "                                            + 0.1 * ml_cpu[is_inited_batch]  # 非空标签小更新\n",
    "                    loss['tgt'] = self.mdl_loss(b_f, self.ml_mem[b_idx], by)\n",
    "\n",
    "                self.optimizer.zero_grad()\n",
    "                loss['total'] = loss['tgt'] + LAMB1 * loss['ml'] \\\n",
    "                              + LAMB2 * (loss['src'] + BETA * loss['st'])\n",
    "                loss['total'].backward()\n",
    "                self.optimizer.step()\n",
    "\n",
    "                for stat in stats:\n",
    "                    loss_cpu = float(loss[stat].data.cpu().numpy())\n",
    "                    running_loss[stat].update(loss_cpu)\n",
    "                pbar.set_description('Loss: %.4f' % running_loss['total'].avg)\n",
    "                pbar.update()\n",
    "\n",
    "            self.lr_scheduler.step()\n",
    "            pbar.set_description('Progress:')\n",
    "            print('Epoch: %d, Loss: %.4f (%.4f + %.4f + %.4f + %.4f)' \n",
    "                  % (epoch, \n",
    "                     running_loss['total'].avg, \n",
    "                     running_loss['src'].avg * LAMB2, \n",
    "                     running_loss['st'].avg * LAMB2 * BETA, \n",
    "                     running_loss['ml'].avg * LAMB1, \n",
    "                     running_loss['tgt'].avg))\n",
    "            \n",
    "    def eval_performance(self, gallery_loader, probe_loader):\n",
    "        stats = ('r1', 'r5', 'r10', 'MAP')\n",
    "        val = {stat: AverageMeter() for stat in stats}\n",
    "        self.net.eval()\n",
    "        \n",
    "        gallery_f, gallery_y, gallery_views = extract_features(\n",
    "            gallery_loader, self.net, index_feature=0)\n",
    "        probe_f, probe_y, probe_views = extract_features(\n",
    "            probe_loader, self.net, index_feature=0)\n",
    "        dist = cdist(gallery_f, probe_f, metric='cosine')  # 实际是 1-cos ∈ [0, 2], 越小越相似\n",
    "        CMC, MAP, example = eval_cmc_map(\n",
    "            dist, gallery_y, probe_y, gallery_views, probe_views, \n",
    "            ignore_MAP=False, show_example=True)\n",
    "        r1, r5, r10 = CMC[0], CMC[4], CMC[9]\n",
    "        self.r1, self.r5, self.r10, self.MAP = r1, r5, r10, MAP\n",
    "        \n",
    "        for stat in stats:\n",
    "            val[stat].update(locals()[stat].item(), BATCH_SIZE)\n",
    "            \n",
    "        # 显示rank多图\n",
    "#         if show_img_result:\n",
    "#             plt.subplot(1, 11, 1)\n",
    "#             plt.title('Query')\n",
    "#             plt.imshow(Image.open(file.path, 'r'))\n",
    "\n",
    "#             for i in range(10):\n",
    "#                 plt.subplot(1, 11, i + 2)\n",
    "#                 plt.imshow(Image.open(DATA_DIR_TEST +\n",
    "#                                       '\\\\' + sort_list[i][0], 'r'))\n",
    "\n",
    "#             plt.show()\n",
    "            \n",
    "        return val\n",
    "            \n",
    "    def init_losses(self, tgt_loader):\n",
    "        '''训练前初始化loss参数.'''\n",
    "        print('#' * 8, 'Initializing losses', '#' * 8)\n",
    "        if os.path.isfile(ML_PATH):\n",
    "            (ml, views, pairwise_agreements) = torch.load(ML_PATH)\n",
    "            print('Ml loaded.')\n",
    "        else:\n",
    "            print('Ml not found, computing...')\n",
    "            sim, _, views = extract_features(\n",
    "                data_loader['target'], self.net, index_feature=1, return_numpy=False)\n",
    "            ml = F.softmax(sim * SCALA_CE, dim=1)\n",
    "            ml_np = ml.cpu().numpy()\n",
    "            pairwise_agreements = 1 - pdist(ml_np, 'minkowski', p=1) / 2  # 相似比较特征\n",
    "            print('Ml saving to %s...' % ML_PATH)\n",
    "            torch.save((ml, views, pairwise_agreements), ML_PATH)\n",
    "\n",
    "        self.cml_loss.init_centers(torch.log(ml), views)\n",
    "        print('Cml_loss centers inited.')\n",
    "        self.mdl_loss.init_threshold(pairwise_agreements)\n",
    "        print('Mdl_loss threshold inited.')\n",
    "        print('#' * 8, 'OK', '#' * 8)\n",
    "        \n",
    "    def save_model(self, cover=False):\n",
    "        '''\n",
    "        保存当前模型net的参数.\n",
    "        \n",
    "        :param cover: True覆盖默认文件, False新增带时间戳文件\n",
    "        '''\n",
    "        if cover:\n",
    "            torch.save(self.net.state_dict(), PRETRAIN_PATH)\n",
    "        else:\n",
    "            torch.save(self.net.state_dict(), PRETRAIN_OUT_PATH.format(time.time()))\n",
    "        print('Model weight saved.')"
   ]
  },
  {
   "cell_type": "markdown",
   "metadata": {},
   "source": [
    "# Train"
   ]
  },
  {
   "cell_type": "code",
   "execution_count": 4,
   "metadata": {
    "scrolled": true
   },
   "outputs": [
    {
     "name": "stdout",
     "output_type": "stream",
     "text": [
      "Pretrained model loaded.\n",
      "Training start. Epochs: 70\n"
     ]
    },
    {
     "data": {
      "application/vnd.jupyter.widget-view+json": {
       "model_id": "5ac1dc8a9a174555a189e122b3cecbf5",
       "version_major": 2,
       "version_minor": 0
      },
      "text/plain": [
       "HBox(children=(IntProgress(value=0, max=70), HTML(value='')))"
      ]
     },
     "metadata": {},
     "output_type": "display_data"
    },
    {
     "name": "stdout",
     "output_type": "stream",
     "text": [
      "######## Initializing losses ########\n",
      "Ml loaded.\n",
      "Cml_loss centers inited.\n",
      "Mdl_loss threshold inited.\n",
      "######## OK ########\n"
     ]
    },
    {
     "data": {
      "application/vnd.jupyter.widget-view+json": {
       "model_id": "e60960b63cb04876a9afed038e975d52",
       "version_major": 2,
       "version_minor": 0
      },
      "text/plain": [
       "HBox(children=(IntProgress(value=0, max=173), HTML(value='')))"
      ]
     },
     "metadata": {},
     "output_type": "display_data"
    },
    {
     "name": "stdout",
     "output_type": "stream",
     "text": [
      "Epoch: 0, Loss: 77.9101 (65.2070 + 11.7116 + 0.9914 + 0.0000)\n",
      "\n"
     ]
    },
    {
     "data": {
      "application/vnd.jupyter.widget-view+json": {
       "model_id": "727cf526b79648179902b0a16ab986af",
       "version_major": 2,
       "version_minor": 0
      },
      "text/plain": [
       "HBox(children=(IntProgress(value=0, max=173), HTML(value='')))"
      ]
     },
     "metadata": {},
     "output_type": "display_data"
    },
    {
     "name": "stdout",
     "output_type": "stream",
     "text": [
      "Epoch: 1, Loss: 71.4587 (59.1927 + 11.4903 + 0.1979 + 0.5778)\n",
      "\n"
     ]
    },
    {
     "data": {
      "application/vnd.jupyter.widget-view+json": {
       "model_id": "df1b7d335ec24158b5349df74298356a",
       "version_major": 2,
       "version_minor": 0
      },
      "text/plain": [
       "HBox(children=(IntProgress(value=0, max=173), HTML(value='')))"
      ]
     },
     "metadata": {},
     "output_type": "display_data"
    },
    {
     "name": "stdout",
     "output_type": "stream",
     "text": [
      "Epoch: 2, Loss: 65.1677 (53.1777 + 11.2750 + 0.1629 + 0.5521)\n",
      "\n"
     ]
    },
    {
     "data": {
      "application/vnd.jupyter.widget-view+json": {
       "model_id": "e620e39193f7496ca93849570d898b2b",
       "version_major": 2,
       "version_minor": 0
      },
      "text/plain": [
       "HBox(children=(IntProgress(value=0, max=173), HTML(value='')))"
      ]
     },
     "metadata": {},
     "output_type": "display_data"
    },
    {
     "name": "stdout",
     "output_type": "stream",
     "text": [
      "Epoch: 3, Loss: 57.6537 (45.9772 + 10.9526 + 0.1617 + 0.5621)\n",
      "\n"
     ]
    },
    {
     "data": {
      "application/vnd.jupyter.widget-view+json": {
       "model_id": "880678ea5d814fa28f78dc4c053d92f7",
       "version_major": 2,
       "version_minor": 0
      },
      "text/plain": [
       "HBox(children=(IntProgress(value=0, max=173), HTML(value='')))"
      ]
     },
     "metadata": {},
     "output_type": "display_data"
    },
    {
     "name": "stdout",
     "output_type": "stream",
     "text": [
      "Epoch: 4, Loss: 53.0946 (41.6556 + 10.7085 + 0.1675 + 0.5631)\n",
      "\n"
     ]
    },
    {
     "data": {
      "application/vnd.jupyter.widget-view+json": {
       "model_id": "200337a853c540919089c741de9d4ec3",
       "version_major": 2,
       "version_minor": 0
      },
      "text/plain": [
       "HBox(children=(IntProgress(value=0, max=173), HTML(value='')))"
      ]
     },
     "metadata": {},
     "output_type": "display_data"
    },
    {
     "name": "stdout",
     "output_type": "stream",
     "text": [
      "Epoch: 5, Loss: 49.7905 (38.5677 + 10.4942 + 0.1669 + 0.5617)\n",
      "\n"
     ]
    },
    {
     "data": {
      "application/vnd.jupyter.widget-view+json": {
       "model_id": "fd01b7d11ee14a36bbca4d09de11ecad",
       "version_major": 2,
       "version_minor": 0
      },
      "text/plain": [
       "HBox(children=(IntProgress(value=0, max=173), HTML(value='')))"
      ]
     },
     "metadata": {},
     "output_type": "display_data"
    },
    {
     "name": "stdout",
     "output_type": "stream",
     "text": [
      "Epoch: 6, Loss: 46.6536 (35.6167 + 10.2967 + 0.1702 + 0.5700)\n",
      "\n"
     ]
    },
    {
     "data": {
      "application/vnd.jupyter.widget-view+json": {
       "model_id": "808be694288d424cab379849ee4f1482",
       "version_major": 2,
       "version_minor": 0
      },
      "text/plain": [
       "HBox(children=(IntProgress(value=0, max=173), HTML(value='')))"
      ]
     },
     "metadata": {},
     "output_type": "display_data"
    },
    {
     "name": "stdout",
     "output_type": "stream",
     "text": [
      "Epoch: 7, Loss: 42.8449 (31.9571 + 10.1366 + 0.1648 + 0.5864)\n",
      "\n"
     ]
    },
    {
     "data": {
      "application/vnd.jupyter.widget-view+json": {
       "model_id": "a48a73127d3f4617a93b68f9bfcceeab",
       "version_major": 2,
       "version_minor": 0
      },
      "text/plain": [
       "HBox(children=(IntProgress(value=0, max=173), HTML(value='')))"
      ]
     },
     "metadata": {},
     "output_type": "display_data"
    },
    {
     "name": "stdout",
     "output_type": "stream",
     "text": [
      "Epoch: 8, Loss: 40.2682 (29.6192 + 9.9044 + 0.1671 + 0.5776)\n",
      "\n"
     ]
    },
    {
     "data": {
      "application/vnd.jupyter.widget-view+json": {
       "model_id": "e59c9bfacb454e9d9747ef7c9e3ad66b",
       "version_major": 2,
       "version_minor": 0
      },
      "text/plain": [
       "HBox(children=(IntProgress(value=0, max=173), HTML(value='')))"
      ]
     },
     "metadata": {},
     "output_type": "display_data"
    },
    {
     "name": "stdout",
     "output_type": "stream",
     "text": [
      "Epoch: 9, Loss: 38.7210 (28.2383 + 9.7416 + 0.1667 + 0.5743)\n",
      "\n"
     ]
    },
    {
     "data": {
      "application/vnd.jupyter.widget-view+json": {
       "model_id": "3008ea53548b4f1e8963242339359e44",
       "version_major": 2,
       "version_minor": 0
      },
      "text/plain": [
       "HBox(children=(IntProgress(value=0, max=173), HTML(value='')))"
      ]
     },
     "metadata": {},
     "output_type": "display_data"
    },
    {
     "name": "stdout",
     "output_type": "stream",
     "text": [
      "Epoch: 10, Loss: 36.6293 (26.2867 + 9.5899 + 0.1705 + 0.5822)\n",
      "\n"
     ]
    },
    {
     "data": {
      "application/vnd.jupyter.widget-view+json": {
       "model_id": "03b6434785fb4154a0a686aa2020d9fe",
       "version_major": 2,
       "version_minor": 0
      },
      "text/plain": [
       "HBox(children=(IntProgress(value=0, max=173), HTML(value='')))"
      ]
     },
     "metadata": {},
     "output_type": "display_data"
    },
    {
     "name": "stdout",
     "output_type": "stream",
     "text": [
      "Epoch: 11, Loss: 33.8067 (23.6548 + 9.4026 + 0.1645 + 0.5848)\n",
      "\n"
     ]
    },
    {
     "data": {
      "application/vnd.jupyter.widget-view+json": {
       "model_id": "c6df534a7bb0441f9d8038ba05023837",
       "version_major": 2,
       "version_minor": 0
      },
      "text/plain": [
       "HBox(children=(IntProgress(value=0, max=173), HTML(value='')))"
      ]
     },
     "metadata": {},
     "output_type": "display_data"
    },
    {
     "name": "stdout",
     "output_type": "stream",
     "text": [
      "Epoch: 12, Loss: 31.9405 (21.9409 + 9.2503 + 0.1691 + 0.5803)\n",
      "\n"
     ]
    },
    {
     "data": {
      "application/vnd.jupyter.widget-view+json": {
       "model_id": "ffe9a701cb76460e9a5fba41d6ff4ac6",
       "version_major": 2,
       "version_minor": 0
      },
      "text/plain": [
       "HBox(children=(IntProgress(value=0, max=173), HTML(value='')))"
      ]
     },
     "metadata": {},
     "output_type": "display_data"
    },
    {
     "name": "stdout",
     "output_type": "stream",
     "text": [
      "Epoch: 13, Loss: 30.5330 (20.6755 + 9.1213 + 0.1712 + 0.5650)\n",
      "\n"
     ]
    },
    {
     "data": {
      "application/vnd.jupyter.widget-view+json": {
       "model_id": "1cedd71a60bf44278f794c5dddbd4ec3",
       "version_major": 2,
       "version_minor": 0
      },
      "text/plain": [
       "HBox(children=(IntProgress(value=0, max=173), HTML(value='')))"
      ]
     },
     "metadata": {},
     "output_type": "display_data"
    },
    {
     "name": "stdout",
     "output_type": "stream",
     "text": [
      "Epoch: 14, Loss: 29.2123 (19.4671 + 9.0053 + 0.1688 + 0.5710)\n",
      "\n"
     ]
    },
    {
     "data": {
      "application/vnd.jupyter.widget-view+json": {
       "model_id": "6ab1028d0c3a428c9b252de33bbb8fbc",
       "version_major": 2,
       "version_minor": 0
      },
      "text/plain": [
       "HBox(children=(IntProgress(value=0, max=173), HTML(value='')))"
      ]
     },
     "metadata": {},
     "output_type": "display_data"
    },
    {
     "name": "stdout",
     "output_type": "stream",
     "text": [
      "Epoch: 15, Loss: 27.2280 (17.6352 + 8.8381 + 0.1695 + 0.5851)\n",
      "\n"
     ]
    },
    {
     "data": {
      "application/vnd.jupyter.widget-view+json": {
       "model_id": "08657ebd48f946448109e9cbcea98785",
       "version_major": 2,
       "version_minor": 0
      },
      "text/plain": [
       "HBox(children=(IntProgress(value=0, max=173), HTML(value='')))"
      ]
     },
     "metadata": {},
     "output_type": "display_data"
    },
    {
     "name": "stdout",
     "output_type": "stream",
     "text": [
      "Epoch: 16, Loss: 27.1603 (17.6713 + 8.7507 + 0.1666 + 0.5717)\n",
      "\n"
     ]
    },
    {
     "data": {
      "application/vnd.jupyter.widget-view+json": {
       "model_id": "b7f30fa2aba945219d529b239130cb39",
       "version_major": 2,
       "version_minor": 0
      },
      "text/plain": [
       "HBox(children=(IntProgress(value=0, max=173), HTML(value='')))"
      ]
     },
     "metadata": {},
     "output_type": "display_data"
    },
    {
     "name": "stdout",
     "output_type": "stream",
     "text": [
      "Epoch: 17, Loss: 26.1062 (16.6839 + 8.6737 + 0.1675 + 0.5812)\n",
      "\n"
     ]
    },
    {
     "data": {
      "application/vnd.jupyter.widget-view+json": {
       "model_id": "ea8088887bdf47e3bd4ceedc8b348690",
       "version_major": 2,
       "version_minor": 0
      },
      "text/plain": [
       "HBox(children=(IntProgress(value=0, max=173), HTML(value='')))"
      ]
     },
     "metadata": {},
     "output_type": "display_data"
    },
    {
     "name": "stdout",
     "output_type": "stream",
     "text": [
      "Epoch: 18, Loss: 24.2338 (14.9411 + 8.5515 + 0.1642 + 0.5771)\n",
      "\n"
     ]
    },
    {
     "data": {
      "application/vnd.jupyter.widget-view+json": {
       "model_id": "b210a5483c2a4d5c90b2d6220ae06224",
       "version_major": 2,
       "version_minor": 0
      },
      "text/plain": [
       "HBox(children=(IntProgress(value=0, max=173), HTML(value='')))"
      ]
     },
     "metadata": {},
     "output_type": "display_data"
    },
    {
     "name": "stdout",
     "output_type": "stream",
     "text": [
      "Epoch: 19, Loss: 23.8933 (14.6930 + 8.4521 + 0.1660 + 0.5821)\n",
      "\n"
     ]
    },
    {
     "data": {
      "application/vnd.jupyter.widget-view+json": {
       "model_id": "b195fbfba49549b1b00f900ec290df1b",
       "version_major": 2,
       "version_minor": 0
      },
      "text/plain": [
       "HBox(children=(IntProgress(value=0, max=173), HTML(value='')))"
      ]
     },
     "metadata": {},
     "output_type": "display_data"
    },
    {
     "name": "stdout",
     "output_type": "stream",
     "text": [
      "Epoch: 20, Loss: 23.2372 (14.1697 + 8.3189 + 0.1630 + 0.5856)\n",
      "\n"
     ]
    },
    {
     "data": {
      "application/vnd.jupyter.widget-view+json": {
       "model_id": "25851cfb150445a492977a5142661df2",
       "version_major": 2,
       "version_minor": 0
      },
      "text/plain": [
       "HBox(children=(IntProgress(value=0, max=173), HTML(value='')))"
      ]
     },
     "metadata": {},
     "output_type": "display_data"
    },
    {
     "name": "stdout",
     "output_type": "stream",
     "text": [
      "Epoch: 21, Loss: 22.9635 (13.8864 + 8.3090 + 0.1667 + 0.6015)\n",
      "\n"
     ]
    },
    {
     "data": {
      "application/vnd.jupyter.widget-view+json": {
       "model_id": "81e1ad08aa074012a7c4e85f1c703a26",
       "version_major": 2,
       "version_minor": 0
      },
      "text/plain": [
       "HBox(children=(IntProgress(value=0, max=173), HTML(value='')))"
      ]
     },
     "metadata": {},
     "output_type": "display_data"
    },
    {
     "name": "stdout",
     "output_type": "stream",
     "text": [
      "Epoch: 22, Loss: 23.2675 (14.3292 + 8.2111 + 0.1662 + 0.5610)\n",
      "\n"
     ]
    },
    {
     "data": {
      "application/vnd.jupyter.widget-view+json": {
       "model_id": "8207fbd62e974e7da1c26fffc082d34e",
       "version_major": 2,
       "version_minor": 0
      },
      "text/plain": [
       "HBox(children=(IntProgress(value=0, max=173), HTML(value='')))"
      ]
     },
     "metadata": {},
     "output_type": "display_data"
    },
    {
     "name": "stdout",
     "output_type": "stream",
     "text": [
      "Epoch: 23, Loss: 22.5513 (13.5809 + 8.2423 + 0.1660 + 0.5621)\n",
      "\n"
     ]
    },
    {
     "data": {
      "application/vnd.jupyter.widget-view+json": {
       "model_id": "cd2f36198270478f914e4cd10173d41c",
       "version_major": 2,
       "version_minor": 0
      },
      "text/plain": [
       "HBox(children=(IntProgress(value=0, max=173), HTML(value='')))"
      ]
     },
     "metadata": {},
     "output_type": "display_data"
    },
    {
     "name": "stdout",
     "output_type": "stream",
     "text": [
      "Epoch: 24, Loss: 21.6192 (12.8306 + 8.0306 + 0.1673 + 0.5907)\n",
      "\n"
     ]
    },
    {
     "data": {
      "application/vnd.jupyter.widget-view+json": {
       "model_id": "b7f775da2aab47b8b5c9f5046636b089",
       "version_major": 2,
       "version_minor": 0
      },
      "text/plain": [
       "HBox(children=(IntProgress(value=0, max=173), HTML(value='')))"
      ]
     },
     "metadata": {},
     "output_type": "display_data"
    },
    {
     "name": "stdout",
     "output_type": "stream",
     "text": [
      "Epoch: 25, Loss: 20.5364 (11.7437 + 8.0455 + 0.1671 + 0.5801)\n",
      "\n"
     ]
    },
    {
     "data": {
      "application/vnd.jupyter.widget-view+json": {
       "model_id": "9c119450cc1741229c3a32575cc385a1",
       "version_major": 2,
       "version_minor": 0
      },
      "text/plain": [
       "HBox(children=(IntProgress(value=0, max=173), HTML(value='')))"
      ]
     },
     "metadata": {},
     "output_type": "display_data"
    },
    {
     "name": "stdout",
     "output_type": "stream",
     "text": [
      "Epoch: 26, Loss: 20.4992 (11.8751 + 7.8780 + 0.1645 + 0.5816)\n",
      "\n"
     ]
    },
    {
     "data": {
      "application/vnd.jupyter.widget-view+json": {
       "model_id": "5c4da792062f422b9c1e7bdd077aa169",
       "version_major": 2,
       "version_minor": 0
      },
      "text/plain": [
       "HBox(children=(IntProgress(value=0, max=173), HTML(value='')))"
      ]
     },
     "metadata": {},
     "output_type": "display_data"
    },
    {
     "name": "stdout",
     "output_type": "stream",
     "text": [
      "Epoch: 27, Loss: 19.5263 (10.9788 + 7.8128 + 0.1628 + 0.5720)\n",
      "\n"
     ]
    },
    {
     "data": {
      "application/vnd.jupyter.widget-view+json": {
       "model_id": "d6b674e845144f4c8d6d74a9a4784789",
       "version_major": 2,
       "version_minor": 0
      },
      "text/plain": [
       "HBox(children=(IntProgress(value=0, max=173), HTML(value='')))"
      ]
     },
     "metadata": {},
     "output_type": "display_data"
    },
    {
     "name": "stdout",
     "output_type": "stream",
     "text": [
      "Epoch: 28, Loss: 19.0366 (10.5264 + 7.7690 + 0.1667 + 0.5745)\n",
      "\n"
     ]
    },
    {
     "data": {
      "application/vnd.jupyter.widget-view+json": {
       "model_id": "d48e1fd0c18647d890f3214441e7d5ff",
       "version_major": 2,
       "version_minor": 0
      },
      "text/plain": [
       "HBox(children=(IntProgress(value=0, max=173), HTML(value='')))"
      ]
     },
     "metadata": {},
     "output_type": "display_data"
    },
    {
     "name": "stdout",
     "output_type": "stream",
     "text": [
      "Epoch: 29, Loss: 18.6299 (10.2938 + 7.5967 + 0.1671 + 0.5723)\n",
      "\n"
     ]
    },
    {
     "data": {
      "application/vnd.jupyter.widget-view+json": {
       "model_id": "1fa09c115e9d4a9b955bfe43b0e07fe4",
       "version_major": 2,
       "version_minor": 0
      },
      "text/plain": [
       "HBox(children=(IntProgress(value=0, max=173), HTML(value='')))"
      ]
     },
     "metadata": {},
     "output_type": "display_data"
    },
    {
     "name": "stdout",
     "output_type": "stream",
     "text": [
      "Epoch: 30, Loss: 18.3464 (9.9833 + 7.6275 + 0.1648 + 0.5708)\n",
      "\n"
     ]
    },
    {
     "data": {
      "application/vnd.jupyter.widget-view+json": {
       "model_id": "abdadc1f1ef44601b3048a976a4dd22d",
       "version_major": 2,
       "version_minor": 0
      },
      "text/plain": [
       "HBox(children=(IntProgress(value=0, max=173), HTML(value='')))"
      ]
     },
     "metadata": {},
     "output_type": "display_data"
    },
    {
     "name": "stdout",
     "output_type": "stream",
     "text": [
      "Epoch: 31, Loss: 17.6394 (9.3721 + 7.5482 + 0.1649 + 0.5542)\n",
      "\n"
     ]
    },
    {
     "data": {
      "application/vnd.jupyter.widget-view+json": {
       "model_id": "585e0d2d951c41a3a0b90d15f6912f7b",
       "version_major": 2,
       "version_minor": 0
      },
      "text/plain": [
       "HBox(children=(IntProgress(value=0, max=173), HTML(value='')))"
      ]
     },
     "metadata": {},
     "output_type": "display_data"
    },
    {
     "name": "stdout",
     "output_type": "stream",
     "text": [
      "Epoch: 32, Loss: 17.9236 (9.6125 + 7.5719 + 0.1686 + 0.5706)\n",
      "\n"
     ]
    },
    {
     "data": {
      "application/vnd.jupyter.widget-view+json": {
       "model_id": "08aba6b63bad4651b9010fce1f057dcb",
       "version_major": 2,
       "version_minor": 0
      },
      "text/plain": [
       "HBox(children=(IntProgress(value=0, max=173), HTML(value='')))"
      ]
     },
     "metadata": {},
     "output_type": "display_data"
    },
    {
     "name": "stdout",
     "output_type": "stream",
     "text": [
      "Epoch: 33, Loss: 17.2323 (9.0501 + 7.4466 + 0.1607 + 0.5748)\n",
      "\n"
     ]
    },
    {
     "data": {
      "application/vnd.jupyter.widget-view+json": {
       "model_id": "93e82bad172e4f54bbc07203df683fd5",
       "version_major": 2,
       "version_minor": 0
      },
      "text/plain": [
       "HBox(children=(IntProgress(value=0, max=173), HTML(value='')))"
      ]
     },
     "metadata": {},
     "output_type": "display_data"
    },
    {
     "name": "stdout",
     "output_type": "stream",
     "text": [
      "Epoch: 34, Loss: 17.9840 (9.7752 + 7.4692 + 0.1646 + 0.5750)\n",
      "\n"
     ]
    },
    {
     "data": {
      "application/vnd.jupyter.widget-view+json": {
       "model_id": "db3924b4843f4d98a7e73e60e0649da4",
       "version_major": 2,
       "version_minor": 0
      },
      "text/plain": [
       "HBox(children=(IntProgress(value=0, max=173), HTML(value='')))"
      ]
     },
     "metadata": {},
     "output_type": "display_data"
    },
    {
     "name": "stdout",
     "output_type": "stream",
     "text": [
      "Epoch: 35, Loss: 18.2418 (9.9527 + 7.5574 + 0.1637 + 0.5680)\n",
      "\n"
     ]
    },
    {
     "data": {
      "application/vnd.jupyter.widget-view+json": {
       "model_id": "681ec4cd13304666a380773826d188d3",
       "version_major": 2,
       "version_minor": 0
      },
      "text/plain": [
       "HBox(children=(IntProgress(value=0, max=173), HTML(value='')))"
      ]
     },
     "metadata": {},
     "output_type": "display_data"
    },
    {
     "name": "stdout",
     "output_type": "stream",
     "text": [
      "Epoch: 36, Loss: 15.3853 (7.4167 + 7.2402 + 0.1590 + 0.5693)\n",
      "\n"
     ]
    },
    {
     "data": {
      "application/vnd.jupyter.widget-view+json": {
       "model_id": "3e079298d8f341c5a54a5b4b57d98f40",
       "version_major": 2,
       "version_minor": 0
      },
      "text/plain": [
       "HBox(children=(IntProgress(value=0, max=173), HTML(value='')))"
      ]
     },
     "metadata": {},
     "output_type": "display_data"
    },
    {
     "name": "stdout",
     "output_type": "stream",
     "text": [
      "Epoch: 37, Loss: 15.7937 (7.8066 + 7.2602 + 0.1634 + 0.5636)\n",
      "\n"
     ]
    },
    {
     "data": {
      "application/vnd.jupyter.widget-view+json": {
       "model_id": "673cff899a7947eaa7dac2f07f63c0b3",
       "version_major": 2,
       "version_minor": 0
      },
      "text/plain": [
       "HBox(children=(IntProgress(value=0, max=173), HTML(value='')))"
      ]
     },
     "metadata": {},
     "output_type": "display_data"
    },
    {
     "name": "stdout",
     "output_type": "stream",
     "text": [
      "Epoch: 38, Loss: 16.1182 (8.0615 + 7.3307 + 0.1610 + 0.5651)\n",
      "\n"
     ]
    },
    {
     "data": {
      "application/vnd.jupyter.widget-view+json": {
       "model_id": "3ed9bfdca34e45698dae8d46ca03096f",
       "version_major": 2,
       "version_minor": 0
      },
      "text/plain": [
       "HBox(children=(IntProgress(value=0, max=173), HTML(value='')))"
      ]
     },
     "metadata": {},
     "output_type": "display_data"
    },
    {
     "name": "stdout",
     "output_type": "stream",
     "text": [
      "Epoch: 39, Loss: 15.1496 (7.2508 + 7.1667 + 0.1593 + 0.5728)\n",
      "\n"
     ]
    },
    {
     "data": {
      "application/vnd.jupyter.widget-view+json": {
       "model_id": "eccdfe4ef3274a439d33b1a88e686e70",
       "version_major": 2,
       "version_minor": 0
      },
      "text/plain": [
       "HBox(children=(IntProgress(value=0, max=173), HTML(value='')))"
      ]
     },
     "metadata": {},
     "output_type": "display_data"
    },
    {
     "name": "stdout",
     "output_type": "stream",
     "text": [
      "Epoch: 40, Loss: 15.4565 (7.4881 + 7.2395 + 0.1633 + 0.5656)\n",
      "\n"
     ]
    },
    {
     "data": {
      "application/vnd.jupyter.widget-view+json": {
       "model_id": "889aa0db4b6a4bd4b3ee4a1657fc4549",
       "version_major": 2,
       "version_minor": 0
      },
      "text/plain": [
       "HBox(children=(IntProgress(value=0, max=173), HTML(value='')))"
      ]
     },
     "metadata": {},
     "output_type": "display_data"
    },
    {
     "name": "stdout",
     "output_type": "stream",
     "text": [
      "Epoch: 41, Loss: 15.0879 (7.2951 + 7.0545 + 0.1629 + 0.5754)\n",
      "\n"
     ]
    },
    {
     "data": {
      "application/vnd.jupyter.widget-view+json": {
       "model_id": "49992aa5d45142c88f579cbb4a4cc046",
       "version_major": 2,
       "version_minor": 0
      },
      "text/plain": [
       "HBox(children=(IntProgress(value=0, max=173), HTML(value='')))"
      ]
     },
     "metadata": {},
     "output_type": "display_data"
    },
    {
     "name": "stdout",
     "output_type": "stream",
     "text": [
      "Epoch: 42, Loss: 14.7897 (6.9896 + 7.0761 + 0.1670 + 0.5570)\n",
      "\n"
     ]
    },
    {
     "data": {
      "application/vnd.jupyter.widget-view+json": {
       "model_id": "4aa4c3f1b1ce434eb657c9f387c01a98",
       "version_major": 2,
       "version_minor": 0
      },
      "text/plain": [
       "HBox(children=(IntProgress(value=0, max=173), HTML(value='')))"
      ]
     },
     "metadata": {},
     "output_type": "display_data"
    },
    {
     "name": "stdout",
     "output_type": "stream",
     "text": [
      "Epoch: 43, Loss: 12.7143 (5.1976 + 6.7960 + 0.1597 + 0.5609)\n",
      "\n"
     ]
    },
    {
     "data": {
      "application/vnd.jupyter.widget-view+json": {
       "model_id": "ddc6974a4b6f4dc98e472d257a7e0511",
       "version_major": 2,
       "version_minor": 0
      },
      "text/plain": [
       "HBox(children=(IntProgress(value=0, max=173), HTML(value='')))"
      ]
     },
     "metadata": {},
     "output_type": "display_data"
    },
    {
     "name": "stdout",
     "output_type": "stream",
     "text": [
      "Epoch: 44, Loss: 11.8361 (4.4135 + 6.6778 + 0.1566 + 0.5881)\n",
      "\n"
     ]
    },
    {
     "data": {
      "application/vnd.jupyter.widget-view+json": {
       "model_id": "2330c4d7cb924e84987dfd194105b1c4",
       "version_major": 2,
       "version_minor": 0
      },
      "text/plain": [
       "HBox(children=(IntProgress(value=0, max=173), HTML(value='')))"
      ]
     },
     "metadata": {},
     "output_type": "display_data"
    },
    {
     "name": "stdout",
     "output_type": "stream",
     "text": [
      "Epoch: 45, Loss: 11.6587 (4.3203 + 6.6114 + 0.1568 + 0.5702)\n",
      "\n"
     ]
    },
    {
     "data": {
      "application/vnd.jupyter.widget-view+json": {
       "model_id": "0fc2dd00889349eda8cfc4688f0ea7eb",
       "version_major": 2,
       "version_minor": 0
      },
      "text/plain": [
       "HBox(children=(IntProgress(value=0, max=173), HTML(value='')))"
      ]
     },
     "metadata": {},
     "output_type": "display_data"
    },
    {
     "name": "stdout",
     "output_type": "stream",
     "text": [
      "Epoch: 46, Loss: 11.1219 (3.8358 + 6.5659 + 0.1549 + 0.5654)\n",
      "\n"
     ]
    },
    {
     "data": {
      "application/vnd.jupyter.widget-view+json": {
       "model_id": "8a61c9095f0e4264b30690f2c741bf83",
       "version_major": 2,
       "version_minor": 0
      },
      "text/plain": [
       "HBox(children=(IntProgress(value=0, max=173), HTML(value='')))"
      ]
     },
     "metadata": {},
     "output_type": "display_data"
    },
    {
     "name": "stdout",
     "output_type": "stream",
     "text": [
      "Epoch: 47, Loss: 11.3996 (4.1892 + 6.5057 + 0.1558 + 0.5489)\n",
      "\n"
     ]
    },
    {
     "data": {
      "application/vnd.jupyter.widget-view+json": {
       "model_id": "145b1fceeb2c4396b462dad3ebb6a983",
       "version_major": 2,
       "version_minor": 0
      },
      "text/plain": [
       "HBox(children=(IntProgress(value=0, max=173), HTML(value='')))"
      ]
     },
     "metadata": {},
     "output_type": "display_data"
    },
    {
     "name": "stdout",
     "output_type": "stream",
     "text": [
      "Epoch: 48, Loss: 11.2846 (4.0154 + 6.5483 + 0.1557 + 0.5653)\n",
      "\n"
     ]
    },
    {
     "data": {
      "application/vnd.jupyter.widget-view+json": {
       "model_id": "efe3a39a2cae4036b437d0917d1757d9",
       "version_major": 2,
       "version_minor": 0
      },
      "text/plain": [
       "HBox(children=(IntProgress(value=0, max=173), HTML(value='')))"
      ]
     },
     "metadata": {},
     "output_type": "display_data"
    },
    {
     "name": "stdout",
     "output_type": "stream",
     "text": [
      "Epoch: 49, Loss: 10.9771 (3.7675 + 6.4854 + 0.1561 + 0.5681)\n",
      "\n"
     ]
    },
    {
     "data": {
      "application/vnd.jupyter.widget-view+json": {
       "model_id": "9598245529434705ba9330b5912788e3",
       "version_major": 2,
       "version_minor": 0
      },
      "text/plain": [
       "HBox(children=(IntProgress(value=0, max=173), HTML(value='')))"
      ]
     },
     "metadata": {},
     "output_type": "display_data"
    },
    {
     "name": "stdout",
     "output_type": "stream",
     "text": [
      "Epoch: 50, Loss: 11.3018 (4.0990 + 6.5064 + 0.1537 + 0.5427)\n",
      "\n"
     ]
    },
    {
     "data": {
      "application/vnd.jupyter.widget-view+json": {
       "model_id": "32e9a5ea39cc4859a861425bb7cb683b",
       "version_major": 2,
       "version_minor": 0
      },
      "text/plain": [
       "HBox(children=(IntProgress(value=0, max=173), HTML(value='')))"
      ]
     },
     "metadata": {},
     "output_type": "display_data"
    },
    {
     "name": "stdout",
     "output_type": "stream",
     "text": [
      "Epoch: 51, Loss: 11.1256 (3.9153 + 6.5022 + 0.1540 + 0.5542)\n",
      "\n"
     ]
    },
    {
     "data": {
      "application/vnd.jupyter.widget-view+json": {
       "model_id": "3f257657b6d64366b5dc1e0de2a6d178",
       "version_major": 2,
       "version_minor": 0
      },
      "text/plain": [
       "HBox(children=(IntProgress(value=0, max=173), HTML(value='')))"
      ]
     },
     "metadata": {},
     "output_type": "display_data"
    },
    {
     "name": "stdout",
     "output_type": "stream",
     "text": [
      "Epoch: 52, Loss: 10.8133 (3.6634 + 6.4550 + 0.1529 + 0.5420)\n",
      "\n"
     ]
    },
    {
     "data": {
      "application/vnd.jupyter.widget-view+json": {
       "model_id": "76fcbd560e9341f2ac15869f3989cc2b",
       "version_major": 2,
       "version_minor": 0
      },
      "text/plain": [
       "HBox(children=(IntProgress(value=0, max=173), HTML(value='')))"
      ]
     },
     "metadata": {},
     "output_type": "display_data"
    },
    {
     "name": "stdout",
     "output_type": "stream",
     "text": [
      "Epoch: 53, Loss: 11.0403 (3.8993 + 6.4398 + 0.1516 + 0.5496)\n",
      "\n"
     ]
    },
    {
     "data": {
      "application/vnd.jupyter.widget-view+json": {
       "model_id": "896fe14633f844489e33e2ea58585319",
       "version_major": 2,
       "version_minor": 0
      },
      "text/plain": [
       "HBox(children=(IntProgress(value=0, max=173), HTML(value='')))"
      ]
     },
     "metadata": {},
     "output_type": "display_data"
    },
    {
     "name": "stdout",
     "output_type": "stream",
     "text": [
      "Epoch: 54, Loss: 10.8110 (3.6654 + 6.4366 + 0.1550 + 0.5540)\n",
      "\n"
     ]
    },
    {
     "data": {
      "application/vnd.jupyter.widget-view+json": {
       "model_id": "1475150bf13047498c1ef6685af853cf",
       "version_major": 2,
       "version_minor": 0
      },
      "text/plain": [
       "HBox(children=(IntProgress(value=0, max=173), HTML(value='')))"
      ]
     },
     "metadata": {},
     "output_type": "display_data"
    },
    {
     "name": "stdout",
     "output_type": "stream",
     "text": [
      "Epoch: 55, Loss: 10.7499 (3.6842 + 6.3762 + 0.1553 + 0.5342)\n",
      "\n"
     ]
    },
    {
     "data": {
      "application/vnd.jupyter.widget-view+json": {
       "model_id": "7a1f7e1f6b544ddebeab2bea3563064b",
       "version_major": 2,
       "version_minor": 0
      },
      "text/plain": [
       "HBox(children=(IntProgress(value=0, max=173), HTML(value='')))"
      ]
     },
     "metadata": {},
     "output_type": "display_data"
    },
    {
     "name": "stdout",
     "output_type": "stream",
     "text": [
      "Epoch: 56, Loss: 10.6559 (3.5853 + 6.3669 + 0.1535 + 0.5503)\n",
      "\n"
     ]
    },
    {
     "data": {
      "application/vnd.jupyter.widget-view+json": {
       "model_id": "dd114eaf90b747618086a17bdf55057b",
       "version_major": 2,
       "version_minor": 0
      },
      "text/plain": [
       "HBox(children=(IntProgress(value=0, max=173), HTML(value='')))"
      ]
     },
     "metadata": {},
     "output_type": "display_data"
    },
    {
     "name": "stdout",
     "output_type": "stream",
     "text": [
      "Epoch: 57, Loss: 10.9364 (3.8456 + 6.3911 + 0.1530 + 0.5467)\n",
      "\n"
     ]
    },
    {
     "data": {
      "application/vnd.jupyter.widget-view+json": {
       "model_id": "43ebdb273d8c439cabc3a5e1212e5ff2",
       "version_major": 2,
       "version_minor": 0
      },
      "text/plain": [
       "HBox(children=(IntProgress(value=0, max=173), HTML(value='')))"
      ]
     },
     "metadata": {},
     "output_type": "display_data"
    },
    {
     "name": "stdout",
     "output_type": "stream",
     "text": [
      "Epoch: 58, Loss: 10.7214 (3.6088 + 6.4111 + 0.1532 + 0.5483)\n",
      "\n"
     ]
    },
    {
     "data": {
      "application/vnd.jupyter.widget-view+json": {
       "model_id": "4785b6fab99c47b8bdd0ee31d60a402a",
       "version_major": 2,
       "version_minor": 0
      },
      "text/plain": [
       "HBox(children=(IntProgress(value=0, max=173), HTML(value='')))"
      ]
     },
     "metadata": {},
     "output_type": "display_data"
    },
    {
     "name": "stdout",
     "output_type": "stream",
     "text": [
      "Epoch: 59, Loss: 10.4328 (3.3655 + 6.3553 + 0.1530 + 0.5591)\n",
      "\n"
     ]
    },
    {
     "data": {
      "application/vnd.jupyter.widget-view+json": {
       "model_id": "aac1f0b7484e430db56dba8184d5be48",
       "version_major": 2,
       "version_minor": 0
      },
      "text/plain": [
       "HBox(children=(IntProgress(value=0, max=173), HTML(value='')))"
      ]
     },
     "metadata": {},
     "output_type": "display_data"
    },
    {
     "name": "stdout",
     "output_type": "stream",
     "text": [
      "Epoch: 60, Loss: 10.6826 (3.6724 + 6.3069 + 0.1544 + 0.5489)\n",
      "\n"
     ]
    },
    {
     "data": {
      "application/vnd.jupyter.widget-view+json": {
       "model_id": "7f3b7095a1214dc88f4460bfa0bb6199",
       "version_major": 2,
       "version_minor": 0
      },
      "text/plain": [
       "HBox(children=(IntProgress(value=0, max=173), HTML(value='')))"
      ]
     },
     "metadata": {},
     "output_type": "display_data"
    },
    {
     "name": "stdout",
     "output_type": "stream",
     "text": [
      "Epoch: 61, Loss: 10.7188 (3.6382 + 6.3625 + 0.1523 + 0.5659)\n",
      "\n"
     ]
    },
    {
     "data": {
      "application/vnd.jupyter.widget-view+json": {
       "model_id": "2e9c702ae27f4560bbe8a39540a3c97a",
       "version_major": 2,
       "version_minor": 0
      },
      "text/plain": [
       "HBox(children=(IntProgress(value=0, max=173), HTML(value='')))"
      ]
     },
     "metadata": {},
     "output_type": "display_data"
    },
    {
     "name": "stdout",
     "output_type": "stream",
     "text": [
      "Epoch: 62, Loss: 10.6368 (3.5646 + 6.3540 + 0.1550 + 0.5632)\n",
      "\n"
     ]
    },
    {
     "data": {
      "application/vnd.jupyter.widget-view+json": {
       "model_id": "16623b59370b473681f39261679423dd",
       "version_major": 2,
       "version_minor": 0
      },
      "text/plain": [
       "HBox(children=(IntProgress(value=0, max=173), HTML(value='')))"
      ]
     },
     "metadata": {},
     "output_type": "display_data"
    },
    {
     "name": "stdout",
     "output_type": "stream",
     "text": [
      "Epoch: 63, Loss: 10.2837 (3.2529 + 6.3274 + 0.1545 + 0.5488)\n",
      "\n"
     ]
    },
    {
     "data": {
      "application/vnd.jupyter.widget-view+json": {
       "model_id": "8630308c4b294b3cbb9de7dc0a6593c1",
       "version_major": 2,
       "version_minor": 0
      },
      "text/plain": [
       "HBox(children=(IntProgress(value=0, max=173), HTML(value='')))"
      ]
     },
     "metadata": {},
     "output_type": "display_data"
    },
    {
     "name": "stdout",
     "output_type": "stream",
     "text": [
      "Epoch: 64, Loss: 10.1324 (3.0719 + 6.3305 + 0.1553 + 0.5747)\n",
      "\n"
     ]
    },
    {
     "data": {
      "application/vnd.jupyter.widget-view+json": {
       "model_id": "a2b7912e60724e4db48bfb8f110c6e13",
       "version_major": 2,
       "version_minor": 0
      },
      "text/plain": [
       "HBox(children=(IntProgress(value=0, max=173), HTML(value='')))"
      ]
     },
     "metadata": {},
     "output_type": "display_data"
    },
    {
     "name": "stdout",
     "output_type": "stream",
     "text": [
      "Epoch: 65, Loss: 10.8039 (3.7639 + 6.3416 + 0.1514 + 0.5470)\n",
      "\n"
     ]
    },
    {
     "data": {
      "application/vnd.jupyter.widget-view+json": {
       "model_id": "cfe14291d3354feaab374208ea524fbc",
       "version_major": 2,
       "version_minor": 0
      },
      "text/plain": [
       "HBox(children=(IntProgress(value=0, max=173), HTML(value='')))"
      ]
     },
     "metadata": {},
     "output_type": "display_data"
    },
    {
     "name": "stdout",
     "output_type": "stream",
     "text": [
      "Epoch: 66, Loss: 10.3190 (3.2840 + 6.3361 + 0.1530 + 0.5459)\n",
      "\n"
     ]
    },
    {
     "data": {
      "application/vnd.jupyter.widget-view+json": {
       "model_id": "c9d2a0ed5e5848b19ccc33ab1ae44c77",
       "version_major": 2,
       "version_minor": 0
      },
      "text/plain": [
       "HBox(children=(IntProgress(value=0, max=173), HTML(value='')))"
      ]
     },
     "metadata": {},
     "output_type": "display_data"
    },
    {
     "name": "stdout",
     "output_type": "stream",
     "text": [
      "Epoch: 67, Loss: 10.6268 (3.6005 + 6.3309 + 0.1509 + 0.5445)\n",
      "\n"
     ]
    },
    {
     "data": {
      "application/vnd.jupyter.widget-view+json": {
       "model_id": "e217eab378d14bf5a46ac6eb332ea6ba",
       "version_major": 2,
       "version_minor": 0
      },
      "text/plain": [
       "HBox(children=(IntProgress(value=0, max=173), HTML(value='')))"
      ]
     },
     "metadata": {},
     "output_type": "display_data"
    },
    {
     "name": "stdout",
     "output_type": "stream",
     "text": [
      "Epoch: 68, Loss: 9.9990 (2.9934 + 6.3072 + 0.1517 + 0.5467)\n",
      "\n"
     ]
    },
    {
     "data": {
      "application/vnd.jupyter.widget-view+json": {
       "model_id": "71218f01203d4d2c9ec1ee12fdaff780",
       "version_major": 2,
       "version_minor": 0
      },
      "text/plain": [
       "HBox(children=(IntProgress(value=0, max=173), HTML(value='')))"
      ]
     },
     "metadata": {},
     "output_type": "display_data"
    },
    {
     "name": "stdout",
     "output_type": "stream",
     "text": [
      "Epoch: 69, Loss: 10.2949 (3.2880 + 6.3024 + 0.1521 + 0.5524)\n",
      "\n",
      "\n"
     ]
    }
   ],
   "source": [
    "trainer = Trainer()\n",
    "trainer.train()"
   ]
  },
  {
   "cell_type": "code",
   "execution_count": 5,
   "metadata": {},
   "outputs": [
    {
     "name": "stdout",
     "output_type": "stream",
     "text": [
      "Model weight saved.\n",
      "Model weight saved.\n"
     ]
    }
   ],
   "source": [
    "trainer.save_model()\n",
    "trainer.save_model(cover=True)"
   ]
  },
  {
   "cell_type": "markdown",
   "metadata": {},
   "source": [
    "# Eval"
   ]
  },
  {
   "cell_type": "code",
   "execution_count": 15,
   "metadata": {
    "scrolled": true
   },
   "outputs": [
    {
     "name": "stdout",
     "output_type": "stream",
     "text": [
      "Pretrained model loaded.\n"
     ]
    }
   ],
   "source": [
    "trainer = Trainer()"
   ]
  },
  {
   "cell_type": "code",
   "execution_count": 6,
   "metadata": {},
   "outputs": [
    {
     "data": {
      "text/plain": [
       "{'r1': <utils.AverageMeter at 0x7f70f82c6110>,\n",
       " 'r5': <utils.AverageMeter at 0x7f70f82c6fd0>,\n",
       " 'r10': <utils.AverageMeter at 0x7f70f82c6090>,\n",
       " 'MAP': <utils.AverageMeter at 0x7f7110047bd0>}"
      ]
     },
     "execution_count": 6,
     "metadata": {},
     "output_type": "execute_result"
    }
   ],
   "source": [
    "trainer.eval_performance(data_loader['gallery'], data_loader['probe'])"
   ]
  },
  {
   "cell_type": "code",
   "execution_count": 8,
   "metadata": {},
   "outputs": [
    {
     "data": {
      "text/plain": [
       "(28.800475059382425,\n",
       " 46.229216152019006,\n",
       " 54.156769596199524,\n",
       " 14.502431344829569)"
      ]
     },
     "execution_count": 8,
     "metadata": {},
     "output_type": "execute_result"
    }
   ],
   "source": [
    "trainer.r1, trainer.r5, trainer.r10, trainer.MAP"
   ]
  },
  {
   "cell_type": "code",
   "execution_count": null,
   "metadata": {},
   "outputs": [],
   "source": [
    "exit()"
   ]
  }
 ],
 "metadata": {
  "kernelspec": {
   "display_name": "Python 3",
   "language": "python",
   "name": "python3"
  },
  "language_info": {
   "codemirror_mode": {
    "name": "ipython",
    "version": 3
   },
   "file_extension": ".py",
   "mimetype": "text/x-python",
   "name": "python",
   "nbconvert_exporter": "python",
   "pygments_lexer": "ipython3",
   "version": "3.7.4"
  },
  "toc": {
   "base_numbering": 1,
   "nav_menu": {},
   "number_sections": true,
   "sideBar": true,
   "skip_h1_title": false,
   "title_cell": "Table of Contents",
   "title_sidebar": "Contents",
   "toc_cell": false,
   "toc_position": {},
   "toc_section_display": true,
   "toc_window_display": false
  },
  "varInspector": {
   "cols": {
    "lenName": 16,
    "lenType": 16,
    "lenVar": 40
   },
   "kernels_config": {
    "python": {
     "delete_cmd_postfix": "",
     "delete_cmd_prefix": "del ",
     "library": "var_list.py",
     "varRefreshCmd": "print(var_dic_list())"
    },
    "r": {
     "delete_cmd_postfix": ") ",
     "delete_cmd_prefix": "rm(",
     "library": "var_list.r",
     "varRefreshCmd": "cat(var_dic_list()) "
    }
   },
   "position": {
    "height": "803.217px",
    "left": "1568.33px",
    "right": "20px",
    "top": "89px",
    "width": "350px"
   },
   "types_to_exclude": [
    "module",
    "function",
    "builtin_function_or_method",
    "instance",
    "_Feature"
   ],
   "window_display": false
  }
 },
 "nbformat": 4,
 "nbformat_minor": 2
}
