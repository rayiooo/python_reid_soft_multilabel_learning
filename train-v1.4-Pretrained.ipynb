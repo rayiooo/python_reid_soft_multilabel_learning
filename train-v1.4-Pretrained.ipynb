{
 "cells": [
  {
   "cell_type": "code",
   "execution_count": 1,
   "metadata": {},
   "outputs": [
    {
     "name": "stdout",
     "output_type": "stream",
     "text": [
      "Device: cuda\n"
     ]
    }
   ],
   "source": [
    "import matplotlib.pyplot as plt\n",
    "import os\n",
    "import time\n",
    "import torch\n",
    "import torch.nn as nn\n",
    "import torch.nn.functional as F\n",
    "from models.resnet import resnet50\n",
    "from my_dataset import MyDataset\n",
    "from my_lossfunc import JointLoss, MultilabelLoss, DiscriminativeLoss\n",
    "from my_transform import data_transforms\n",
    "from PIL import Image\n",
    "from scipy.spatial.distance import pdist, cdist  # 一集合点距, 两集合点距\n",
    "from torch.utils.data import DataLoader\n",
    "from tqdm import tnrange\n",
    "from tqdm import tqdm_notebook as tqdm\n",
    "from utils import *\n",
    "\n",
    "os.environ[\"CUDA_VISIBLE_DEVICES\"] = \"0,1,2,3\"\n",
    "DEVICE = torch.device('cuda') if torch.cuda.is_available() else torch.device('cpu')\n",
    "print('Device:', DEVICE)\n",
    "\n",
    "\n",
    "BASE = '/home/zengrui/datasets'\n",
    "DUKE_DIR_TRAIN = f'{BASE}/ReID_Duke/bounding_box_train'\n",
    "DUKE_DIR_TEST = f'{BASE}/ReID_Duke/bounding_box_test'\n",
    "DUKE_DIR_QUERY = f'{BASE}/ReID_Duke/query'\n",
    "DUKE_IMG_AMOUNT = 16522\n",
    "DUKE_ID_AMOUNT = 1404\n",
    "MARKET_DIR_TRAIN = f'{BASE}/ReID_Market/bounding_box_train'\n",
    "MARKET_DIR_TEST = f'{BASE}/ReID_Market/bounding_box_test'\n",
    "MARKET_DIR_QUERY = f'{BASE}/ReID_Market/query'\n",
    "MARKET_IMG_AMOUNT = 12936\n",
    "MARKET_ID_AMOUNT = 1501\n",
    "\n",
    "SOURCE_DIR_TRAIN = [DUKE_DIR_TRAIN, DUKE_DIR_TEST]\n",
    "TARGET_DIR_TRAIN = MARKET_DIR_TRAIN\n",
    "TARGET_DIR_GALLERY = MARKET_DIR_TEST\n",
    "TARGET_DIR_PROBE = MARKET_DIR_QUERY\n",
    "ML_PATH = 'data/ml_Market.dat'\n",
    "PRETRAIN_PATH = 'data/pretrained_weight.pkl'\n",
    "PRETRAIN_OUT_PATH = 'data/pretrained_weight_{}.pkl'\n",
    "\n",
    "BATCH_SIZE = 96\n",
    "EPOCH = 20\n",
    "LR = 2e-4\n",
    "\n",
    "BETA = 0.2\n",
    "IMG_SIZE = (384, 128)\n",
    "LAMB1 = 2e-4\n",
    "LAMB2 = 50\n",
    "MARGIN = 1\n",
    "MINING_RATIO = 0.005\n",
    "SCALA_CE = 30\n",
    "WD = 2.5e-2"
   ]
  },
  {
   "cell_type": "markdown",
   "metadata": {},
   "source": [
    "# Prepare Work"
   ]
  },
  {
   "cell_type": "code",
   "execution_count": 2,
   "metadata": {},
   "outputs": [
    {
     "data": {
      "text/plain": [
       "'data_loader: ok.'"
      ]
     },
     "execution_count": 2,
     "metadata": {},
     "output_type": "execute_result"
    }
   ],
   "source": [
    "# data loader\n",
    "data_loader = {\n",
    "    'source': DataLoader(\n",
    "        dataset=MyDataset(SOURCE_DIR_TRAIN, \n",
    "                          transform=data_transforms('train', size=IMG_SIZE),\n",
    "                          require_view=False,\n",
    "                          encode_label=True),\n",
    "        batch_size=BATCH_SIZE,\n",
    "        shuffle=True,\n",
    "    ),\n",
    "    'target': DataLoader(\n",
    "        dataset=MyDataset(TARGET_DIR_TRAIN,\n",
    "                          transform=data_transforms('train', size=IMG_SIZE),\n",
    "                          require_view=True,\n",
    "                          encode_label=True),\n",
    "        batch_size=BATCH_SIZE,\n",
    "        shuffle=True,\n",
    "    ),\n",
    "    'gallery': DataLoader(\n",
    "        dataset=MyDataset(TARGET_DIR_GALLERY,\n",
    "                          transform=data_transforms('val', size=IMG_SIZE),\n",
    "                          require_view=True),\n",
    "        batch_size=BATCH_SIZE,\n",
    "        shuffle=False,\n",
    "    ),\n",
    "    'probe': DataLoader(\n",
    "        dataset=MyDataset(TARGET_DIR_PROBE,\n",
    "                          transform=data_transforms('val', size=IMG_SIZE),\n",
    "                          require_view=True),\n",
    "        batch_size=BATCH_SIZE,\n",
    "        shuffle=False,\n",
    "    ),\n",
    "}\n",
    "SOURCE_ID_AMOUNT = len(set(data_loader['source'].dataset.label))\n",
    "TARGET_IMG_AMOUNT = len(data_loader['target'].dataset.data)\n",
    "'data_loader: ok.'"
   ]
  },
  {
   "cell_type": "markdown",
   "metadata": {},
   "source": [
    "# Trainer"
   ]
  },
  {
   "cell_type": "code",
   "execution_count": 3,
   "metadata": {},
   "outputs": [],
   "source": [
    "%matplotlib inline\n",
    "class Trainer(object):\n",
    "    def __init__(self):\n",
    "        \n",
    "        # 网络\n",
    "        self.net = resnet50(pretrained=True, \n",
    "                            num_classes=SOURCE_ID_AMOUNT)\n",
    "        self.net = nn.DataParallel(self.net).to(DEVICE)\n",
    "        if PRETRAIN_PATH is not None and os.path.exists(PRETRAIN_PATH):\n",
    "            self.net.load_state_dict(torch.load(PRETRAIN_PATH))\n",
    "            print('Pretrained model loaded.')\n",
    "        else:\n",
    "            print('Pretrained model not found. Train from scratch.')\n",
    "            \n",
    "        # 损失\n",
    "        self.mdl_loss = DiscriminativeLoss(MINING_RATIO).to(DEVICE)\n",
    "        self.al_loss = nn.CrossEntropyLoss().to(DEVICE)\n",
    "        self.rj_loss = JointLoss(MARGIN).to(DEVICE)  # lack 1 param\n",
    "        self.cml_loss = MultilabelLoss(BATCH_SIZE).to(DEVICE)\n",
    "        \n",
    "        # 优化器\n",
    "        bn_params, other_params = partition_params(self.net, 'bn')\n",
    "        self.optimizer = torch.optim.SGD([\n",
    "                {'params': bn_params, 'weight_decay': 0},\n",
    "                {'params': other_params},\n",
    "            ], lr=LR, momentum=0.9, weight_decay=WD\n",
    "        )\n",
    "        self.lr_scheduler = torch.optim.lr_scheduler.MultiStepLR(\n",
    "            self.optimizer, milestones=[int(EPOCH / 8 * 5), int(EPOCH / 8 * 7)])\n",
    "        \n",
    "        # 存储器\n",
    "        self.ml_mem = torch.zeros(TARGET_IMG_AMOUNT, SOURCE_ID_AMOUNT)\n",
    "        self.inited = self.ml_mem.sum(dim=1) != 0\n",
    "    \n",
    "    def train(self):\n",
    "        '''进行一次完整训练.'''\n",
    "        print('Training start. Epochs: %d' % EPOCH)\n",
    "        self.net.train()\n",
    "        for epoch in tnrange(EPOCH):\n",
    "            self.train_epoch(epoch)\n",
    "    \n",
    "    def train_epoch(self, epoch):\n",
    "        '''训练一个epoch.'''\n",
    "        stats = ('total', 'src', 'st', 'ml', 'tgt')\n",
    "        running_loss = {stat: AverageMeter() for stat in stats}\n",
    "        \n",
    "        if not self.mdl_loss.initialized:\n",
    "            self.init_losses(data_loader['target'])\n",
    "            self.net.train()\n",
    "        \n",
    "        with tqdm(total=len(data_loader['source'])) as pbar:\n",
    "            tgt_iter = iter(data_loader['target'])\n",
    "            for step, (ax, ay) in enumerate(data_loader['source']):\n",
    "                # a - source, b - target\n",
    "                ax = ax.to(DEVICE)\n",
    "                ay = ay.to(DEVICE)\n",
    "                try:\n",
    "                    b = next(tgt_iter)\n",
    "                except StopIteration:\n",
    "                    tgt_iter = iter(data_loader['target'])\n",
    "                    b = next(tgt_iter)\n",
    "                (bx, by, b_view, b_idx) = b\n",
    "                bx, by, b_view = bx.to(DEVICE), by.to(DEVICE), b_view.to(DEVICE)\n",
    "\n",
    "                a_f, a_sim, _ = self.net(ax)\n",
    "                b_f, b_sim, _ = self.net(bx)\n",
    "\n",
    "                loss = {stat: torch.Tensor([0]).to(DEVICE) \n",
    "                        for stat in stats}\n",
    "                \n",
    "                loss['src'] = self.al_loss(a_sim * SCALA_CE, ay)  # 有监督 交叉熵\n",
    "                \n",
    "                agents = self.net.module.fc.weight.renorm(2, 0, 1e-5).mul(1e5)  # 归一化 shape=(1404, 2048)\n",
    "                arange = torch.arange(len(agents)).cuda()\n",
    "                loss['st'] = self.rj_loss(agents.detach(), a_f, a_sim.detach(), ay, \n",
    "                                          b_f, b_sim.detach())\n",
    "                \n",
    "                with torch.no_grad():\n",
    "                    ml = F.softmax(b_f.mm(agents.t_() * SCALA_CE), dim=1)  # t_(): 转置并inplace\n",
    "                loss['ml'] = self.cml_loss(torch.log(ml), b_view)\n",
    "    \n",
    "                if epoch > 0:  # 为什么第一轮不算 mdl_loss 呢\n",
    "                    ml_cpu = ml.detach().cpu()\n",
    "                    is_inited_batch = self.inited[b_idx]\n",
    "                    inited_idx = b_idx[is_inited_batch]\n",
    "                    uninited_idx = b_idx[~is_inited_batch]\n",
    "                    self.ml_mem[uninited_idx] = ml_cpu[~is_inited_batch]  # 0标签满更新\n",
    "                    self.inited[uninited_idx] = True\n",
    "                    self.ml_mem[inited_idx] = 0.9 * self.ml_mem[inited_idx] \\\n",
    "                                            + 0.1 * ml_cpu[is_inited_batch]  # 非空标签小更新\n",
    "                    loss['tgt'] = self.mdl_loss(b_f, self.ml_mem[b_idx], by)\n",
    "\n",
    "                self.optimizer.zero_grad()\n",
    "                loss['total'] = loss['tgt'] + LAMB1 * loss['ml'] \\\n",
    "                              + LAMB2 * (loss['src'] + BETA * loss['st'])\n",
    "                loss['total'].backward()\n",
    "                self.optimizer.step()\n",
    "\n",
    "                for stat in stats:\n",
    "                    loss_cpu = float(loss[stat].data.cpu().numpy())\n",
    "                    running_loss[stat].update(loss_cpu, BATCH_SIZE)\n",
    "                pbar.set_description('Loss: %.4f' % running_loss['total'].avg)\n",
    "                pbar.update()\n",
    "\n",
    "            self.lr_scheduler.step()\n",
    "            pbar.set_description('Progress:')\n",
    "            print('Epoch: %d, Loss: %.4f (%.4f + %.4f + %.4f + %.4f)' \n",
    "                  % (epoch, \n",
    "                     running_loss['total'].avg, \n",
    "                     running_loss['src'].avg * LAMB2, \n",
    "                     running_loss['st'].avg * LAMB2 * BETA, \n",
    "                     running_loss['ml'].avg * LAMB1, \n",
    "                     running_loss['tgt'].avg))\n",
    "            \n",
    "    def eval_performance(self, gallery_loader, probe_loader):\n",
    "        stats = ('r1', 'r5', 'r10', 'MAP')\n",
    "        val = {stat: AverageMeter() for stat in stats}\n",
    "        self.net.eval()\n",
    "        \n",
    "        gallery_f, gallery_y, gallery_views = extract_features(\n",
    "            gallery_loader, self.net, index_feature=0)\n",
    "        probe_f, probe_y, probe_views = extract_features(\n",
    "            probe_loader, self.net, index_feature=0)\n",
    "        dist = cdist(gallery_f, probe_f, metric='cosine')  # 实际是 1-cos ∈ [0, 2], 越小越相似\n",
    "        CMC, MAP, example = eval_cmc_map(\n",
    "            dist, gallery_y, probe_y, gallery_views, probe_views, \n",
    "            ignore_MAP=False, show_example=True)\n",
    "#         CMC, MAP, example = eval_cmc_map(\n",
    "#             dist, gallery_y, probe_y, \n",
    "#             ignore_MAP=False, show_example=True)\n",
    "        r1, r5, r10 = CMC[0], CMC[4], CMC[9]\n",
    "        self.r1, self.r5, self.r10, self.MAP = r1, r5, r10, MAP\n",
    "        self.example = example\n",
    "        \n",
    "        for stat in stats:\n",
    "            val[stat].update(locals()[stat].item(), BATCH_SIZE)\n",
    "            \n",
    "        # 显示rank多图\n",
    "#         if show_img_result:\n",
    "#             plt.subplot(1, 11, 1)\n",
    "#             plt.title('Query')\n",
    "#             plt.imshow(Image.open(file.path, 'r'))\n",
    "\n",
    "#             for i in range(10):\n",
    "#                 plt.subplot(1, 11, i + 2)\n",
    "#                 plt.imshow(Image.open(DATA_DIR_TEST +\n",
    "#                                       '\\\\' + sort_list[i][0], 'r'))\n",
    "\n",
    "#             plt.show()\n",
    "            \n",
    "        return val\n",
    "            \n",
    "    def init_losses(self, tgt_loader):\n",
    "        '''训练前初始化loss参数.'''\n",
    "        print('#' * 8, 'Initializing losses', '#' * 8)\n",
    "        if os.path.isfile(ML_PATH):\n",
    "            (ml, views, pairwise_agreements) = torch.load(ML_PATH)\n",
    "            print('Ml loaded.')\n",
    "        else:\n",
    "            print('Ml not found, computing...')\n",
    "            sim, _, views = extract_features(\n",
    "                data_loader['target'], self.net, index_feature=1, return_numpy=False)\n",
    "            ml = F.softmax(sim * SCALA_CE, dim=1)\n",
    "            ml_np = ml.cpu().numpy()\n",
    "            pairwise_agreements = 1 - pdist(ml_np, 'minkowski', p=1) / 2  # 相似比较特征\n",
    "            print('Ml saving to %s...' % ML_PATH)\n",
    "            torch.save((ml, views, pairwise_agreements), ML_PATH)\n",
    "\n",
    "        self.cml_loss.init_centers(torch.log(ml), views)\n",
    "        print('Cml_loss centers inited.')\n",
    "        self.mdl_loss.init_threshold(pairwise_agreements)\n",
    "        print('Mdl_loss threshold inited.')\n",
    "        print('#' * 8, 'OK', '#' * 8)\n",
    "        \n",
    "    def save_model(self, cover=False):\n",
    "        '''\n",
    "        保存当前模型net的参数.\n",
    "        \n",
    "        :param cover: True覆盖默认文件, False新增带时间戳文件\n",
    "        '''\n",
    "        if cover:\n",
    "            torch.save(self.net.state_dict(), PRETRAIN_PATH)\n",
    "            print('Model weight saved(cover).')\n",
    "        else:\n",
    "            path = PRETRAIN_OUT_PATH.format(time.time())\n",
    "            torch.save(self.net.state_dict(), path)\n",
    "            print('Model weight saved(%s).' % path)"
   ]
  },
  {
   "cell_type": "markdown",
   "metadata": {},
   "source": [
    "# Train"
   ]
  },
  {
   "cell_type": "code",
   "execution_count": 4,
   "metadata": {
    "scrolled": false
   },
   "outputs": [
    {
     "name": "stdout",
     "output_type": "stream",
     "text": [
      "Pretrained model not found. Train from scratch.\n",
      "Training start. Epochs: 20\n"
     ]
    },
    {
     "data": {
      "application/vnd.jupyter.widget-view+json": {
       "model_id": "cbcfe67017de4d94b6dd29a51fa412ed",
       "version_major": 2,
       "version_minor": 0
      },
      "text/plain": [
       "HBox(children=(IntProgress(value=0, max=20), HTML(value='')))"
      ]
     },
     "metadata": {},
     "output_type": "display_data"
    },
    {
     "name": "stdout",
     "output_type": "stream",
     "text": [
      "######## Initializing losses ########\n",
      "Ml loaded.\n",
      "Cml_loss centers inited.\n",
      "Mdl_loss threshold inited.\n",
      "######## OK ########\n"
     ]
    },
    {
     "data": {
      "application/vnd.jupyter.widget-view+json": {
       "model_id": "3d0af0d7634643688c4fa175a25aeb34",
       "version_major": 2,
       "version_minor": 0
      },
      "text/plain": [
       "HBox(children=(IntProgress(value=0, max=357), HTML(value='')))"
      ]
     },
     "metadata": {},
     "output_type": "display_data"
    },
    {
     "name": "stdout",
     "output_type": "stream",
     "text": [
      "Epoch: 0, Loss: 216.7824 (200.3234 + 16.2602 + 0.1988 + 0.0000)\n",
      "\n"
     ]
    },
    {
     "data": {
      "application/vnd.jupyter.widget-view+json": {
       "model_id": "e0dcd721b2584a378ad6f2ee825cd774",
       "version_major": 2,
       "version_minor": 0
      },
      "text/plain": [
       "HBox(children=(IntProgress(value=0, max=357), HTML(value='')))"
      ]
     },
     "metadata": {},
     "output_type": "display_data"
    },
    {
     "name": "stdout",
     "output_type": "stream",
     "text": [
      "Epoch: 1, Loss: 65.3371 (52.0353 + 12.4865 + 0.1724 + 0.6430)\n",
      "\n"
     ]
    },
    {
     "data": {
      "application/vnd.jupyter.widget-view+json": {
       "model_id": "7eb0958c12ac4822908adc8430e77c43",
       "version_major": 2,
       "version_minor": 0
      },
      "text/plain": [
       "HBox(children=(IntProgress(value=0, max=357), HTML(value='')))"
      ]
     },
     "metadata": {},
     "output_type": "display_data"
    },
    {
     "name": "stdout",
     "output_type": "stream",
     "text": [
      "Epoch: 2, Loss: 38.0503 (26.0716 + 11.1560 + 0.1771 + 0.6455)\n",
      "\n"
     ]
    },
    {
     "data": {
      "application/vnd.jupyter.widget-view+json": {
       "model_id": "4c93d0f3efce4362abcad47565e5187c",
       "version_major": 2,
       "version_minor": 0
      },
      "text/plain": [
       "HBox(children=(IntProgress(value=0, max=357), HTML(value='')))"
      ]
     },
     "metadata": {},
     "output_type": "display_data"
    },
    {
     "name": "stdout",
     "output_type": "stream",
     "text": [
      "Epoch: 3, Loss: 29.6407 (18.3128 + 10.4959 + 0.1892 + 0.6429)\n",
      "\n"
     ]
    },
    {
     "data": {
      "application/vnd.jupyter.widget-view+json": {
       "model_id": "d7e6fc3c254a4fb68c57d164cb30cfa2",
       "version_major": 2,
       "version_minor": 0
      },
      "text/plain": [
       "HBox(children=(IntProgress(value=0, max=357), HTML(value='')))"
      ]
     },
     "metadata": {},
     "output_type": "display_data"
    },
    {
     "name": "stdout",
     "output_type": "stream",
     "text": [
      "Epoch: 4, Loss: 24.7294 (13.8834 + 10.0182 + 0.1932 + 0.6347)\n",
      "\n"
     ]
    },
    {
     "data": {
      "application/vnd.jupyter.widget-view+json": {
       "model_id": "479979f22f854e798f315c360d000ab5",
       "version_major": 2,
       "version_minor": 0
      },
      "text/plain": [
       "HBox(children=(IntProgress(value=0, max=357), HTML(value='')))"
      ]
     },
     "metadata": {},
     "output_type": "display_data"
    },
    {
     "name": "stdout",
     "output_type": "stream",
     "text": [
      "Epoch: 5, Loss: 21.6510 (11.1933 + 9.6326 + 0.1944 + 0.6307)\n",
      "\n"
     ]
    },
    {
     "data": {
      "application/vnd.jupyter.widget-view+json": {
       "model_id": "66c4f437165341bd97bded3fc151eb70",
       "version_major": 2,
       "version_minor": 0
      },
      "text/plain": [
       "HBox(children=(IntProgress(value=0, max=357), HTML(value='')))"
      ]
     },
     "metadata": {},
     "output_type": "display_data"
    },
    {
     "name": "stdout",
     "output_type": "stream",
     "text": [
      "Epoch: 6, Loss: 19.6254 (9.4209 + 9.3707 + 0.2015 + 0.6322)\n",
      "\n"
     ]
    },
    {
     "data": {
      "application/vnd.jupyter.widget-view+json": {
       "model_id": "e93d04916a7644cb95332b9875694442",
       "version_major": 2,
       "version_minor": 0
      },
      "text/plain": [
       "HBox(children=(IntProgress(value=0, max=357), HTML(value='')))"
      ]
     },
     "metadata": {},
     "output_type": "display_data"
    },
    {
     "name": "stdout",
     "output_type": "stream",
     "text": [
      "Epoch: 7, Loss: 18.6142 (8.6302 + 9.1543 + 0.2082 + 0.6215)\n",
      "\n"
     ]
    },
    {
     "data": {
      "application/vnd.jupyter.widget-view+json": {
       "model_id": "ecd0b50480334e95915fae75a314baa2",
       "version_major": 2,
       "version_minor": 0
      },
      "text/plain": [
       "HBox(children=(IntProgress(value=0, max=357), HTML(value='')))"
      ]
     },
     "metadata": {},
     "output_type": "display_data"
    },
    {
     "name": "stdout",
     "output_type": "stream",
     "text": [
      "Epoch: 8, Loss: 17.6679 (7.8582 + 8.9809 + 0.2112 + 0.6177)\n",
      "\n"
     ]
    },
    {
     "data": {
      "application/vnd.jupyter.widget-view+json": {
       "model_id": "443019915bc440739ab6f765bfa5ab49",
       "version_major": 2,
       "version_minor": 0
      },
      "text/plain": [
       "HBox(children=(IntProgress(value=0, max=357), HTML(value='')))"
      ]
     },
     "metadata": {},
     "output_type": "display_data"
    },
    {
     "name": "stdout",
     "output_type": "stream",
     "text": [
      "Epoch: 9, Loss: 16.9416 (7.2923 + 8.8260 + 0.2115 + 0.6119)\n",
      "\n"
     ]
    },
    {
     "data": {
      "application/vnd.jupyter.widget-view+json": {
       "model_id": "57045734a6ae4a22a4df1f2755405907",
       "version_major": 2,
       "version_minor": 0
      },
      "text/plain": [
       "HBox(children=(IntProgress(value=0, max=357), HTML(value='')))"
      ]
     },
     "metadata": {},
     "output_type": "display_data"
    },
    {
     "name": "stdout",
     "output_type": "stream",
     "text": [
      "Epoch: 10, Loss: 15.6966 (6.3012 + 8.5701 + 0.2171 + 0.6081)\n",
      "\n"
     ]
    },
    {
     "data": {
      "application/vnd.jupyter.widget-view+json": {
       "model_id": "7e91ba190ceb489d8f17cd25cef3ca67",
       "version_major": 2,
       "version_minor": 0
      },
      "text/plain": [
       "HBox(children=(IntProgress(value=0, max=357), HTML(value='')))"
      ]
     },
     "metadata": {},
     "output_type": "display_data"
    },
    {
     "name": "stdout",
     "output_type": "stream",
     "text": [
      "Epoch: 11, Loss: 16.4318 (6.9596 + 8.6485 + 0.2200 + 0.6037)\n",
      "\n"
     ]
    },
    {
     "data": {
      "application/vnd.jupyter.widget-view+json": {
       "model_id": "80b72ac068fb43c4ae786d5822298655",
       "version_major": 2,
       "version_minor": 0
      },
      "text/plain": [
       "HBox(children=(IntProgress(value=0, max=357), HTML(value='')))"
      ]
     },
     "metadata": {},
     "output_type": "display_data"
    },
    {
     "name": "stdout",
     "output_type": "stream",
     "text": [
      "Epoch: 12, Loss: 13.2272 (4.2945 + 8.1171 + 0.2210 + 0.5947)\n",
      "\n"
     ]
    },
    {
     "data": {
      "application/vnd.jupyter.widget-view+json": {
       "model_id": "9fd619f7f0144ce4aa3d1964d2d38fca",
       "version_major": 2,
       "version_minor": 0
      },
      "text/plain": [
       "HBox(children=(IntProgress(value=0, max=357), HTML(value='')))"
      ]
     },
     "metadata": {},
     "output_type": "display_data"
    },
    {
     "name": "stdout",
     "output_type": "stream",
     "text": [
      "Epoch: 13, Loss: 12.1852 (3.4280 + 7.9485 + 0.2186 + 0.5900)\n",
      "\n"
     ]
    },
    {
     "data": {
      "application/vnd.jupyter.widget-view+json": {
       "model_id": "462f8df8be734d60950faaab711363ad",
       "version_major": 2,
       "version_minor": 0
      },
      "text/plain": [
       "HBox(children=(IntProgress(value=0, max=357), HTML(value='')))"
      ]
     },
     "metadata": {},
     "output_type": "display_data"
    },
    {
     "name": "stdout",
     "output_type": "stream",
     "text": [
      "Epoch: 14, Loss: 11.6150 (2.9697 + 7.8319 + 0.2204 + 0.5931)\n",
      "\n"
     ]
    },
    {
     "data": {
      "application/vnd.jupyter.widget-view+json": {
       "model_id": "984baf4529d149b3bfffa4647cf2d007",
       "version_major": 2,
       "version_minor": 0
      },
      "text/plain": [
       "HBox(children=(IntProgress(value=0, max=357), HTML(value='')))"
      ]
     },
     "metadata": {},
     "output_type": "display_data"
    },
    {
     "name": "stdout",
     "output_type": "stream",
     "text": [
      "Epoch: 15, Loss: 11.4191 (2.8239 + 7.7844 + 0.2200 + 0.5907)\n",
      "\n"
     ]
    },
    {
     "data": {
      "application/vnd.jupyter.widget-view+json": {
       "model_id": "2cd7f7fc8c164926845cfaa0d3d0a5eb",
       "version_major": 2,
       "version_minor": 0
      },
      "text/plain": [
       "HBox(children=(IntProgress(value=0, max=357), HTML(value='')))"
      ]
     },
     "metadata": {},
     "output_type": "display_data"
    },
    {
     "name": "stdout",
     "output_type": "stream",
     "text": [
      "Epoch: 16, Loss: 11.4085 (2.8624 + 7.7396 + 0.2195 + 0.5870)\n",
      "\n"
     ]
    },
    {
     "data": {
      "application/vnd.jupyter.widget-view+json": {
       "model_id": "b60c7db76089478bb38148dbf8641496",
       "version_major": 2,
       "version_minor": 0
      },
      "text/plain": [
       "HBox(children=(IntProgress(value=0, max=357), HTML(value='')))"
      ]
     },
     "metadata": {},
     "output_type": "display_data"
    },
    {
     "name": "stdout",
     "output_type": "stream",
     "text": [
      "Epoch: 17, Loss: 11.0629 (2.5466 + 7.7114 + 0.2210 + 0.5838)\n",
      "\n"
     ]
    },
    {
     "data": {
      "application/vnd.jupyter.widget-view+json": {
       "model_id": "a56b07e827af43cca0ad6fae5e2f3b26",
       "version_major": 2,
       "version_minor": 0
      },
      "text/plain": [
       "HBox(children=(IntProgress(value=0, max=357), HTML(value='')))"
      ]
     },
     "metadata": {},
     "output_type": "display_data"
    },
    {
     "name": "stdout",
     "output_type": "stream",
     "text": [
      "Epoch: 18, Loss: 11.3101 (2.8073 + 7.6994 + 0.2171 + 0.5863)\n",
      "\n"
     ]
    },
    {
     "data": {
      "application/vnd.jupyter.widget-view+json": {
       "model_id": "04ce51051f0b4bd39c055ccb4ce79a74",
       "version_major": 2,
       "version_minor": 0
      },
      "text/plain": [
       "HBox(children=(IntProgress(value=0, max=357), HTML(value='')))"
      ]
     },
     "metadata": {},
     "output_type": "display_data"
    },
    {
     "name": "stdout",
     "output_type": "stream",
     "text": [
      "Epoch: 19, Loss: 11.1661 (2.6742 + 7.6887 + 0.2203 + 0.5829)\n",
      "\n",
      "\n"
     ]
    }
   ],
   "source": [
    "trainer = Trainer()\n",
    "trainer.train()"
   ]
  },
  {
   "cell_type": "code",
   "execution_count": 5,
   "metadata": {},
   "outputs": [
    {
     "name": "stdout",
     "output_type": "stream",
     "text": [
      "Model weight saved(data/pretrained_weight_1579157817.5214608.pkl).\n"
     ]
    }
   ],
   "source": [
    "trainer.save_model()\n",
    "# trainer.save_model(cover=True)"
   ]
  },
  {
   "cell_type": "markdown",
   "metadata": {},
   "source": [
    "# Eval"
   ]
  },
  {
   "cell_type": "code",
   "execution_count": 6,
   "metadata": {
    "scrolled": true
   },
   "outputs": [],
   "source": [
    "# trainer = Trainer()"
   ]
  },
  {
   "cell_type": "code",
   "execution_count": 7,
   "metadata": {},
   "outputs": [
    {
     "data": {
      "text/plain": [
       "{'r1': <utils.AverageMeter at 0x7f588c16cd10>,\n",
       " 'r5': <utils.AverageMeter at 0x7f588c16c310>,\n",
       " 'r10': <utils.AverageMeter at 0x7f588c16cf90>,\n",
       " 'MAP': <utils.AverageMeter at 0x7f588c16cc50>}"
      ]
     },
     "execution_count": 7,
     "metadata": {},
     "output_type": "execute_result"
    }
   ],
   "source": [
    "trainer.eval_performance(data_loader['gallery'], data_loader['probe'])"
   ]
  },
  {
   "cell_type": "code",
   "execution_count": 8,
   "metadata": {},
   "outputs": [
    {
     "data": {
      "text/plain": [
       "(40.76603325415677, 58.2541567695962, 64.81591448931117, 21.38579113869162)"
      ]
     },
     "execution_count": 8,
     "metadata": {},
     "output_type": "execute_result"
    }
   ],
   "source": [
    "trainer.r1, trainer.r5, trainer.r10, trainer.MAP"
   ]
  },
  {
   "cell_type": "code",
   "execution_count": 9,
   "metadata": {},
   "outputs": [
    {
     "data": {
      "text/plain": [
       "[{'tgt': 24, 'res': array([89, 89, 89, 89, 89, 89, 89, 24, 24, 89])},\n",
       " {'tgt': 1459,\n",
       "  'res': array([ 932,  684,  293,  932,  684,  668,  932, 1143, 1035, 1077])},\n",
       " {'tgt': 764,\n",
       "  'res': array([ 812,  189,  812,  764,  721,  721,  721, 1153, 1153, 1070])},\n",
       " {'tgt': 187,\n",
       "  'res': array([187, 977, 187, 977, 977, 977, 278,  -1, 977, 778])},\n",
       " {'tgt': 935,\n",
       "  'res': array([ 935,   55, 1214,  252, 1214, 1236,  935,  252, 1310,  825])},\n",
       " {'tgt': 1486,\n",
       "  'res': array([1485, 1149,  336,  428,  316, 1149,  428, 1486, 1486,  183])},\n",
       " {'tgt': 1122,\n",
       "  'res': array([  -1, 1190, 1190, 1190, 1016,  363, 1190,   -1,  363, 1016])},\n",
       " {'tgt': 1144,\n",
       "  'res': array([1120,  567,  530,  746, 1185,   -1, 1120,  405, 1141,  302])},\n",
       " {'tgt': 1148,\n",
       "  'res': array([1148, 1148, 1148, 1148, 1148, 1148, 1148, 1148, 1148, 1148])},\n",
       " {'tgt': 493,\n",
       "  'res': array([  66,   66, 1089,  458,  538, 1089,   -1, 1354,  695,   51])}]"
      ]
     },
     "execution_count": 9,
     "metadata": {},
     "output_type": "execute_result"
    }
   ],
   "source": [
    "trainer.example"
   ]
  },
  {
   "cell_type": "code",
   "execution_count": 8,
   "metadata": {},
   "outputs": [],
   "source": [
    "exit()"
   ]
  }
 ],
 "metadata": {
  "kernelspec": {
   "display_name": "Python 3",
   "language": "python",
   "name": "python3"
  },
  "language_info": {
   "codemirror_mode": {
    "name": "ipython",
    "version": 3
   },
   "file_extension": ".py",
   "mimetype": "text/x-python",
   "name": "python",
   "nbconvert_exporter": "python",
   "pygments_lexer": "ipython3",
   "version": "3.7.4"
  },
  "toc": {
   "base_numbering": 1,
   "nav_menu": {},
   "number_sections": true,
   "sideBar": true,
   "skip_h1_title": false,
   "title_cell": "Table of Contents",
   "title_sidebar": "Contents",
   "toc_cell": false,
   "toc_position": {},
   "toc_section_display": true,
   "toc_window_display": false
  },
  "varInspector": {
   "cols": {
    "lenName": 16,
    "lenType": 16,
    "lenVar": 40
   },
   "kernels_config": {
    "python": {
     "delete_cmd_postfix": "",
     "delete_cmd_prefix": "del ",
     "library": "var_list.py",
     "varRefreshCmd": "print(var_dic_list())"
    },
    "r": {
     "delete_cmd_postfix": ") ",
     "delete_cmd_prefix": "rm(",
     "library": "var_list.r",
     "varRefreshCmd": "cat(var_dic_list()) "
    }
   },
   "position": {
    "height": "803.212px",
    "left": "1640.32px",
    "right": "20px",
    "top": "127.99px",
    "width": "490.764px"
   },
   "types_to_exclude": [
    "module",
    "function",
    "builtin_function_or_method",
    "instance",
    "_Feature"
   ],
   "window_display": false
  }
 },
 "nbformat": 4,
 "nbformat_minor": 2
}
