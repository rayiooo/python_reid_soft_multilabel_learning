{
 "cells": [
  {
   "cell_type": "markdown",
   "metadata": {},
   "source": [
    "# 1 包、超参数、常量、GPU配置"
   ]
  },
  {
   "cell_type": "code",
   "execution_count": 1,
   "metadata": {},
   "outputs": [
    {
     "name": "stderr",
     "output_type": "stream",
     "text": [
      "Using TensorFlow backend.\n"
     ]
    }
   ],
   "source": [
    "import os\n",
    "import tensorflow as tf\n",
    "from keras.backend import set_session\n",
    "\n",
    "# GPU 配置\n",
    "os.environ[\"CUDA_VISIBLE_DEVICES\"] = \"3\"\n",
    "config = tf.compat.v1.ConfigProto()\n",
    "config.gpu_options.allow_growth = True\n",
    "set_session(tf.compat.v1.Session(config=config))"
   ]
  },
  {
   "cell_type": "code",
   "execution_count": 2,
   "metadata": {},
   "outputs": [],
   "source": [
    "import numpy as np\n",
    "\n",
    "\n",
    "BASE = '/home/zengrui/datasets/ReID_Market-1501'\n",
    "TRAIN_DATA_DIR = f'{BASE}/bounding_box_train'\n",
    "TEST_DATA_DIR = f'{BASE}/bounding_box_test'\n",
    "QUERY_DATA_DIR = f'{BASE}/query'\n",
    "\n",
    "\n",
    "BATCH_SIZE = 256\n",
    "CLASSES = 1501\n",
    "EPOCHS = 20\n",
    "LR = 0.1\n",
    "\n",
    "\n",
    "HEIGHT, WIDTH = 128, 64  # 图片大小"
   ]
  },
  {
   "cell_type": "markdown",
   "metadata": {},
   "source": [
    "# 2 数据集定义"
   ]
  },
  {
   "cell_type": "markdown",
   "metadata": {},
   "source": [
    "## 2.1 图像预处理器"
   ]
  },
  {
   "cell_type": "markdown",
   "metadata": {},
   "source": [
    "定义数据集transform生成器。"
   ]
  },
  {
   "cell_type": "code",
   "execution_count": 3,
   "metadata": {},
   "outputs": [],
   "source": [
    "from keras.preprocessing.image import ImageDataGenerator\n",
    "\n",
    "train_gen = ImageDataGenerator(rescale=1. / 255,  # 数据重缩放因子\n",
    "                               width_shift_range=0.2,  # 水平方向随机移动的程度\n",
    "                               height_shift_range=0.2,  # 竖直方向随机移动的程度\n",
    "                               shear_range=0.2,  # 错切变换角度\n",
    "                               zoom_range=0.2,  # 随机缩放范围\n",
    "                               horizontal_flip=True,\n",
    "                               rotation_range=30,  # 随即旋转度数范围\n",
    "#                                validation_split=0.1,  # 保留用于验证的图像的比例\n",
    "                               fill_mode='nearest',\n",
    "                              )\n",
    "test_gen = ImageDataGenerator(rescale=1. / 255)"
   ]
  },
  {
   "cell_type": "markdown",
   "metadata": {},
   "source": [
    "## 2.2 数据集读出"
   ]
  },
  {
   "cell_type": "code",
   "execution_count": 4,
   "metadata": {},
   "outputs": [
    {
     "name": "stdout",
     "output_type": "stream",
     "text": [
      "Found 12936 images belonging to 751 classes.\n"
     ]
    }
   ],
   "source": [
    "import get_dataset\n",
    "\n",
    "images, labels = get_dataset.get(TRAIN_DATA_DIR, CLASSES)"
   ]
  },
  {
   "cell_type": "markdown",
   "metadata": {},
   "source": [
    "## 2.3 生成数据集（文件名式分类）"
   ]
  },
  {
   "cell_type": "code",
   "execution_count": 19,
   "metadata": {},
   "outputs": [],
   "source": [
    "train_data = train_gen.flow(images, labels,\n",
    "                            batch_size=BATCH_SIZE,\n",
    "                            shuffle=True,\n",
    "#                             save_to_dir='/home/zengrui/test',\n",
    "#                             subset='training'\n",
    "                           )\n",
    "# val_data = train_gen.flow(images, labels,\n",
    "#                             batch_size=BATCH_SIZE,\n",
    "#                             shuffle=True,\n",
    "#                             save_to_dir='/home/zengrui/test',\n",
    "#                             subset='validation')"
   ]
  },
  {
   "cell_type": "markdown",
   "metadata": {},
   "source": [
    "# 3 网络模型定义"
   ]
  },
  {
   "cell_type": "markdown",
   "metadata": {},
   "source": [
    "定义回调函数。"
   ]
  },
  {
   "cell_type": "code",
   "execution_count": 27,
   "metadata": {},
   "outputs": [],
   "source": [
    "from keras.callbacks import ModelCheckpoint, ReduceLROnPlateau\n",
    "\n",
    "train_callbacks = [\n",
    "#     ModelCheckpoint(filepath='./checkpoint/model.{epoch:02d}-{val_loss:.2f}.ckpt',\n",
    "#                     save_weights_only=True,\n",
    "#                     verbose=1,\n",
    "#                     period=10,),  # auto save model\n",
    "    ReduceLROnPlateau(monitor='val_loss', \n",
    "                      factor=0.1, \n",
    "                      patience=3, \n",
    "                      verbose=1, \n",
    "                      mode='auto', \n",
    "                      min_delta=0.0001, \n",
    "                      cooldown=0, \n",
    "                      min_lr=0,),  # lr scheduler\n",
    "]"
   ]
  },
  {
   "cell_type": "markdown",
   "metadata": {},
   "source": [
    "模型结构定义。"
   ]
  },
  {
   "cell_type": "code",
   "execution_count": 25,
   "metadata": {},
   "outputs": [],
   "source": [
    "from keras.applications.resnet_v2 import ResNet50V2 as ResNet50\n",
    "from keras.optimizers import SGD\n",
    "\n",
    "model = ResNet50(input_shape=(HEIGHT, WIDTH, 3),\n",
    "                 weights=None,\n",
    "                 classes=CLASSES)\n",
    "\n",
    "model.compile(optimizer=SGD(lr=LR, momentum=0.9),\n",
    "              loss='categorical_crossentropy',\n",
    "              metrics=['accuracy'])"
   ]
  },
  {
   "cell_type": "markdown",
   "metadata": {},
   "source": [
    "# 4 训练"
   ]
  },
  {
   "cell_type": "markdown",
   "metadata": {},
   "source": [
    "开始训练。"
   ]
  },
  {
   "cell_type": "code",
   "execution_count": 28,
   "metadata": {
    "collapsed": true
   },
   "outputs": [
    {
     "name": "stdout",
     "output_type": "stream",
     "text": [
      "Epoch 1/20\n",
      "50/51 [============================>.] - ETA: 0s - loss: 1.4067 - accuracy: 0.6132Epoch 1/20\n",
      "51/51 [==============================] - 15s 300ms/step - loss: 1.4044 - accuracy: 0.6142\n",
      "Epoch 2/20\n",
      "51/51 [==============================] - 15s 285ms/step - loss: 1.1783 - accuracy: 0.6751\n",
      "Epoch 3/20\n",
      "51/51 [==============================] - 15s 297ms/step - loss: 1.0665 - accuracy: 0.6970\n",
      "Epoch 4/20\n",
      "51/51 [==============================] - 15s 297ms/step - loss: 0.9139 - accuracy: 0.7387\n",
      "Epoch 5/20\n",
      "51/51 [==============================] - 16s 305ms/step - loss: 0.7960 - accuracy: 0.7746\n",
      "Epoch 6/20\n",
      "51/51 [==============================] - 15s 302ms/step - loss: 0.7069 - accuracy: 0.7967\n",
      "Epoch 7/20\n",
      "51/51 [==============================] - 16s 310ms/step - loss: 0.6160 - accuracy: 0.8184\n",
      "Epoch 8/20\n",
      "51/51 [==============================] - 15s 303ms/step - loss: 0.5636 - accuracy: 0.8356\n",
      "Epoch 9/20\n",
      "51/51 [==============================] - 16s 307ms/step - loss: 0.5018 - accuracy: 0.8502\n",
      "Epoch 10/20\n",
      "51/51 [==============================] - 16s 308ms/step - loss: 0.4406 - accuracy: 0.8670\n",
      "Epoch 11/20\n",
      "51/51 [==============================] - 16s 309ms/step - loss: 0.4139 - accuracy: 0.8759\n",
      "Epoch 12/20\n",
      "51/51 [==============================] - 16s 307ms/step - loss: 0.3853 - accuracy: 0.8842\n",
      "Epoch 13/20\n",
      "51/51 [==============================] - 16s 307ms/step - loss: 0.3616 - accuracy: 0.8937\n",
      "Epoch 14/20\n",
      "51/51 [==============================] - 16s 309ms/step - loss: 0.3213 - accuracy: 0.9054\n",
      "Epoch 15/20\n",
      "51/51 [==============================] - 16s 310ms/step - loss: 0.2932 - accuracy: 0.9125\n",
      "Epoch 16/20\n",
      "51/51 [==============================] - 16s 307ms/step - loss: 0.2647 - accuracy: 0.9219\n",
      "Epoch 17/20\n",
      "51/51 [==============================] - 16s 306ms/step - loss: 0.2592 - accuracy: 0.9223\n",
      "Epoch 18/20\n",
      "51/51 [==============================] - 15s 303ms/step - loss: 0.2340 - accuracy: 0.9323\n",
      "Epoch 19/20\n",
      "51/51 [==============================] - 16s 308ms/step - loss: 0.2211 - accuracy: 0.9351\n",
      "Epoch 20/20\n",
      "51/51 [==============================] - 16s 304ms/step - loss: 0.2128 - accuracy: 0.9366\n"
     ]
    }
   ],
   "source": [
    "history = model.fit_generator(train_data,\n",
    "                    epochs=EPOCHS,\n",
    "                    callbacks=train_callbacks,\n",
    "#                     validation_data=val_data,\n",
    "                    workers=6,\n",
    "                    use_multiprocessing=True,\n",
    "                   )"
   ]
  },
  {
   "cell_type": "code",
   "execution_count": 30,
   "metadata": {
    "collapsed": true
   },
   "outputs": [
    {
     "data": {
      "image/png": "[encoded data removed]",
      "text/plain": [
       "<Figure size 432x288 with 1 Axes>"
      ]
     },
     "metadata": {},
     "output_type": "display_data"
    },
    {
     "data": {
      "image/png": "[encoded data removed]",
      "text/plain": [
       "<Figure size 432x288 with 1 Axes>"
      ]
     },
     "metadata": {},
     "output_type": "display_data"
    }
   ],
   "source": [
    "%matplotlib inline\n",
    "import matplotlib.pyplot as plt\n",
    "\n",
    "# 绘制结果曲线\n",
    "H = history\n",
    "\n",
    "N = np.arange(0, EPOCHS)\n",
    "plt.style.use(\"ggplot\")\n",
    "plt.figure()\n",
    "plt.plot(N, H.history[\"accuracy\"], label=\"train_acc\")\n",
    "# plt.plot(N, H.history[\"val_accuracy\"], label=\"val_acc\")\n",
    "plt.title(\"Training and Validation Accuracy (Resnet)\")\n",
    "plt.xlabel(\"Epoch #\")\n",
    "plt.ylabel(\"Accuracy\")\n",
    "plt.legend()\n",
    "plt.show()\n",
    "# plt.savefig('./output/simple_nn_plot_acc.png')\n",
    " \n",
    "plt.figure()\n",
    "plt.plot(N, H.history[\"loss\"], label=\"train_loss\")\n",
    "# plt.plot(N, H.history[\"val_loss\"], label=\"val_loss\")\n",
    "plt.title(\"Training and Validation Loss (Resnet)\")\n",
    "plt.xlabel(\"Epoch #\")\n",
    "plt.ylabel(\"Loss\")\n",
    "plt.legend()\n",
    "plt.show()\n",
    "# plt.savefig('./output/simple_nn_plot_loss.png')"
   ]
  },
  {
   "cell_type": "markdown",
   "metadata": {},
   "source": [
    "# 5 中间层提取"
   ]
  },
  {
   "cell_type": "code",
   "execution_count": 36,
   "metadata": {},
   "outputs": [],
   "source": [
    "from keras import backend as K\n",
    "\n",
    "f_output = K.function([model.layers[0].input],\n",
    "                      [model.layers[-2].output])"
   ]
  },
  {
   "cell_type": "code",
   "execution_count": 51,
   "metadata": {},
   "outputs": [],
   "source": [
    "f = f_output(train_data[0][0])"
   ]
  },
  {
   "cell_type": "code",
   "execution_count": 52,
   "metadata": {},
   "outputs": [
    {
     "data": {
      "text/plain": [
       "(1, 256, 2048)"
      ]
     },
     "execution_count": 52,
     "metadata": {},
     "output_type": "execute_result"
    }
   ],
   "source": [
    "np.array(f).shape"
   ]
  },
  {
   "cell_type": "code",
   "execution_count": 50,
   "metadata": {},
   "outputs": [
    {
     "data": {
      "text/plain": [
       "array([0.0675915 , 0.9739614 , 1.3306484 , ..., 0.10163742, 0.72788626,\n",
       "       0.05264937], dtype=float32)"
      ]
     },
     "execution_count": 50,
     "metadata": {},
     "output_type": "execute_result"
    }
   ],
   "source": [
    "f[0][0]"
   ]
  },
  {
   "cell_type": "code",
   "execution_count": null,
   "metadata": {},
   "outputs": [],
   "source": []
  }
 ],
 "metadata": {
  "kernelspec": {
   "display_name": "Python 3",
   "language": "python",
   "name": "python3"
  },
  "language_info": {
   "codemirror_mode": {
    "name": "ipython",
    "version": 3
   },
   "file_extension": ".py",
   "mimetype": "text/x-python",
   "name": "python",
   "nbconvert_exporter": "python",
   "pygments_lexer": "ipython3",
   "version": "3.7.4"
  },
  "toc": {
   "base_numbering": 1,
   "nav_menu": {},
   "number_sections": true,
   "sideBar": true,
   "skip_h1_title": false,
   "title_cell": "Table of Contents",
   "title_sidebar": "Contents",
   "toc_cell": false,
   "toc_position": {},
   "toc_section_display": true,
   "toc_window_display": false
  },
  "varInspector": {
   "cols": {
    "lenName": 16,
    "lenType": 16,
    "lenVar": 40
   },
   "kernels_config": {
    "python": {
     "delete_cmd_postfix": "",
     "delete_cmd_prefix": "del ",
     "library": "var_list.py",
     "varRefreshCmd": "print(var_dic_list())"
    },
    "r": {
     "delete_cmd_postfix": ") ",
     "delete_cmd_prefix": "rm(",
     "library": "var_list.r",
     "varRefreshCmd": "cat(var_dic_list()) "
    }
   },
   "types_to_exclude": [
    "module",
    "function",
    "builtin_function_or_method",
    "instance",
    "_Feature"
   ],
   "window_display": false
  }
 },
 "nbformat": 4,
 "nbformat_minor": 2
}
