{
 "cells": [
  {
   "cell_type": "code",
   "execution_count": 37,
   "metadata": {},
   "outputs": [],
   "source": [
    "import os\n",
    "import torch\n",
    "from models import resnet\n",
    "from my_dataset import MyDataset\n",
    "from my_lossfunc import AgentLoss, JointLoss, MultilabelLoss, DiscriminativeLoss\n",
    "from my_transform import data_transforms\n",
    "from torch.utils.data import DataLoader"
   ]
  },
  {
   "cell_type": "code",
   "execution_count": 38,
   "metadata": {},
   "outputs": [],
   "source": [
    "# file & folder path\n",
    "DATA_DIR_TRAIN = '../../Datasets/ReID_Market-1501/bounding_box_train'\n",
    "DATA_DIR_TEST = '../../Datasets/ReID_Market-1501/bounding_box_test'\n",
    "PKL_DIR_IN = 'storage/train_param.pkl'\n",
    "PKL_DIR_OUT = 'storage/train_param_out.pkl'"
   ]
  },
  {
   "cell_type": "code",
   "execution_count": 39,
   "metadata": {},
   "outputs": [],
   "source": [
    "BATCH_SIZE = 64\n",
    "EPOCH = 30\n",
    "LR = 0.1"
   ]
  },
  {
   "cell_type": "code",
   "execution_count": 40,
   "metadata": {},
   "outputs": [
    {
     "name": "stdout",
     "output_type": "stream",
     "text": [
      "Device: cpu\n"
     ]
    }
   ],
   "source": [
    "DEVICE = torch.device('cuda') if torch.cuda.is_available() else torch.device('cpu')\n",
    "print('Device:', DEVICE)"
   ]
  },
  {
   "cell_type": "markdown",
   "metadata": {},
   "source": [
    "## Prepare Work"
   ]
  },
  {
   "cell_type": "code",
   "execution_count": 41,
   "metadata": {},
   "outputs": [
    {
     "name": "stdout",
     "output_type": "stream",
     "text": [
      "data_loader: ok.\n"
     ]
    }
   ],
   "source": [
    "# data loader\n",
    "data_loader = {\n",
    "    'train': DataLoader(\n",
    "        dataset=MyDataset(DATA_DIR_TRAIN, \n",
    "                          mode='train', \n",
    "                          transform=data_transforms('train')),\n",
    "        batch_size=BATCH_SIZE,\n",
    "        shuffle=True,\n",
    "    ),\n",
    "    'val': DataLoader(\n",
    "        dataset=MyDataset(DATA_DIR_TEST,\n",
    "                          mode='test',\n",
    "                          transform=data_transforms('test')),\n",
    "        batch_size=BATCH_SIZE,\n",
    "        shuffle=False,\n",
    "    ),\n",
    "}\n",
    "print('data_loader: ok.')"
   ]
  },
  {
   "cell_type": "code",
   "execution_count": 42,
   "metadata": {},
   "outputs": [],
   "source": [
    "# neural network\n",
    "net = resnet.get_model('resnet50_md')\n",
    "\n",
    "if os.path.exists(PKL_DIR_IN):\n",
    "    net.load_state_dict(torch.load(PKL_DIR_IN, map_location='cpu'))\n",
    "    print('Parameters loaded to network.')\n",
    "# else:\n",
    "#     raise Exception('No parameters exists.')\n",
    "net = net.to(DEVICE)"
   ]
  },
  {
   "cell_type": "markdown",
   "metadata": {},
   "source": [
    "## Train"
   ]
  },
  {
   "cell_type": "code",
   "execution_count": 43,
   "metadata": {},
   "outputs": [],
   "source": [
    "# loss functions\n",
    "al_loss = torch.nn.CrossEntropyLoss().to(DEVICE)\n",
    "rj_loss = JointLoss().to(DEVICE)  # lack 1 param\n",
    "cml_loss = MultilabelLoss(BATCH_SIZE).to(DEVICE)\n",
    "mdl_loss = DiscriminativeLoss().to(DEVICE)  # lack 1 param"
   ]
  },
  {
   "cell_type": "code",
   "execution_count": null,
   "metadata": {},
   "outputs": [],
   "source": [
    "# optimizer\n",
    "optimizer = torch.optim.SGD(lr=LR, momentum=0.9)"
   ]
  }
 ],
 "metadata": {
  "kernelspec": {
   "display_name": "Python 3",
   "language": "python",
   "name": "python3"
  },
  "language_info": {
   "codemirror_mode": {
    "name": "ipython",
    "version": 3
   },
   "file_extension": ".py",
   "mimetype": "text/x-python",
   "name": "python",
   "nbconvert_exporter": "python",
   "pygments_lexer": "ipython3",
   "version": "3.7.3"
  }
 },
 "nbformat": 4,
 "nbformat_minor": 2
}
