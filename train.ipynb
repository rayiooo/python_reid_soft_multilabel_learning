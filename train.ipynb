{
 "cells": [
  {
   "cell_type": "code",
   "execution_count": 10,
   "metadata": {},
   "outputs": [],
   "source": [
    "import torch\n",
    "from my_dataset import MyDataset\n",
    "from my_transform import data_transforms\n",
    "from torch.utils.data import DataLoader"
   ]
  },
  {
   "cell_type": "code",
   "execution_count": 11,
   "metadata": {},
   "outputs": [],
   "source": [
    "BATCH_SIZE = 64\n",
    "DATA_DIR_TRAIN = '../../Datasets/ReID_Market-1501/bounding_box_train'\n",
    "DATA_DIR_TEST = '../../Datasets/ReID_Market-1501/bounding_box_test'"
   ]
  },
  {
   "cell_type": "code",
   "execution_count": 12,
   "metadata": {},
   "outputs": [
    {
     "name": "stdout",
     "output_type": "stream",
     "text": [
      "Device: cpu\n"
     ]
    }
   ],
   "source": [
    "DEVICE = torch.device('cuda') if torch.cuda.is_available() else torch.device('cpu')\n",
    "print('Device:', DEVICE)"
   ]
  },
  {
   "cell_type": "code",
   "execution_count": 13,
   "metadata": {},
   "outputs": [],
   "source": [
    "data_loader = {\n",
    "    'train': DataLoader(\n",
    "        dataset=MyDataset(DATA_DIR_TRAIN, \n",
    "                          mode='train', \n",
    "                          transform=data_transforms('train')),\n",
    "        batch_size=BATCH_SIZE,\n",
    "        shuffle=True,\n",
    "    ),\n",
    "    'val': DataLoader(\n",
    "        dataset=MyDataset(DATA_DIR_TEST,\n",
    "                          mode='test',\n",
    "                          transform=data_transforms('test')),\n",
    "        batch_size=BATCH_SIZE,\n",
    "        shuffle=False,\n",
    "    ),\n",
    "}"
   ]
  },
  {
   "cell_type": "code",
   "execution_count": null,
   "metadata": {},
   "outputs": [],
   "source": []
  }
 ],
 "metadata": {
  "kernelspec": {
   "display_name": "Python 3",
   "language": "python",
   "name": "python3"
  },
  "language_info": {
   "codemirror_mode": {
    "name": "ipython",
    "version": 3
   },
   "file_extension": ".py",
   "mimetype": "text/x-python",
   "name": "python",
   "nbconvert_exporter": "python",
   "pygments_lexer": "ipython3",
   "version": "3.7.3"
  }
 },
 "nbformat": 4,
 "nbformat_minor": 2
}
