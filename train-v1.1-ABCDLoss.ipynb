{
 "cells": [
  {
   "cell_type": "code",
   "execution_count": 1,
   "metadata": {},
   "outputs": [
    {
     "name": "stdout",
     "output_type": "stream",
     "text": [
      "Device: cuda\n"
     ]
    }
   ],
   "source": [
    "import os\n",
    "import time\n",
    "import torch\n",
    "import torch.nn as nn\n",
    "import torch.nn.functional as F\n",
    "from models.resnet import resnet50\n",
    "from my_dataset import MyDataset\n",
    "from my_lossfunc import JointLoss, MultilabelLoss, DiscriminativeLoss\n",
    "from my_transform import data_transforms\n",
    "from scipy.spatial.distance import pdist, cdist  # 一集合点距, 两集合点距\n",
    "from torch.utils.data import DataLoader\n",
    "from tqdm import tnrange\n",
    "from tqdm import tqdm_notebook as tqdm\n",
    "from utils import *\n",
    "\n",
    "os.environ[\"CUDA_VISIBLE_DEVICES\"] = \"1,2,3\"\n",
    "DEVICE = torch.device('cuda') if torch.cuda.is_available() else torch.device('cpu')\n",
    "print('Device:', DEVICE)\n",
    "\n",
    "\n",
    "BASE = '/home/zengrui/datasets'\n",
    "DUKE_DIR_TRAIN = f'{BASE}/ReID_Duke/bounding_box_train'\n",
    "DUKE_DIR_TEST = f'{BASE}/ReID_Duke/bounding_box_test'\n",
    "DUKE_IMG_AMOUNT = 16522\n",
    "DUKE_ID_AMOUNT = 702\n",
    "MARKET_DIR_TRAIN = f'{BASE}/ReID_Market/bounding_box_train'\n",
    "MARKET_DIR_GALLERY = f'{BASE}/ReID_Market/bounding_box_test'\n",
    "MARKET_DIR_PROBE = f'{BASE}/ReID_Market/query'\n",
    "MARKET_IMG_AMOUNT = 12936\n",
    "MARKET_ID_AMOUNT = 751\n",
    "ML_PATH = 'data/ml_Market.dat'\n",
    "PRETRAIN_PATH = 'data/pretrained_weight.pkl'\n",
    "PRETRAIN_OUT_PATH = 'data/pretrained_weight_{}.pkl'\n",
    "\n",
    "BATCH_SIZE = 96\n",
    "EPOCH = 30\n",
    "LR = 0.01\n",
    "\n",
    "BETA = 0.2\n",
    "LAMB1 = 2e-4\n",
    "LAMB2 = 50\n",
    "MARGIN = 1\n",
    "SCALA_CE = 30"
   ]
  },
  {
   "cell_type": "markdown",
   "metadata": {},
   "source": [
    "# Prepare Work"
   ]
  },
  {
   "cell_type": "code",
   "execution_count": 2,
   "metadata": {},
   "outputs": [
    {
     "name": "stdout",
     "output_type": "stream",
     "text": [
      "data_loader: ok.\n"
     ]
    }
   ],
   "source": [
    "# data loader\n",
    "data_loader = {\n",
    "    'source': DataLoader(\n",
    "        dataset=MyDataset(DUKE_DIR_TRAIN, \n",
    "                          transform=data_transforms('train'),\n",
    "                          require_view=False,\n",
    "                          encode_label=True),\n",
    "        batch_size=BATCH_SIZE,\n",
    "        shuffle=True,\n",
    "    ),\n",
    "    'target': DataLoader(\n",
    "        dataset=MyDataset(MARKET_DIR_TRAIN,\n",
    "                          transform=data_transforms('train'),\n",
    "                          require_view=True,\n",
    "                          encode_label=True),\n",
    "        batch_size=BATCH_SIZE,\n",
    "        shuffle=True,\n",
    "    ),\n",
    "    'gallery': DataLoader(\n",
    "        dataset=MyDataset(MARKET_DIR_GALLERY,\n",
    "                          transform=data_transforms('test'),\n",
    "                          require_view=True),\n",
    "        batch_size=BATCH_SIZE,\n",
    "        shuffle=False,\n",
    "    ),\n",
    "    'probe': DataLoader(\n",
    "        dataset=MyDataset(MARKET_DIR_PROBE,\n",
    "                          transform=data_transforms('test'),\n",
    "                          require_view=True),\n",
    "        batch_size=BATCH_SIZE,\n",
    "        shuffle=False,\n",
    "    ),\n",
    "}\n",
    "print('data_loader: ok.')"
   ]
  },
  {
   "cell_type": "markdown",
   "metadata": {},
   "source": [
    "# Trainer"
   ]
  },
  {
   "cell_type": "code",
   "execution_count": 3,
   "metadata": {},
   "outputs": [],
   "source": [
    "class Trainer(object):\n",
    "    def __init__(self):\n",
    "        \n",
    "        # 网络\n",
    "        self.net = resnet50(pretrained=False, \n",
    "                            num_classes=DUKE_ID_AMOUNT)\n",
    "        self.net = nn.DataParallel(self.net).to(DEVICE)\n",
    "        if PRETRAIN_PATH is not None and os.path.exists(PRETRAIN_PATH):\n",
    "            self.net.load_state_dict(torch.load(PRETRAIN_PATH))\n",
    "            print('Pretrained model loaded.')\n",
    "        else:\n",
    "            print('Pretrained model not found. Train from scratch.')\n",
    "            \n",
    "        # 损失\n",
    "        self.mdl_loss = DiscriminativeLoss(0.001).to(DEVICE)\n",
    "        self.al_loss = nn.CrossEntropyLoss().to(DEVICE)\n",
    "        self.rj_loss = JointLoss(MARGIN).to(DEVICE)  # lack 1 param\n",
    "        self.cml_loss = MultilabelLoss(BATCH_SIZE).to(DEVICE)\n",
    "        \n",
    "        # 优化器\n",
    "        self.optimizer = torch.optim.SGD(\n",
    "            self.net.parameters(), lr=LR, momentum=0.9)\n",
    "        self.lr_scheduler = torch.optim.lr_scheduler.MultiStepLR(\n",
    "            self.optimizer, milestones=[int(EPOCH / 8 * 5), int(EPOCH / 8 * 7)])\n",
    "        \n",
    "        # 存储器\n",
    "        self.ml_mem = torch.zeros(MARKET_IMG_AMOUNT, DUKE_ID_AMOUNT)\n",
    "        self.inited = self.ml_mem.sum(dim=1) != 0\n",
    "    \n",
    "    def train(self):\n",
    "        '''进行一次完整训练.'''\n",
    "        print('Training start. Epochs: %d' % EPOCH)\n",
    "        self.net.train()\n",
    "        for epoch in tnrange(EPOCH):\n",
    "            self.train_epoch(epoch)\n",
    "    \n",
    "    def train_epoch(self, epoch):\n",
    "        '''训练一个epoch.'''\n",
    "        stats = ('total', 'src', 'st', 'ml', 'tgt')\n",
    "        running_loss = {stat: AverageMeter() for stat in stats}\n",
    "        \n",
    "        if not self.mdl_loss.initialized:\n",
    "            self.init_losses(data_loader['target'])\n",
    "        \n",
    "        with tqdm(total=len(data_loader['source'])) as pbar:\n",
    "            tgt_iter = iter(data_loader['target'])\n",
    "            for step, (ax, ay) in enumerate(data_loader['source']):\n",
    "                # a - source, b - target\n",
    "                ax = ax.to(DEVICE)\n",
    "                ay = ay.to(DEVICE)\n",
    "                try:\n",
    "                    b = next(tgt_iter)\n",
    "                except StopIteration:\n",
    "                    tgt_iter = iter(data_loader['target'])\n",
    "                    b = next(tgt_iter)\n",
    "                (bx, by, b_view, b_idx) = b\n",
    "                bx, by, b_view = bx.to(DEVICE), by.to(DEVICE), b_view.to(DEVICE)\n",
    "\n",
    "                a_f, a_sim, _ = self.net(ax)\n",
    "                b_f, b_sim, _ = self.net(bx)\n",
    "\n",
    "                loss = [stat: torch.Tensor([0]).to(DEVICE) \n",
    "                        for stat in stats]\n",
    "                \n",
    "                loss['src'] = self.al_loss(a_sim * SCALA_CE, ay)  # 有监督 交叉熵\n",
    "                \n",
    "                agents = self.net.module.fc.weight.renorm(2, 0, 1e-5).mul(1e5)  # 归一化 shape=(702, 2048)\n",
    "                loss['st'] = self.rj_loss(agents.detach(), a_f, a_sim.detach(), ay, \n",
    "                                          b_f, b_sim.detach())\n",
    "                \n",
    "                with torch.no_grad():\n",
    "                    ml = F.softmax(b_f.mm(agents.t_() * SCALA_CE), dim=1)  # t_(): 转置并inplace\n",
    "                loss['ml'] = self.cml_loss(torch.log(ml), b_view)\n",
    "    \n",
    "                if epoch > 0:  # 为什么第一轮不算 mdl_loss 呢\n",
    "                    ml_cpu = ml.detach().cpu()\n",
    "                    is_inited_batch = self.inited[b_idx]\n",
    "                    inited_idx = b_idx[is_inited_batch]\n",
    "                    uninited_idx = b_idx[~is_inited_batch]\n",
    "                    self.ml_mem[uninited_idx] = ml_cpu[~is_inited_batch]  # 0标签满更新\n",
    "                    self.inited[uninited_idx] = True\n",
    "                    self.ml_mem[inited_idx] = 0.9 * self.ml_mem[inited_idx] \\\n",
    "                                            + 0.1 * ml_cpu[is_inited_batch]  # 非空标签小更新\n",
    "                    loss['tgt'] = self.mdl_loss(b_f, self.ml_mem[b_idx], by)\n",
    "\n",
    "                self.optimizer.zero_grad()\n",
    "                loss['total'] = loss['tgt'] + LAMB1 * loss['ml'] \\\n",
    "                              + LAMB2 * (loss['src'] + BETA * loss['st'])\n",
    "                loss['total'].backward()\n",
    "                self.optimizer.step()\n",
    "\n",
    "                for stat in stats:\n",
    "                    loss_cpu = float(loss[stat].data.cpu().numpy())\n",
    "                    running_loss[stat].update(loss_cpu)\n",
    "                pbar.set_description('Loss: %.4f' % running_loss['total'].avg)\n",
    "                pbar.update()\n",
    "\n",
    "            self.lr_scheduler.step()\n",
    "            pbar.set_description('Progress:')\n",
    "            print('Epoch: %d, Loss: %.4f (%.4f + %.4f + %.4f + %.4f)' \n",
    "                  % (epoch, \n",
    "                     running_loss['total'].avg, \n",
    "                     running_loss['src'].avg * LAMB2, \n",
    "                     running_loss['st'].avg * LAMB2 * BETA, \n",
    "                     running_loss['ml'].avg * LAMB1, \n",
    "                     running_loss['tgt'].avg))\n",
    "            \n",
    "    def eval_performance(self, target_loader, gallery_loader, probe_loader):\n",
    "        stats = ('r1', 'r5', 'r10', 'MAP')\n",
    "        val = {stat: AverageMeter() for stat in stats}\n",
    "        self.net.eval()\n",
    "        \n",
    "        gallery_f, gallery_y, gallery_views = extract_features(\n",
    "            gallery_loader, self.net, index_feature=0)\n",
    "        probe_f, probe_y, probe_views = extract_features(\n",
    "            probe_loader, self.net, index_feature=0)\n",
    "        dist = cdist(gallery_f, probe_f, metric='cosine')\n",
    "        CMC, MAP = eval_cmc_map(\n",
    "            dist, gallery_y, probe_y, gallery_views, probe_views, ignore_MAP=False)\n",
    "        r1, r5, r10 = CMC[0], CMC[4], CMC[9]\n",
    "        \n",
    "        for stat in stats:\n",
    "            val[stat].update(locals()[k].item(), BATCH_SIZE)\n",
    "        return val\n",
    "            \n",
    "    def init_losses(self, tgt_loader):\n",
    "        '''训练前初始化loss参数.'''\n",
    "        print('#' * 8, 'Initializing losses', '#' * 8)\n",
    "        if os.path.isfile(ML_PATH):\n",
    "            (ml, views, pairwise_agreements) = torch.load(ML_PATH)\n",
    "            print('Ml loaded.')\n",
    "        else:\n",
    "            print('Ml not found, computing...')\n",
    "            sim, _, views = extract_features(\n",
    "                data_loader['target'], self.net, index_feature=1, return_numpy=False)\n",
    "            ml = F.softmax(sim * SCALA_CE, dim=1)\n",
    "            ml_np = ml.cpu().numpy()\n",
    "            pairwise_agreements = 1 - pdist(ml_np, 'minkowski', p=1) / 2  # 相似比较特征\n",
    "            print('Ml saving to %s...' % ML_PATH)\n",
    "            torch.save((ml, views, pairwise_agreements), ML_PATH)\n",
    "\n",
    "        self.cml_loss.init_centers(torch.log(ml), views)\n",
    "        print('Cml_loss centers inited.')\n",
    "        self.mdl_loss.init_threshold(pairwise_agreements)\n",
    "        print('Mdl_loss threshold inited.')\n",
    "        print('#' * 8, 'OK', '#' * 8)\n",
    "        \n",
    "    def save_model(self, cover=False):\n",
    "        '''\n",
    "        保存当前模型net的参数.\n",
    "        \n",
    "        :param cover: True覆盖默认文件, False新增带时间戳文件\n",
    "        '''\n",
    "        if cover:\n",
    "            torch.save(self.net.state_dict(), PRETRAIN_PATH)\n",
    "        else:\n",
    "            torch.save(self.net.state_dict(), PRETRAIN_OUT_PATH.format(time.time()))\n",
    "        print('Model weight saved.')"
   ]
  },
  {
   "cell_type": "markdown",
   "metadata": {},
   "source": [
    "# Train"
   ]
  },
  {
   "cell_type": "code",
   "execution_count": 4,
   "metadata": {
    "scrolled": true
   },
   "outputs": [
    {
     "name": "stdout",
     "output_type": "stream",
     "text": [
      "Pre-trained model loaded.\n",
      "Training start. Epochs: 30\n"
     ]
    },
    {
     "data": {
      "application/vnd.jupyter.widget-view+json": {
       "model_id": "39e5062e5cea49289ed948c665a5f61b",
       "version_major": 2,
       "version_minor": 0
      },
      "text/plain": [
       "HBox(children=(IntProgress(value=0, max=30), HTML(value='')))"
      ]
     },
     "metadata": {},
     "output_type": "display_data"
    },
    {
     "name": "stdout",
     "output_type": "stream",
     "text": [
      "######## Initializing losses ########\n",
      "Ml loaded.\n",
      "Cml_loss centers inited.\n",
      "Mdl_loss threshold inited.\n",
      "######## OK ########\n"
     ]
    },
    {
     "data": {
      "application/vnd.jupyter.widget-view+json": {
       "model_id": "00f56bb8aa504c60b907710413721223",
       "version_major": 2,
       "version_minor": 0
      },
      "text/plain": [
       "HBox(children=(IntProgress(value=0, max=173), HTML(value='')))"
      ]
     },
     "metadata": {},
     "output_type": "display_data"
    },
    {
     "name": "stdout",
     "output_type": "stream",
     "text": [
      "Epoch: 0, Loss: 71.3993 (58.4740 + 12.0500 + 0.8753 + 0.0000)\n",
      "\n"
     ]
    },
    {
     "data": {
      "application/vnd.jupyter.widget-view+json": {
       "model_id": "99f7949a53a943d08759822ac0784b20",
       "version_major": 2,
       "version_minor": 0
      },
      "text/plain": [
       "HBox(children=(IntProgress(value=0, max=173), HTML(value='')))"
      ]
     },
     "metadata": {},
     "output_type": "display_data"
    },
    {
     "name": "stdout",
     "output_type": "stream",
     "text": [
      "Epoch: 1, Loss: 69.7113 (56.9485 + 11.9994 + 0.1691 + 0.5943)\n",
      "\n"
     ]
    },
    {
     "data": {
      "application/vnd.jupyter.widget-view+json": {
       "model_id": "6cea35f0c08e4d568aaf4b8dd1c88e07",
       "version_major": 2,
       "version_minor": 0
      },
      "text/plain": [
       "HBox(children=(IntProgress(value=0, max=173), HTML(value='')))"
      ]
     },
     "metadata": {},
     "output_type": "display_data"
    },
    {
     "name": "stdout",
     "output_type": "stream",
     "text": [
      "Epoch: 2, Loss: 68.7956 (56.1195 + 11.9559 + 0.1456 + 0.5747)\n",
      "\n"
     ]
    },
    {
     "data": {
      "application/vnd.jupyter.widget-view+json": {
       "model_id": "fb72766234e84d5dab2f31aecaf2f5a9",
       "version_major": 2,
       "version_minor": 0
      },
      "text/plain": [
       "HBox(children=(IntProgress(value=0, max=173), HTML(value='')))"
      ]
     },
     "metadata": {},
     "output_type": "display_data"
    },
    {
     "name": "stdout",
     "output_type": "stream",
     "text": [
      "Epoch: 3, Loss: 66.7055 (54.0475 + 11.9342 + 0.1389 + 0.5849)\n",
      "\n"
     ]
    },
    {
     "data": {
      "application/vnd.jupyter.widget-view+json": {
       "model_id": "119953dead00417d9dcff6d39abb4aaa",
       "version_major": 2,
       "version_minor": 0
      },
      "text/plain": [
       "HBox(children=(IntProgress(value=0, max=173), HTML(value='')))"
      ]
     },
     "metadata": {},
     "output_type": "display_data"
    },
    {
     "name": "stdout",
     "output_type": "stream",
     "text": [
      "Epoch: 4, Loss: 65.7732 (53.1588 + 11.8853 + 0.1410 + 0.5881)\n",
      "\n"
     ]
    },
    {
     "data": {
      "application/vnd.jupyter.widget-view+json": {
       "model_id": "caf22bf506934c8ea0ac1f38c182c51f",
       "version_major": 2,
       "version_minor": 0
      },
      "text/plain": [
       "HBox(children=(IntProgress(value=0, max=173), HTML(value='')))"
      ]
     },
     "metadata": {},
     "output_type": "display_data"
    },
    {
     "name": "stdout",
     "output_type": "stream",
     "text": [
      "Epoch: 5, Loss: 64.2783 (51.7005 + 11.8379 + 0.1421 + 0.5978)\n",
      "\n"
     ]
    },
    {
     "data": {
      "application/vnd.jupyter.widget-view+json": {
       "model_id": "b22cd687d100449787526b0e08ae9b24",
       "version_major": 2,
       "version_minor": 0
      },
      "text/plain": [
       "HBox(children=(IntProgress(value=0, max=173), HTML(value='')))"
      ]
     },
     "metadata": {},
     "output_type": "display_data"
    },
    {
     "name": "stdout",
     "output_type": "stream",
     "text": [
      "Epoch: 6, Loss: 64.1345 (51.5798 + 11.8195 + 0.1424 + 0.5927)\n",
      "\n"
     ]
    },
    {
     "data": {
      "application/vnd.jupyter.widget-view+json": {
       "model_id": "c943e80c1bed47599ecd509a3704e13b",
       "version_major": 2,
       "version_minor": 0
      },
      "text/plain": [
       "HBox(children=(IntProgress(value=0, max=173), HTML(value='')))"
      ]
     },
     "metadata": {},
     "output_type": "display_data"
    },
    {
     "name": "stdout",
     "output_type": "stream",
     "text": [
      "Epoch: 7, Loss: 62.4723 (49.9944 + 11.7448 + 0.1418 + 0.5914)\n",
      "\n"
     ]
    },
    {
     "data": {
      "application/vnd.jupyter.widget-view+json": {
       "model_id": "7e688eeb36c64be0959904112104122a",
       "version_major": 2,
       "version_minor": 0
      },
      "text/plain": [
       "HBox(children=(IntProgress(value=0, max=173), HTML(value='')))"
      ]
     },
     "metadata": {},
     "output_type": "display_data"
    },
    {
     "name": "stdout",
     "output_type": "stream",
     "text": [
      "Epoch: 8, Loss: 61.0411 (48.5983 + 11.7114 + 0.1404 + 0.5910)\n",
      "\n"
     ]
    },
    {
     "data": {
      "application/vnd.jupyter.widget-view+json": {
       "model_id": "8a74ffa89fe0454d86170b1e6d514efb",
       "version_major": 2,
       "version_minor": 0
      },
      "text/plain": [
       "HBox(children=(IntProgress(value=0, max=173), HTML(value='')))"
      ]
     },
     "metadata": {},
     "output_type": "display_data"
    },
    {
     "name": "stdout",
     "output_type": "stream",
     "text": [
      "Epoch: 9, Loss: 59.8699 (47.4327 + 11.6880 + 0.1449 + 0.6044)\n",
      "\n"
     ]
    },
    {
     "data": {
      "application/vnd.jupyter.widget-view+json": {
       "model_id": "358ee8f5bb644b57900721872b40338b",
       "version_major": 2,
       "version_minor": 0
      },
      "text/plain": [
       "HBox(children=(IntProgress(value=0, max=173), HTML(value='')))"
      ]
     },
     "metadata": {},
     "output_type": "display_data"
    },
    {
     "name": "stdout",
     "output_type": "stream",
     "text": [
      "Epoch: 10, Loss: 59.2143 (46.8263 + 11.6403 + 0.1417 + 0.6060)\n",
      "\n"
     ]
    },
    {
     "data": {
      "application/vnd.jupyter.widget-view+json": {
       "model_id": "fe8e2c5290e74735bebc9748743d8760",
       "version_major": 2,
       "version_minor": 0
      },
      "text/plain": [
       "HBox(children=(IntProgress(value=0, max=173), HTML(value='')))"
      ]
     },
     "metadata": {},
     "output_type": "display_data"
    },
    {
     "name": "stdout",
     "output_type": "stream",
     "text": [
      "Epoch: 11, Loss: 58.0917 (45.7545 + 11.5975 + 0.1435 + 0.5962)\n",
      "\n"
     ]
    },
    {
     "data": {
      "application/vnd.jupyter.widget-view+json": {
       "model_id": "a31b833ac07941c1ad1eda15c1df2e06",
       "version_major": 2,
       "version_minor": 0
      },
      "text/plain": [
       "HBox(children=(IntProgress(value=0, max=173), HTML(value='')))"
      ]
     },
     "metadata": {},
     "output_type": "display_data"
    },
    {
     "name": "stdout",
     "output_type": "stream",
     "text": [
      "Epoch: 12, Loss: 56.8820 (44.5744 + 11.5534 + 0.1424 + 0.6119)\n",
      "\n"
     ]
    },
    {
     "data": {
      "application/vnd.jupyter.widget-view+json": {
       "model_id": "36613e22261945c6ab6e852cdcf91242",
       "version_major": 2,
       "version_minor": 0
      },
      "text/plain": [
       "HBox(children=(IntProgress(value=0, max=173), HTML(value='')))"
      ]
     },
     "metadata": {},
     "output_type": "display_data"
    },
    {
     "name": "stdout",
     "output_type": "stream",
     "text": [
      "Epoch: 13, Loss: 55.7237 (43.4499 + 11.5211 + 0.1443 + 0.6085)\n",
      "\n"
     ]
    },
    {
     "data": {
      "application/vnd.jupyter.widget-view+json": {
       "model_id": "4c55ebeb5fac4a5e856bc504cfceeb1b",
       "version_major": 2,
       "version_minor": 0
      },
      "text/plain": [
       "HBox(children=(IntProgress(value=0, max=173), HTML(value='')))"
      ]
     },
     "metadata": {},
     "output_type": "display_data"
    },
    {
     "name": "stdout",
     "output_type": "stream",
     "text": [
      "Epoch: 14, Loss: 54.3753 (42.1523 + 11.4678 + 0.1448 + 0.6104)\n",
      "\n"
     ]
    },
    {
     "data": {
      "application/vnd.jupyter.widget-view+json": {
       "model_id": "7b88a61318a84abaa53233fd6c3ce47e",
       "version_major": 2,
       "version_minor": 0
      },
      "text/plain": [
       "HBox(children=(IntProgress(value=0, max=173), HTML(value='')))"
      ]
     },
     "metadata": {},
     "output_type": "display_data"
    },
    {
     "name": "stdout",
     "output_type": "stream",
     "text": [
      "Epoch: 15, Loss: 53.0909 (40.9400 + 11.4091 + 0.1432 + 0.5987)\n",
      "\n"
     ]
    },
    {
     "data": {
      "application/vnd.jupyter.widget-view+json": {
       "model_id": "9501a0b9b35f452eaee706cdbca93643",
       "version_major": 2,
       "version_minor": 0
      },
      "text/plain": [
       "HBox(children=(IntProgress(value=0, max=173), HTML(value='')))"
      ]
     },
     "metadata": {},
     "output_type": "display_data"
    },
    {
     "name": "stdout",
     "output_type": "stream",
     "text": [
      "Epoch: 16, Loss: 53.2075 (41.0686 + 11.3962 + 0.1420 + 0.6007)\n",
      "\n"
     ]
    },
    {
     "data": {
      "application/vnd.jupyter.widget-view+json": {
       "model_id": "361bba843a9c4d58be1fb48924639eb4",
       "version_major": 2,
       "version_minor": 0
      },
      "text/plain": [
       "HBox(children=(IntProgress(value=0, max=173), HTML(value='')))"
      ]
     },
     "metadata": {},
     "output_type": "display_data"
    },
    {
     "name": "stdout",
     "output_type": "stream",
     "text": [
      "Epoch: 17, Loss: 51.3622 (39.2890 + 11.3300 + 0.1415 + 0.6016)\n",
      "\n"
     ]
    },
    {
     "data": {
      "application/vnd.jupyter.widget-view+json": {
       "model_id": "86b5d2e36c6b44c19e82dd6b91b4495e",
       "version_major": 2,
       "version_minor": 0
      },
      "text/plain": [
       "HBox(children=(IntProgress(value=0, max=173), HTML(value='')))"
      ]
     },
     "metadata": {},
     "output_type": "display_data"
    },
    {
     "name": "stdout",
     "output_type": "stream",
     "text": [
      "Epoch: 18, Loss: 48.3347 (36.3719 + 11.2089 + 0.1413 + 0.6127)\n",
      "\n"
     ]
    },
    {
     "data": {
      "application/vnd.jupyter.widget-view+json": {
       "model_id": "28f5bfac320349d78e58b42dbf676d1c",
       "version_major": 2,
       "version_minor": 0
      },
      "text/plain": [
       "HBox(children=(IntProgress(value=0, max=173), HTML(value='')))"
      ]
     },
     "metadata": {},
     "output_type": "display_data"
    },
    {
     "name": "stdout",
     "output_type": "stream",
     "text": [
      "Epoch: 19, Loss: 47.3945 (35.4275 + 11.2277 + 0.1397 + 0.5997)\n",
      "\n"
     ]
    },
    {
     "data": {
      "application/vnd.jupyter.widget-view+json": {
       "model_id": "6ad7f58c0edf4a9fa04056f0e2b675d7",
       "version_major": 2,
       "version_minor": 0
      },
      "text/plain": [
       "HBox(children=(IntProgress(value=0, max=173), HTML(value='')))"
      ]
     },
     "metadata": {},
     "output_type": "display_data"
    },
    {
     "name": "stdout",
     "output_type": "stream",
     "text": [
      "Epoch: 20, Loss: 47.7074 (35.7434 + 11.2270 + 0.1389 + 0.5981)\n",
      "\n"
     ]
    },
    {
     "data": {
      "application/vnd.jupyter.widget-view+json": {
       "model_id": "9a8d5b7e275f4a729828ccea194bad10",
       "version_major": 2,
       "version_minor": 0
      },
      "text/plain": [
       "HBox(children=(IntProgress(value=0, max=173), HTML(value='')))"
      ]
     },
     "metadata": {},
     "output_type": "display_data"
    },
    {
     "name": "stdout",
     "output_type": "stream",
     "text": [
      "Epoch: 21, Loss: 47.1715 (35.1937 + 11.2285 + 0.1394 + 0.6099)\n",
      "\n"
     ]
    },
    {
     "data": {
      "application/vnd.jupyter.widget-view+json": {
       "model_id": "6eb1e37e0f33478f9849aeb291b1264b",
       "version_major": 2,
       "version_minor": 0
      },
      "text/plain": [
       "HBox(children=(IntProgress(value=0, max=173), HTML(value='')))"
      ]
     },
     "metadata": {},
     "output_type": "display_data"
    },
    {
     "name": "stdout",
     "output_type": "stream",
     "text": [
      "Epoch: 22, Loss: 47.2792 (35.3174 + 11.2165 + 0.1428 + 0.6026)\n",
      "\n"
     ]
    },
    {
     "data": {
      "application/vnd.jupyter.widget-view+json": {
       "model_id": "a81611935d3a4211aa88b1b19e8454b1",
       "version_major": 2,
       "version_minor": 0
      },
      "text/plain": [
       "HBox(children=(IntProgress(value=0, max=173), HTML(value='')))"
      ]
     },
     "metadata": {},
     "output_type": "display_data"
    },
    {
     "name": "stdout",
     "output_type": "stream",
     "text": [
      "Epoch: 23, Loss: 46.6880 (34.7435 + 11.2100 + 0.1406 + 0.5939)\n",
      "\n"
     ]
    },
    {
     "data": {
      "application/vnd.jupyter.widget-view+json": {
       "model_id": "f872124eb1624273bf159b2993cb9246",
       "version_major": 2,
       "version_minor": 0
      },
      "text/plain": [
       "HBox(children=(IntProgress(value=0, max=173), HTML(value='')))"
      ]
     },
     "metadata": {},
     "output_type": "display_data"
    },
    {
     "name": "stdout",
     "output_type": "stream",
     "text": [
      "Epoch: 24, Loss: 47.1880 (35.2148 + 11.2292 + 0.1406 + 0.6033)\n",
      "\n"
     ]
    },
    {
     "data": {
      "application/vnd.jupyter.widget-view+json": {
       "model_id": "1280c494311b4324885f235ebdc0e825",
       "version_major": 2,
       "version_minor": 0
      },
      "text/plain": [
       "HBox(children=(IntProgress(value=0, max=173), HTML(value='')))"
      ]
     },
     "metadata": {},
     "output_type": "display_data"
    },
    {
     "name": "stdout",
     "output_type": "stream",
     "text": [
      "Epoch: 25, Loss: 46.5468 (34.5813 + 11.2104 + 0.1383 + 0.6167)\n",
      "\n"
     ]
    },
    {
     "data": {
      "application/vnd.jupyter.widget-view+json": {
       "model_id": "4acaf9d5b9c847a9ac5b5d2b491ed134",
       "version_major": 2,
       "version_minor": 0
      },
      "text/plain": [
       "HBox(children=(IntProgress(value=0, max=173), HTML(value='')))"
      ]
     },
     "metadata": {},
     "output_type": "display_data"
    },
    {
     "name": "stdout",
     "output_type": "stream",
     "text": [
      "Epoch: 26, Loss: 46.2470 (34.2921 + 11.2072 + 0.1406 + 0.6071)\n",
      "\n"
     ]
    },
    {
     "data": {
      "application/vnd.jupyter.widget-view+json": {
       "model_id": "ae871b299c9d44aeaae4ad3c56760a3a",
       "version_major": 2,
       "version_minor": 0
      },
      "text/plain": [
       "HBox(children=(IntProgress(value=0, max=173), HTML(value='')))"
      ]
     },
     "metadata": {},
     "output_type": "display_data"
    },
    {
     "name": "stdout",
     "output_type": "stream",
     "text": [
      "Epoch: 27, Loss: 46.0727 (34.1213 + 11.2022 + 0.1406 + 0.6086)\n",
      "\n"
     ]
    },
    {
     "data": {
      "application/vnd.jupyter.widget-view+json": {
       "model_id": "523c8934eee94db6b2b50d75c460ece9",
       "version_major": 2,
       "version_minor": 0
      },
      "text/plain": [
       "HBox(children=(IntProgress(value=0, max=173), HTML(value='')))"
      ]
     },
     "metadata": {},
     "output_type": "display_data"
    },
    {
     "name": "stdout",
     "output_type": "stream",
     "text": [
      "Epoch: 28, Loss: 46.1970 (34.2461 + 11.1988 + 0.1377 + 0.6143)\n",
      "\n"
     ]
    },
    {
     "data": {
      "application/vnd.jupyter.widget-view+json": {
       "model_id": "6223fbfd329d4893bae2c527536a8b05",
       "version_major": 2,
       "version_minor": 0
      },
      "text/plain": [
       "HBox(children=(IntProgress(value=0, max=173), HTML(value='')))"
      ]
     },
     "metadata": {},
     "output_type": "display_data"
    },
    {
     "name": "stdout",
     "output_type": "stream",
     "text": [
      "Epoch: 29, Loss: 46.1508 (34.2094 + 11.1932 + 0.1394 + 0.6089)\n",
      "\n",
      "\n"
     ]
    }
   ],
   "source": [
    "trainer = Trainer()\n",
    "trainer.train()"
   ]
  },
  {
   "cell_type": "code",
   "execution_count": 6,
   "metadata": {},
   "outputs": [
    {
     "name": "stdout",
     "output_type": "stream",
     "text": [
      "Model weight saved.\n"
     ]
    }
   ],
   "source": [
    "trainer.save_model()\n",
    "trainer.save_model(cover=True)"
   ]
  },
  {
   "cell_type": "markdown",
   "metadata": {},
   "source": [
    "# Eval"
   ]
  },
  {
   "cell_type": "code",
   "execution_count": null,
   "metadata": {},
   "outputs": [],
   "source": [
    "trainer.eval_performance(data_loader['target'], data_loader['gallery'], data_loader['probe'])"
   ]
  }
 ],
 "metadata": {
  "kernelspec": {
   "display_name": "Python 3",
   "language": "python",
   "name": "python3"
  },
  "language_info": {
   "codemirror_mode": {
    "name": "ipython",
    "version": 3
   },
   "file_extension": ".py",
   "mimetype": "text/x-python",
   "name": "python",
   "nbconvert_exporter": "python",
   "pygments_lexer": "ipython3",
   "version": "3.7.4"
  },
  "toc": {
   "base_numbering": 1,
   "nav_menu": {},
   "number_sections": true,
   "sideBar": true,
   "skip_h1_title": false,
   "title_cell": "Table of Contents",
   "title_sidebar": "Contents",
   "toc_cell": false,
   "toc_position": {},
   "toc_section_display": true,
   "toc_window_display": false
  },
  "varInspector": {
   "cols": {
    "lenName": 16,
    "lenType": 16,
    "lenVar": 40
   },
   "kernels_config": {
    "python": {
     "delete_cmd_postfix": "",
     "delete_cmd_prefix": "del ",
     "library": "var_list.py",
     "varRefreshCmd": "print(var_dic_list())"
    },
    "r": {
     "delete_cmd_postfix": ") ",
     "delete_cmd_prefix": "rm(",
     "library": "var_list.r",
     "varRefreshCmd": "cat(var_dic_list()) "
    }
   },
   "position": {
    "height": "803.212px",
    "left": "1763.33px",
    "right": "20px",
    "top": "120px",
    "width": "350px"
   },
   "types_to_exclude": [
    "module",
    "function",
    "builtin_function_or_method",
    "instance",
    "_Feature"
   ],
   "window_display": true
  }
 },
 "nbformat": 4,
 "nbformat_minor": 2
}
