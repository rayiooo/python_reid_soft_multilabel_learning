{
 "cells": [
  {
   "cell_type": "code",
   "execution_count": 1,
   "metadata": {},
   "outputs": [
    {
     "name": "stdout",
     "output_type": "stream",
     "text": [
      "Device: cuda\n"
     ]
    }
   ],
   "source": [
    "import matplotlib.pyplot as plt\n",
    "import os\n",
    "import time\n",
    "import torch\n",
    "import torch.nn as nn\n",
    "import torch.nn.functional as F\n",
    "from models.resnet import resnet50\n",
    "from my_dataset import MyDataset\n",
    "from my_lossfunc import JointLoss, MultilabelLoss, DiscriminativeLoss\n",
    "from my_transform import data_transforms\n",
    "from PIL import Image\n",
    "from scipy.spatial.distance import pdist, cdist  # 一集合点距, 两集合点距\n",
    "from torch.utils.data import DataLoader\n",
    "from tqdm import tnrange\n",
    "from tqdm import tqdm_notebook as tqdm\n",
    "from utils import *\n",
    "\n",
    "os.environ[\"CUDA_VISIBLE_DEVICES\"] = \"0,1,2,3\"\n",
    "DEVICE = torch.device('cuda') if torch.cuda.is_available() else torch.device('cpu')\n",
    "print('Device:', DEVICE)\n",
    "\n",
    "\n",
    "BASE = '/home/zengrui/datasets'\n",
    "DUKE_DIR_TRAIN = f'{BASE}/ReID_Duke/bounding_box_train'\n",
    "DUKE_DIR_TEST = f'{BASE}/ReID_Duke/bounding_box_test'\n",
    "DUKE_DIR_QUERY = f'{BASE}/ReID_Duke/query'\n",
    "DUKE_IMG_AMOUNT = 16522\n",
    "DUKE_ID_AMOUNT = 702\n",
    "MARKET_DIR_TRAIN = f'{BASE}/ReID_Market/bounding_box_train'\n",
    "MARKET_DIR_TEST = f'{BASE}/ReID_Market/bounding_box_test'\n",
    "MARKET_DIR_QUERY = f'{BASE}/ReID_Market/query'\n",
    "MARKET_IMG_AMOUNT = 12936\n",
    "MARKET_ID_AMOUNT = 751\n",
    "\n",
    "SOURCE_DIR_TRAIN = DUKE_DIR_TRAIN\n",
    "TARGET_DIR_TRAIN = MARKET_DIR_TRAIN\n",
    "TARGET_DIR_GALLERY = MARKET_DIR_TEST\n",
    "TARGET_DIR_PROBE = MARKET_DIR_QUERY\n",
    "SOURCE_ID_AMOUNT = DUKE_ID_AMOUNT\n",
    "TARGET_IMG_AMOUNT = MARKET_IMG_AMOUNT\n",
    "ML_PATH = 'data/ml_Market.dat'\n",
    "PRETRAIN_PATH = 'data/pretrained_weight.pkl'\n",
    "PRETRAIN_OUT_PATH = 'data/pretrained_weight_{}.pkl'\n",
    "\n",
    "BATCH_SIZE = 135\n",
    "EPOCH = 20\n",
    "LR = 0.01\n",
    "\n",
    "BETA = 0.2\n",
    "LAMB1 = 2e-4\n",
    "LAMB2 = 50\n",
    "MARGIN = 1\n",
    "SCALA_CE = 30\n",
    "WD = 2.5e-2"
   ]
  },
  {
   "cell_type": "markdown",
   "metadata": {},
   "source": [
    "# Prepare Work"
   ]
  },
  {
   "cell_type": "code",
   "execution_count": 2,
   "metadata": {},
   "outputs": [
    {
     "name": "stdout",
     "output_type": "stream",
     "text": [
      "data_loader: ok.\n"
     ]
    }
   ],
   "source": [
    "# data loader\n",
    "data_loader = {\n",
    "    'source': DataLoader(\n",
    "        dataset=MyDataset(SOURCE_DIR_TRAIN, \n",
    "                          transform=data_transforms('train'),\n",
    "                          require_view=False,\n",
    "                          encode_label=True),\n",
    "        batch_size=BATCH_SIZE,\n",
    "        shuffle=True,\n",
    "    ),\n",
    "    'target': DataLoader(\n",
    "        dataset=MyDataset(TARGET_DIR_TRAIN,\n",
    "                          transform=data_transforms('train'),\n",
    "                          require_view=True,\n",
    "                          encode_label=True),\n",
    "        batch_size=BATCH_SIZE,\n",
    "        shuffle=True,\n",
    "    ),\n",
    "    'gallery': DataLoader(\n",
    "        dataset=MyDataset(TARGET_DIR_GALLERY,\n",
    "                          transform=data_transforms('val'),\n",
    "                          require_view=True),\n",
    "        batch_size=BATCH_SIZE,\n",
    "        shuffle=False,\n",
    "    ),\n",
    "    'probe': DataLoader(\n",
    "        dataset=MyDataset(TARGET_DIR_PROBE,\n",
    "                          transform=data_transforms('val'),\n",
    "                          require_view=True),\n",
    "        batch_size=BATCH_SIZE,\n",
    "        shuffle=False,\n",
    "    ),\n",
    "}\n",
    "print('data_loader: ok.')"
   ]
  },
  {
   "cell_type": "markdown",
   "metadata": {},
   "source": [
    "# Trainer"
   ]
  },
  {
   "cell_type": "code",
   "execution_count": 3,
   "metadata": {},
   "outputs": [],
   "source": [
    "%matplotlib inline\n",
    "class Trainer(object):\n",
    "    def __init__(self):\n",
    "        \n",
    "        # 网络\n",
    "        self.net = resnet50(pretrained=False, \n",
    "                            num_classes=SOURCE_ID_AMOUNT)\n",
    "        self.net = nn.DataParallel(self.net).to(DEVICE)\n",
    "        if PRETRAIN_PATH is not None and os.path.exists(PRETRAIN_PATH):\n",
    "            self.net.load_state_dict(torch.load(PRETRAIN_PATH))\n",
    "            print('Pretrained model loaded.')\n",
    "        else:\n",
    "            print('Pretrained model not found. Train from scratch.')\n",
    "            \n",
    "        # 损失\n",
    "        self.mdl_loss = DiscriminativeLoss(0.001).to(DEVICE)\n",
    "        self.al_loss = nn.CrossEntropyLoss().to(DEVICE)\n",
    "        self.rj_loss = JointLoss(MARGIN).to(DEVICE)  # lack 1 param\n",
    "        self.cml_loss = MultilabelLoss(BATCH_SIZE).to(DEVICE)\n",
    "        \n",
    "        # 优化器\n",
    "        bn_params, other_params = partition_params(self.net, 'bn')\n",
    "        self.optimizer = torch.optim.SGD([\n",
    "                {'params': bn_params, 'weight_decay': 0},\n",
    "                {'params': other_params},\n",
    "            ], lr=LR, momentum=0.9, weight_decay=WD\n",
    "        )\n",
    "        self.lr_scheduler = torch.optim.lr_scheduler.MultiStepLR(\n",
    "            self.optimizer, milestones=[int(EPOCH / 8 * 5), int(EPOCH / 8 * 7)])\n",
    "        \n",
    "        # 存储器\n",
    "        self.ml_mem = torch.zeros(TARGET_IMG_AMOUNT, SOURCE_ID_AMOUNT)\n",
    "        self.inited = self.ml_mem.sum(dim=1) != 0\n",
    "    \n",
    "    def train(self):\n",
    "        '''进行一次完整训练.'''\n",
    "        print('Training start. Epochs: %d' % EPOCH)\n",
    "        self.net.train()\n",
    "        for epoch in tnrange(EPOCH):\n",
    "            self.train_epoch(epoch)\n",
    "    \n",
    "    def train_epoch(self, epoch):\n",
    "        '''训练一个epoch.'''\n",
    "        stats = ('total', 'src', 'st', 'ml', 'tgt')\n",
    "        running_loss = {stat: AverageMeter() for stat in stats}\n",
    "        \n",
    "        if not self.mdl_loss.initialized:\n",
    "            self.init_losses(data_loader['target'])\n",
    "            self.net.train()\n",
    "        \n",
    "        with tqdm(total=len(data_loader['source'])) as pbar:\n",
    "            tgt_iter = iter(data_loader['target'])\n",
    "            for step, (ax, ay) in enumerate(data_loader['source']):\n",
    "                # a - source, b - target\n",
    "                ax = ax.to(DEVICE)\n",
    "                ay = ay.to(DEVICE)\n",
    "                try:\n",
    "                    b = next(tgt_iter)\n",
    "                except StopIteration:\n",
    "                    tgt_iter = iter(data_loader['target'])\n",
    "                    b = next(tgt_iter)\n",
    "                (bx, by, b_view, b_idx) = b\n",
    "                bx, by, b_view = bx.to(DEVICE), by.to(DEVICE), b_view.to(DEVICE)\n",
    "\n",
    "                a_f, a_sim, _ = self.net(ax)\n",
    "                b_f, b_sim, _ = self.net(bx)\n",
    "\n",
    "                loss = {stat: torch.Tensor([0]).to(DEVICE) \n",
    "                        for stat in stats}\n",
    "                \n",
    "                loss['src'] = self.al_loss(a_sim * SCALA_CE, ay)  # 有监督 交叉熵\n",
    "                \n",
    "                agents = self.net.module.fc.weight.renorm(2, 0, 1e-5).mul(1e5)  # 归一化 shape=(702, 2048)\n",
    "                loss['st'] = self.rj_loss(agents.detach(), a_f, a_sim.detach(), ay, \n",
    "                                          b_f, b_sim.detach())\n",
    "                \n",
    "                with torch.no_grad():\n",
    "                    ml = F.softmax(b_f.mm(agents.t_() * SCALA_CE), dim=1)  # t_(): 转置并inplace\n",
    "                loss['ml'] = self.cml_loss(torch.log(ml), b_view)\n",
    "    \n",
    "                if epoch > 0:  # 为什么第一轮不算 mdl_loss 呢\n",
    "                    ml_cpu = ml.detach().cpu()\n",
    "                    is_inited_batch = self.inited[b_idx]\n",
    "                    inited_idx = b_idx[is_inited_batch]\n",
    "                    uninited_idx = b_idx[~is_inited_batch]\n",
    "                    self.ml_mem[uninited_idx] = ml_cpu[~is_inited_batch]  # 0标签满更新\n",
    "                    self.inited[uninited_idx] = True\n",
    "                    self.ml_mem[inited_idx] = 0.9 * self.ml_mem[inited_idx] \\\n",
    "                                            + 0.1 * ml_cpu[is_inited_batch]  # 非空标签小更新\n",
    "                    loss['tgt'] = self.mdl_loss(b_f, self.ml_mem[b_idx], by)\n",
    "\n",
    "                self.optimizer.zero_grad()\n",
    "                loss['total'] = loss['tgt'] + LAMB1 * loss['ml'] \\\n",
    "                              + LAMB2 * (loss['src'] + BETA * loss['st'])\n",
    "                loss['total'].backward()\n",
    "                self.optimizer.step()\n",
    "\n",
    "                for stat in stats:\n",
    "                    loss_cpu = float(loss[stat].data.cpu().numpy())\n",
    "                    running_loss[stat].update(loss_cpu, BATCH_SIZE)\n",
    "                pbar.set_description('Loss: %.4f' % running_loss['total'].avg)\n",
    "                pbar.update()\n",
    "\n",
    "            self.lr_scheduler.step()\n",
    "            pbar.set_description('Progress:')\n",
    "            print('Epoch: %d, Loss: %.4f (%.4f + %.4f + %.4f + %.4f)' \n",
    "                  % (epoch, \n",
    "                     running_loss['total'].avg, \n",
    "                     running_loss['src'].avg * LAMB2, \n",
    "                     running_loss['st'].avg * LAMB2 * BETA, \n",
    "                     running_loss['ml'].avg * LAMB1, \n",
    "                     running_loss['tgt'].avg))\n",
    "            \n",
    "    def eval_performance(self, gallery_loader, probe_loader):\n",
    "        stats = ('r1', 'r5', 'r10', 'MAP')\n",
    "        val = {stat: AverageMeter() for stat in stats}\n",
    "        self.net.eval()\n",
    "        \n",
    "        gallery_f, gallery_y, gallery_views = extract_features(\n",
    "            gallery_loader, self.net, index_feature=0)\n",
    "        probe_f, probe_y, probe_views = extract_features(\n",
    "            probe_loader, self.net, index_feature=0)\n",
    "        dist = cdist(gallery_f, probe_f, metric='cosine')  # 实际是 1-cos ∈ [0, 2], 越小越相似\n",
    "        CMC, MAP, example = eval_cmc_map(\n",
    "            dist, gallery_y, probe_y, gallery_views, probe_views, \n",
    "            ignore_MAP=False, show_example=True)\n",
    "#         CMC, MAP, example = eval_cmc_map(\n",
    "#             dist, gallery_y, probe_y, \n",
    "#             ignore_MAP=False, show_example=True)\n",
    "        r1, r5, r10 = CMC[0], CMC[4], CMC[9]\n",
    "        self.r1, self.r5, self.r10, self.MAP = r1, r5, r10, MAP\n",
    "        \n",
    "        for stat in stats:\n",
    "            val[stat].update(locals()[stat].item(), BATCH_SIZE)\n",
    "            \n",
    "        # 显示rank多图\n",
    "#         if show_img_result:\n",
    "#             plt.subplot(1, 11, 1)\n",
    "#             plt.title('Query')\n",
    "#             plt.imshow(Image.open(file.path, 'r'))\n",
    "\n",
    "#             for i in range(10):\n",
    "#                 plt.subplot(1, 11, i + 2)\n",
    "#                 plt.imshow(Image.open(DATA_DIR_TEST +\n",
    "#                                       '\\\\' + sort_list[i][0], 'r'))\n",
    "\n",
    "#             plt.show()\n",
    "            \n",
    "        return val\n",
    "            \n",
    "    def init_losses(self, tgt_loader):\n",
    "        '''训练前初始化loss参数.'''\n",
    "        print('#' * 8, 'Initializing losses', '#' * 8)\n",
    "        if os.path.isfile(ML_PATH):\n",
    "            (ml, views, pairwise_agreements) = torch.load(ML_PATH)\n",
    "            print('Ml loaded.')\n",
    "        else:\n",
    "            print('Ml not found, computing...')\n",
    "            sim, _, views = extract_features(\n",
    "                data_loader['target'], self.net, index_feature=1, return_numpy=False)\n",
    "            ml = F.softmax(sim * SCALA_CE, dim=1)\n",
    "            ml_np = ml.cpu().numpy()\n",
    "            pairwise_agreements = 1 - pdist(ml_np, 'minkowski', p=1) / 2  # 相似比较特征\n",
    "            print('Ml saving to %s...' % ML_PATH)\n",
    "            torch.save((ml, views, pairwise_agreements), ML_PATH)\n",
    "\n",
    "        self.cml_loss.init_centers(torch.log(ml), views)\n",
    "        print('Cml_loss centers inited.')\n",
    "        self.mdl_loss.init_threshold(pairwise_agreements)\n",
    "        print('Mdl_loss threshold inited.')\n",
    "        print('#' * 8, 'OK', '#' * 8)\n",
    "        \n",
    "    def save_model(self, cover=False):\n",
    "        '''\n",
    "        保存当前模型net的参数.\n",
    "        \n",
    "        :param cover: True覆盖默认文件, False新增带时间戳文件\n",
    "        '''\n",
    "        if cover:\n",
    "            torch.save(self.net.state_dict(), PRETRAIN_PATH)\n",
    "            print('Model weight saved(cover).')\n",
    "        else:\n",
    "            path = PRETRAIN_OUT_PATH.format(time.time())\n",
    "            torch.save(self.net.state_dict(), path)\n",
    "            print('Model weight saved(%s).' % path)"
   ]
  },
  {
   "cell_type": "markdown",
   "metadata": {},
   "source": [
    "# Train"
   ]
  },
  {
   "cell_type": "code",
   "execution_count": 4,
   "metadata": {
    "scrolled": false
   },
   "outputs": [
    {
     "name": "stdout",
     "output_type": "stream",
     "text": [
      "Pretrained model loaded.\n",
      "Training start. Epochs: 20\n"
     ]
    },
    {
     "data": {
      "application/vnd.jupyter.widget-view+json": {
       "model_id": "a1e994a098af4954964ab089f64f0668",
       "version_major": 2,
       "version_minor": 0
      },
      "text/plain": [
       "HBox(children=(IntProgress(value=0, max=20), HTML(value='')))"
      ]
     },
     "metadata": {},
     "output_type": "display_data"
    },
    {
     "name": "stdout",
     "output_type": "stream",
     "text": [
      "######## Initializing losses ########\n",
      "Ml loaded.\n",
      "Cml_loss centers inited.\n",
      "Mdl_loss threshold inited.\n",
      "######## OK ########\n"
     ]
    },
    {
     "data": {
      "application/vnd.jupyter.widget-view+json": {
       "model_id": "ca3e130b4f9347e39d3e09a86abb8756",
       "version_major": 2,
       "version_minor": 0
      },
      "text/plain": [
       "HBox(children=(IntProgress(value=0, max=123), HTML(value='')))"
      ]
     },
     "metadata": {},
     "output_type": "display_data"
    },
    {
     "name": "stdout",
     "output_type": "stream",
     "text": [
      "Epoch: 0, Loss: 5.8766 (1.1384 + 4.6037 + 0.1344 + 0.0000)\n",
      "\n"
     ]
    },
    {
     "data": {
      "application/vnd.jupyter.widget-view+json": {
       "model_id": "99a7883909ba4131b37ba0aea883d805",
       "version_major": 2,
       "version_minor": 0
      },
      "text/plain": [
       "HBox(children=(IntProgress(value=0, max=123), HTML(value='')))"
      ]
     },
     "metadata": {},
     "output_type": "display_data"
    },
    {
     "name": "stdout",
     "output_type": "stream",
     "text": [
      "Epoch: 1, Loss: 6.4664 (1.2119 + 4.6429 + 0.1094 + 0.5022)\n",
      "\n"
     ]
    },
    {
     "data": {
      "application/vnd.jupyter.widget-view+json": {
       "model_id": "38658a6608d946e6b419a465df1dabec",
       "version_major": 2,
       "version_minor": 0
      },
      "text/plain": [
       "HBox(children=(IntProgress(value=0, max=123), HTML(value='')))"
      ]
     },
     "metadata": {},
     "output_type": "display_data"
    },
    {
     "name": "stdout",
     "output_type": "stream",
     "text": [
      "Epoch: 2, Loss: 6.5649 (1.2799 + 4.6522 + 0.1055 + 0.5273)\n",
      "\n"
     ]
    },
    {
     "data": {
      "application/vnd.jupyter.widget-view+json": {
       "model_id": "ccf51598a0904a508a5aa32691bb42ee",
       "version_major": 2,
       "version_minor": 0
      },
      "text/plain": [
       "HBox(children=(IntProgress(value=0, max=123), HTML(value='')))"
      ]
     },
     "metadata": {},
     "output_type": "display_data"
    },
    {
     "name": "stdout",
     "output_type": "stream",
     "text": [
      "Epoch: 3, Loss: 6.7088 (1.3432 + 4.7182 + 0.1120 + 0.5355)\n",
      "\n"
     ]
    },
    {
     "data": {
      "application/vnd.jupyter.widget-view+json": {
       "model_id": "032080572c464985a2633a6ccb0efd02",
       "version_major": 2,
       "version_minor": 0
      },
      "text/plain": [
       "HBox(children=(IntProgress(value=0, max=123), HTML(value='')))"
      ]
     },
     "metadata": {},
     "output_type": "display_data"
    },
    {
     "name": "stdout",
     "output_type": "stream",
     "text": [
      "Epoch: 4, Loss: 8.6022 (2.8322 + 5.1125 + 0.1121 + 0.5453)\n",
      "\n"
     ]
    },
    {
     "data": {
      "application/vnd.jupyter.widget-view+json": {
       "model_id": "a11214fba41d4029838cc77badcb8f83",
       "version_major": 2,
       "version_minor": 0
      },
      "text/plain": [
       "HBox(children=(IntProgress(value=0, max=123), HTML(value='')))"
      ]
     },
     "metadata": {},
     "output_type": "display_data"
    },
    {
     "name": "stdout",
     "output_type": "stream",
     "text": [
      "Epoch: 5, Loss: 14.6287 (7.8522 + 6.0889 + 0.1220 + 0.5655)\n",
      "\n"
     ]
    },
    {
     "data": {
      "application/vnd.jupyter.widget-view+json": {
       "model_id": "b20b98c7efb34cb190633d936a7046c2",
       "version_major": 2,
       "version_minor": 0
      },
      "text/plain": [
       "HBox(children=(IntProgress(value=0, max=123), HTML(value='')))"
      ]
     },
     "metadata": {},
     "output_type": "display_data"
    },
    {
     "name": "stdout",
     "output_type": "stream",
     "text": [
      "Epoch: 6, Loss: 29.3314 (21.1651 + 7.4341 + 0.1325 + 0.5997)\n",
      "\n"
     ]
    },
    {
     "data": {
      "application/vnd.jupyter.widget-view+json": {
       "model_id": "a884fe19748440f6965fd8d014cdb5f6",
       "version_major": 2,
       "version_minor": 0
      },
      "text/plain": [
       "HBox(children=(IntProgress(value=0, max=123), HTML(value='')))"
      ]
     },
     "metadata": {},
     "output_type": "display_data"
    },
    {
     "name": "stdout",
     "output_type": "stream",
     "text": [
      "Epoch: 7, Loss: 48.8997 (39.9620 + 8.2002 + 0.1427 + 0.5947)\n",
      "\n"
     ]
    },
    {
     "data": {
      "application/vnd.jupyter.widget-view+json": {
       "model_id": "28dcbcda3e28443b9b2b9a5c77e37f3f",
       "version_major": 2,
       "version_minor": 0
      },
      "text/plain": [
       "HBox(children=(IntProgress(value=0, max=123), HTML(value='')))"
      ]
     },
     "metadata": {},
     "output_type": "display_data"
    },
    {
     "name": "stdout",
     "output_type": "stream",
     "text": [
      "Epoch: 8, Loss: 59.8443 (50.7297 + 8.3704 + 0.1400 + 0.6043)\n",
      "\n"
     ]
    },
    {
     "data": {
      "application/vnd.jupyter.widget-view+json": {
       "model_id": "f205b6808f854d8c872d97ff8419996a",
       "version_major": 2,
       "version_minor": 0
      },
      "text/plain": [
       "HBox(children=(IntProgress(value=0, max=123), HTML(value='')))"
      ]
     },
     "metadata": {},
     "output_type": "display_data"
    },
    {
     "name": "stdout",
     "output_type": "stream",
     "text": [
      "Epoch: 9, Loss: 65.8259 (56.5264 + 8.5390 + 0.1434 + 0.6172)\n",
      "\n"
     ]
    },
    {
     "data": {
      "application/vnd.jupyter.widget-view+json": {
       "model_id": "d4abda088a094a51a2d773dfc6f47451",
       "version_major": 2,
       "version_minor": 0
      },
      "text/plain": [
       "HBox(children=(IntProgress(value=0, max=123), HTML(value='')))"
      ]
     },
     "metadata": {},
     "output_type": "display_data"
    },
    {
     "name": "stdout",
     "output_type": "stream",
     "text": [
      "Epoch: 10, Loss: 64.8356 (55.4091 + 8.6538 + 0.1451 + 0.6276)\n",
      "\n"
     ]
    },
    {
     "data": {
      "application/vnd.jupyter.widget-view+json": {
       "model_id": "f7be097ce2764998920c3cda5aad64a3",
       "version_major": 2,
       "version_minor": 0
      },
      "text/plain": [
       "HBox(children=(IntProgress(value=0, max=123), HTML(value='')))"
      ]
     },
     "metadata": {},
     "output_type": "display_data"
    },
    {
     "name": "stdout",
     "output_type": "stream",
     "text": [
      "Epoch: 11, Loss: 63.3450 (53.6327 + 8.9444 + 0.1439 + 0.6241)\n",
      "\n"
     ]
    },
    {
     "data": {
      "application/vnd.jupyter.widget-view+json": {
       "model_id": "895c1adf084e4394b99de3b163a77ddd",
       "version_major": 2,
       "version_minor": 0
      },
      "text/plain": [
       "HBox(children=(IntProgress(value=0, max=123), HTML(value='')))"
      ]
     },
     "metadata": {},
     "output_type": "display_data"
    },
    {
     "name": "stdout",
     "output_type": "stream",
     "text": [
      "Epoch: 12, Loss: 33.8628 (25.1132 + 7.9811 + 0.1342 + 0.6343)\n",
      "\n"
     ]
    },
    {
     "data": {
      "application/vnd.jupyter.widget-view+json": {
       "model_id": "b292f3ea8f844a2f864f2793167f6df3",
       "version_major": 2,
       "version_minor": 0
      },
      "text/plain": [
       "HBox(children=(IntProgress(value=0, max=123), HTML(value='')))"
      ]
     },
     "metadata": {},
     "output_type": "display_data"
    },
    {
     "name": "stdout",
     "output_type": "stream",
     "text": [
      "Epoch: 13, Loss: 21.9608 (13.7871 + 7.3938 + 0.1324 + 0.6476)\n",
      "\n"
     ]
    },
    {
     "data": {
      "application/vnd.jupyter.widget-view+json": {
       "model_id": "7ed70b84a429478d9ce8d6a57f6cc240",
       "version_major": 2,
       "version_minor": 0
      },
      "text/plain": [
       "HBox(children=(IntProgress(value=0, max=123), HTML(value='')))"
      ]
     },
     "metadata": {},
     "output_type": "display_data"
    },
    {
     "name": "stdout",
     "output_type": "stream",
     "text": [
      "Epoch: 14, Loss: 19.1229 (11.0867 + 7.2617 + 0.1298 + 0.6448)\n",
      "\n"
     ]
    },
    {
     "data": {
      "application/vnd.jupyter.widget-view+json": {
       "model_id": "4a56b679de714737bf363b0cf3286763",
       "version_major": 2,
       "version_minor": 0
      },
      "text/plain": [
       "HBox(children=(IntProgress(value=0, max=123), HTML(value='')))"
      ]
     },
     "metadata": {},
     "output_type": "display_data"
    },
    {
     "name": "stdout",
     "output_type": "stream",
     "text": [
      "Epoch: 15, Loss: 17.4543 (9.5215 + 7.1569 + 0.1319 + 0.6440)\n",
      "\n"
     ]
    },
    {
     "data": {
      "application/vnd.jupyter.widget-view+json": {
       "model_id": "3b846f5fc115435b847cd562d38bd59d",
       "version_major": 2,
       "version_minor": 0
      },
      "text/plain": [
       "HBox(children=(IntProgress(value=0, max=123), HTML(value='')))"
      ]
     },
     "metadata": {},
     "output_type": "display_data"
    },
    {
     "name": "stdout",
     "output_type": "stream",
     "text": [
      "Epoch: 16, Loss: 15.8727 (8.0517 + 7.0642 + 0.1307 + 0.6261)\n",
      "\n"
     ]
    },
    {
     "data": {
      "application/vnd.jupyter.widget-view+json": {
       "model_id": "5273da8f87c24497b494b49d6342e3ea",
       "version_major": 2,
       "version_minor": 0
      },
      "text/plain": [
       "HBox(children=(IntProgress(value=0, max=123), HTML(value='')))"
      ]
     },
     "metadata": {},
     "output_type": "display_data"
    },
    {
     "name": "stdout",
     "output_type": "stream",
     "text": [
      "Epoch: 17, Loss: 14.5699 (6.8455 + 6.9688 + 0.1306 + 0.6250)\n",
      "\n"
     ]
    },
    {
     "data": {
      "application/vnd.jupyter.widget-view+json": {
       "model_id": "f9bf5a5cddad47a28ee79965fa18a670",
       "version_major": 2,
       "version_minor": 0
      },
      "text/plain": [
       "HBox(children=(IntProgress(value=0, max=123), HTML(value='')))"
      ]
     },
     "metadata": {},
     "output_type": "display_data"
    },
    {
     "name": "stdout",
     "output_type": "stream",
     "text": [
      "Epoch: 18, Loss: 14.3251 (6.6311 + 6.9395 + 0.1330 + 0.6214)\n",
      "\n"
     ]
    },
    {
     "data": {
      "application/vnd.jupyter.widget-view+json": {
       "model_id": "6663d1ad3dfa41aebff50dcddfd60e26",
       "version_major": 2,
       "version_minor": 0
      },
      "text/plain": [
       "HBox(children=(IntProgress(value=0, max=123), HTML(value='')))"
      ]
     },
     "metadata": {},
     "output_type": "display_data"
    },
    {
     "name": "stdout",
     "output_type": "stream",
     "text": [
      "Epoch: 19, Loss: 13.9450 (6.2386 + 6.9248 + 0.1297 + 0.6519)\n",
      "\n",
      "\n"
     ]
    }
   ],
   "source": [
    "trainer = Trainer()\n",
    "trainer.train()"
   ]
  },
  {
   "cell_type": "code",
   "execution_count": 5,
   "metadata": {},
   "outputs": [
    {
     "name": "stdout",
     "output_type": "stream",
     "text": [
      "Model weight saved.\n",
      "Model weight saved.\n"
     ]
    }
   ],
   "source": [
    "trainer.save_model()\n",
    "trainer.save_model(cover=True)"
   ]
  },
  {
   "cell_type": "markdown",
   "metadata": {},
   "source": [
    "# Eval"
   ]
  },
  {
   "cell_type": "code",
   "execution_count": 6,
   "metadata": {
    "scrolled": true
   },
   "outputs": [],
   "source": [
    "# trainer = Trainer()"
   ]
  },
  {
   "cell_type": "code",
   "execution_count": 7,
   "metadata": {},
   "outputs": [
    {
     "data": {
      "text/plain": [
       "{'r1': <utils.AverageMeter at 0x7f25f3603b50>,\n",
       " 'r5': <utils.AverageMeter at 0x7f25f3603d10>,\n",
       " 'r10': <utils.AverageMeter at 0x7f25f3603f90>,\n",
       " 'MAP': <utils.AverageMeter at 0x7f25f3603250>}"
      ]
     },
     "execution_count": 7,
     "metadata": {},
     "output_type": "execute_result"
    }
   ],
   "source": [
    "trainer.eval_performance(data_loader['gallery'], data_loader['probe'])"
   ]
  },
  {
   "cell_type": "code",
   "execution_count": 8,
   "metadata": {},
   "outputs": [
    {
     "data": {
      "text/plain": [
       "(30.997624703087883, 48.07007125890736, 55.99762470308789, 15.470718581181242)"
      ]
     },
     "execution_count": 8,
     "metadata": {},
     "output_type": "execute_result"
    }
   ],
   "source": [
    "trainer.r1, trainer.r5, trainer.r10, trainer.MAP"
   ]
  },
  {
   "cell_type": "code",
   "execution_count": 9,
   "metadata": {},
   "outputs": [],
   "source": [
    "exit()"
   ]
  }
 ],
 "metadata": {
  "kernelspec": {
   "display_name": "Python 3",
   "language": "python",
   "name": "python3"
  },
  "language_info": {
   "codemirror_mode": {
    "name": "ipython",
    "version": 3
   },
   "file_extension": ".py",
   "mimetype": "text/x-python",
   "name": "python",
   "nbconvert_exporter": "python",
   "pygments_lexer": "ipython3",
   "version": "3.7.4"
  },
  "toc": {
   "base_numbering": 1,
   "nav_menu": {},
   "number_sections": true,
   "sideBar": true,
   "skip_h1_title": false,
   "title_cell": "Table of Contents",
   "title_sidebar": "Contents",
   "toc_cell": false,
   "toc_position": {},
   "toc_section_display": true,
   "toc_window_display": false
  },
  "varInspector": {
   "cols": {
    "lenName": 16,
    "lenType": 16,
    "lenVar": 40
   },
   "kernels_config": {
    "python": {
     "delete_cmd_postfix": "",
     "delete_cmd_prefix": "del ",
     "library": "var_list.py",
     "varRefreshCmd": "print(var_dic_list())"
    },
    "r": {
     "delete_cmd_postfix": ") ",
     "delete_cmd_prefix": "rm(",
     "library": "var_list.r",
     "varRefreshCmd": "cat(var_dic_list()) "
    }
   },
   "position": {
    "height": "803.217px",
    "left": "1568.33px",
    "right": "20px",
    "top": "89px",
    "width": "350px"
   },
   "types_to_exclude": [
    "module",
    "function",
    "builtin_function_or_method",
    "instance",
    "_Feature"
   ],
   "window_display": false
  }
 },
 "nbformat": 4,
 "nbformat_minor": 2
}
