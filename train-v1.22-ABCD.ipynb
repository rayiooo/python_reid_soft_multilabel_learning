{
 "cells": [
  {
   "cell_type": "code",
   "execution_count": 1,
   "metadata": {},
   "outputs": [
    {
     "name": "stdout",
     "output_type": "stream",
     "text": [
      "Device: cuda\n"
     ]
    }
   ],
   "source": [
    "import matplotlib.pyplot as plt\n",
    "import os\n",
    "import time\n",
    "import torch\n",
    "import torch.nn as nn\n",
    "import torch.nn.functional as F\n",
    "from models.resnet import resnet50\n",
    "from my_dataset import MyDataset\n",
    "from my_lossfunc import JointLoss, MultilabelLoss, DiscriminativeLoss\n",
    "from my_transform import data_transforms\n",
    "from PIL import Image\n",
    "from scipy.spatial.distance import pdist, cdist  # 一集合点距, 两集合点距\n",
    "from torch.utils.data import DataLoader\n",
    "from tqdm import tnrange\n",
    "from tqdm import tqdm_notebook as tqdm\n",
    "from utils import *\n",
    "\n",
    "os.environ[\"CUDA_VISIBLE_DEVICES\"] = \"0,1,2,3\"\n",
    "DEVICE = torch.device('cuda') if torch.cuda.is_available() else torch.device('cpu')\n",
    "print('Device:', DEVICE)\n",
    "\n",
    "\n",
    "BASE = '/home/zengrui/datasets'\n",
    "DUKE_DIR_TRAIN = f'{BASE}/ReID_Duke/bounding_box_train'\n",
    "DUKE_DIR_TEST = f'{BASE}/ReID_Duke/bounding_box_test'\n",
    "DUKE_DIR_QUERY = f'{BASE}/ReID_Duke/query'\n",
    "DUKE_IMG_AMOUNT = 16522\n",
    "DUKE_ID_AMOUNT = 702\n",
    "MARKET_DIR_TRAIN = f'{BASE}/ReID_Market/bounding_box_train'\n",
    "MARKET_DIR_TEST = f'{BASE}/ReID_Market/bounding_box_test'\n",
    "MARKET_DIR_QUERY = f'{BASE}/ReID_Market/query'\n",
    "MARKET_IMG_AMOUNT = 12936\n",
    "MARKET_ID_AMOUNT = 751\n",
    "\n",
    "SOURCE_DIR_TRAIN = DUKE_DIR_TRAIN\n",
    "TARGET_DIR_TRAIN = MARKET_DIR_TRAIN\n",
    "TARGET_DIR_GALLERY = MARKET_DIR_TEST\n",
    "TARGET_DIR_PROBE = MARKET_DIR_QUERY\n",
    "SOURCE_ID_AMOUNT = DUKE_ID_AMOUNT\n",
    "TARGET_IMG_AMOUNT = MARKET_IMG_AMOUNT\n",
    "ML_PATH = 'data/ml_Market.dat'\n",
    "PRETRAIN_PATH = 'data/pretrained_weight.pkl'\n",
    "PRETRAIN_OUT_PATH = 'data/pretrained_weight_{}.pkl'\n",
    "\n",
    "BATCH_SIZE = 168\n",
    "EPOCH = 80\n",
    "LR = 0.1\n",
    "\n",
    "BETA = 0.2\n",
    "LAMB1 = 2e-4\n",
    "LAMB2 = 50\n",
    "MARGIN = 1\n",
    "SCALA_CE = 30"
   ]
  },
  {
   "cell_type": "markdown",
   "metadata": {},
   "source": [
    "# Prepare Work"
   ]
  },
  {
   "cell_type": "code",
   "execution_count": 2,
   "metadata": {},
   "outputs": [
    {
     "name": "stdout",
     "output_type": "stream",
     "text": [
      "data_loader: ok.\n"
     ]
    }
   ],
   "source": [
    "# data loader\n",
    "data_loader = {\n",
    "    'source': DataLoader(\n",
    "        dataset=MyDataset(SOURCE_DIR_TRAIN, \n",
    "                          transform=data_transforms('train'),\n",
    "                          require_view=False,\n",
    "                          encode_label=True),\n",
    "        batch_size=BATCH_SIZE,\n",
    "        shuffle=True,\n",
    "    ),\n",
    "    'target': DataLoader(\n",
    "        dataset=MyDataset(TARGET_DIR_TRAIN,\n",
    "                          transform=data_transforms('train'),\n",
    "                          require_view=True,\n",
    "                          encode_label=True),\n",
    "        batch_size=BATCH_SIZE,\n",
    "        shuffle=True,\n",
    "    ),\n",
    "    'gallery': DataLoader(\n",
    "        dataset=MyDataset(TARGET_DIR_GALLERY,\n",
    "                          transform=data_transforms('val'),\n",
    "                          require_view=True),\n",
    "        batch_size=BATCH_SIZE,\n",
    "        shuffle=False,\n",
    "    ),\n",
    "    'probe': DataLoader(\n",
    "        dataset=MyDataset(TARGET_DIR_PROBE,\n",
    "                          transform=data_transforms('val'),\n",
    "                          require_view=True),\n",
    "        batch_size=BATCH_SIZE,\n",
    "        shuffle=False,\n",
    "    ),\n",
    "}\n",
    "print('data_loader: ok.')"
   ]
  },
  {
   "cell_type": "markdown",
   "metadata": {},
   "source": [
    "# Trainer"
   ]
  },
  {
   "cell_type": "code",
   "execution_count": 3,
   "metadata": {},
   "outputs": [],
   "source": [
    "%matplotlib inline\n",
    "class Trainer(object):\n",
    "    def __init__(self):\n",
    "        \n",
    "        # 网络\n",
    "        self.net = resnet50(pretrained=False, \n",
    "                            num_classes=SOURCE_ID_AMOUNT)\n",
    "        self.net = nn.DataParallel(self.net).to(DEVICE)\n",
    "        if PRETRAIN_PATH is not None and os.path.exists(PRETRAIN_PATH):\n",
    "            self.net.load_state_dict(torch.load(PRETRAIN_PATH))\n",
    "            print('Pretrained model loaded.')\n",
    "        else:\n",
    "            print('Pretrained model not found. Train from scratch.')\n",
    "            \n",
    "        # 损失\n",
    "        self.mdl_loss = DiscriminativeLoss(0.001).to(DEVICE)\n",
    "        self.al_loss = nn.CrossEntropyLoss().to(DEVICE)\n",
    "        self.rj_loss = JointLoss(MARGIN).to(DEVICE)  # lack 1 param\n",
    "        self.cml_loss = MultilabelLoss(BATCH_SIZE).to(DEVICE)\n",
    "        \n",
    "        # 优化器\n",
    "        self.optimizer = torch.optim.SGD(\n",
    "            self.net.parameters(), lr=LR, momentum=0.9)\n",
    "        self.lr_scheduler = torch.optim.lr_scheduler.MultiStepLR(\n",
    "            self.optimizer, milestones=[int(EPOCH / 8 * 5), int(EPOCH / 8 * 7)])\n",
    "        \n",
    "        # 存储器\n",
    "        self.ml_mem = torch.zeros(TARGET_IMG_AMOUNT, SOURCE_ID_AMOUNT)\n",
    "        self.inited = self.ml_mem.sum(dim=1) != 0\n",
    "    \n",
    "    def train(self):\n",
    "        '''进行一次完整训练.'''\n",
    "        print('Training start. Epochs: %d' % EPOCH)\n",
    "        self.net.train()\n",
    "        for epoch in tnrange(EPOCH):\n",
    "            self.train_epoch(epoch)\n",
    "    \n",
    "    def train_epoch(self, epoch):\n",
    "        '''训练一个epoch.'''\n",
    "        stats = ('total', 'src', 'st', 'ml', 'tgt')\n",
    "        running_loss = {stat: AverageMeter() for stat in stats}\n",
    "        \n",
    "        if not self.mdl_loss.initialized:\n",
    "            self.init_losses(data_loader['target'])\n",
    "            self.net.train()\n",
    "        \n",
    "        with tqdm(total=len(data_loader['source'])) as pbar:\n",
    "            tgt_iter = iter(data_loader['target'])\n",
    "            for step, (ax, ay) in enumerate(data_loader['source']):\n",
    "                # a - source, b - target\n",
    "                ax = ax.to(DEVICE)\n",
    "                ay = ay.to(DEVICE)\n",
    "                try:\n",
    "                    b = next(tgt_iter)\n",
    "                except StopIteration:\n",
    "                    tgt_iter = iter(data_loader['target'])\n",
    "                    b = next(tgt_iter)\n",
    "                (bx, by, b_view, b_idx) = b\n",
    "                bx, by, b_view = bx.to(DEVICE), by.to(DEVICE), b_view.to(DEVICE)\n",
    "\n",
    "                a_f, a_sim, _ = self.net(ax)\n",
    "                b_f, b_sim, _ = self.net(bx)\n",
    "\n",
    "                loss = {stat: torch.Tensor([0]).to(DEVICE) \n",
    "                        for stat in stats}\n",
    "                \n",
    "                loss['src'] = self.al_loss(a_sim * SCALA_CE, ay)  # 有监督 交叉熵\n",
    "                \n",
    "                agents = self.net.module.fc.weight.renorm(2, 0, 1e-5).mul(1e5)  # 归一化 shape=(702, 2048)\n",
    "                loss['st'] = self.rj_loss(agents.detach(), a_f, a_sim.detach(), ay, \n",
    "                                          b_f, b_sim.detach())\n",
    "                \n",
    "                with torch.no_grad():\n",
    "                    ml = F.softmax(b_f.mm(agents.t_() * SCALA_CE), dim=1)  # t_(): 转置并inplace\n",
    "                loss['ml'] = self.cml_loss(torch.log(ml), b_view)\n",
    "    \n",
    "                if epoch > 0:  # 为什么第一轮不算 mdl_loss 呢\n",
    "                    ml_cpu = ml.detach().cpu()\n",
    "                    is_inited_batch = self.inited[b_idx]\n",
    "                    inited_idx = b_idx[is_inited_batch]\n",
    "                    uninited_idx = b_idx[~is_inited_batch]\n",
    "                    self.ml_mem[uninited_idx] = ml_cpu[~is_inited_batch]  # 0标签满更新\n",
    "                    self.inited[uninited_idx] = True\n",
    "                    self.ml_mem[inited_idx] = 0.9 * self.ml_mem[inited_idx] \\\n",
    "                                            + 0.1 * ml_cpu[is_inited_batch]  # 非空标签小更新\n",
    "                    loss['tgt'] = self.mdl_loss(b_f, self.ml_mem[b_idx], by)\n",
    "\n",
    "                self.optimizer.zero_grad()\n",
    "                loss['total'] = loss['tgt'] + LAMB1 * loss['ml'] \\\n",
    "                              + LAMB2 * (loss['src'] + BETA * loss['st'])\n",
    "                loss['total'].backward()\n",
    "                self.optimizer.step()\n",
    "\n",
    "                for stat in stats:\n",
    "                    loss_cpu = float(loss[stat].data.cpu().numpy())\n",
    "                    running_loss[stat].update(loss_cpu)\n",
    "                pbar.set_description('Loss: %.4f' % running_loss['total'].avg)\n",
    "                pbar.update()\n",
    "\n",
    "            self.lr_scheduler.step()\n",
    "            pbar.set_description('Progress:')\n",
    "            print('Epoch: %d, Loss: %.4f (%.4f + %.4f + %.4f + %.4f)' \n",
    "                  % (epoch, \n",
    "                     running_loss['total'].avg, \n",
    "                     running_loss['src'].avg * LAMB2, \n",
    "                     running_loss['st'].avg * LAMB2 * BETA, \n",
    "                     running_loss['ml'].avg * LAMB1, \n",
    "                     running_loss['tgt'].avg))\n",
    "            \n",
    "    def eval_performance(self, gallery_loader, probe_loader):\n",
    "        stats = ('r1', 'r5', 'r10', 'MAP')\n",
    "        val = {stat: AverageMeter() for stat in stats}\n",
    "        self.net.eval()\n",
    "        \n",
    "        gallery_f, gallery_y, gallery_views = extract_features(\n",
    "            gallery_loader, self.net, index_feature=0)\n",
    "        probe_f, probe_y, probe_views = extract_features(\n",
    "            probe_loader, self.net, index_feature=0)\n",
    "        dist = cdist(gallery_f, probe_f, metric='cosine')  # 实际是 1-cos ∈ [0, 2], 越小越相似\n",
    "        CMC, MAP, example = eval_cmc_map(\n",
    "            dist, gallery_y, probe_y, gallery_views, probe_views, \n",
    "            ignore_MAP=False, show_example=True)\n",
    "#         CMC, MAP, example = eval_cmc_map(\n",
    "#             dist, gallery_y, probe_y, \n",
    "#             ignore_MAP=False, show_example=True)\n",
    "        r1, r5, r10 = CMC[0], CMC[4], CMC[9]\n",
    "        self.r1, self.r5, self.r10, self.MAP = r1, r5, r10, MAP\n",
    "        \n",
    "        for stat in stats:\n",
    "            val[stat].update(locals()[stat].item(), BATCH_SIZE)\n",
    "            \n",
    "        # 显示rank多图\n",
    "#         if show_img_result:\n",
    "#             plt.subplot(1, 11, 1)\n",
    "#             plt.title('Query')\n",
    "#             plt.imshow(Image.open(file.path, 'r'))\n",
    "\n",
    "#             for i in range(10):\n",
    "#                 plt.subplot(1, 11, i + 2)\n",
    "#                 plt.imshow(Image.open(DATA_DIR_TEST +\n",
    "#                                       '\\\\' + sort_list[i][0], 'r'))\n",
    "\n",
    "#             plt.show()\n",
    "            \n",
    "        return val\n",
    "            \n",
    "    def init_losses(self, tgt_loader):\n",
    "        '''训练前初始化loss参数.'''\n",
    "        print('#' * 8, 'Initializing losses', '#' * 8)\n",
    "        if os.path.isfile(ML_PATH):\n",
    "            (ml, views, pairwise_agreements) = torch.load(ML_PATH)\n",
    "            print('Ml loaded.')\n",
    "        else:\n",
    "            print('Ml not found, computing...')\n",
    "            sim, _, views = extract_features(\n",
    "                data_loader['target'], self.net, index_feature=1, return_numpy=False)\n",
    "            ml = F.softmax(sim * SCALA_CE, dim=1)\n",
    "            ml_np = ml.cpu().numpy()\n",
    "            pairwise_agreements = 1 - pdist(ml_np, 'minkowski', p=1) / 2  # 相似比较特征\n",
    "            print('Ml saving to %s...' % ML_PATH)\n",
    "            torch.save((ml, views, pairwise_agreements), ML_PATH)\n",
    "\n",
    "        self.cml_loss.init_centers(torch.log(ml), views)\n",
    "        print('Cml_loss centers inited.')\n",
    "        self.mdl_loss.init_threshold(pairwise_agreements)\n",
    "        print('Mdl_loss threshold inited.')\n",
    "        print('#' * 8, 'OK', '#' * 8)\n",
    "        \n",
    "    def save_model(self, cover=False):\n",
    "        '''\n",
    "        保存当前模型net的参数.\n",
    "        \n",
    "        :param cover: True覆盖默认文件, False新增带时间戳文件\n",
    "        '''\n",
    "        if cover:\n",
    "            torch.save(self.net.state_dict(), PRETRAIN_PATH)\n",
    "        else:\n",
    "            torch.save(self.net.state_dict(), PRETRAIN_OUT_PATH.format(time.time()))\n",
    "        print('Model weight saved.')"
   ]
  },
  {
   "cell_type": "markdown",
   "metadata": {},
   "source": [
    "# Train"
   ]
  },
  {
   "cell_type": "code",
   "execution_count": 4,
   "metadata": {
    "scrolled": true
   },
   "outputs": [
    {
     "name": "stdout",
     "output_type": "stream",
     "text": [
      "Pretrained model loaded.\n",
      "Training start. Epochs: 80\n"
     ]
    },
    {
     "data": {
      "application/vnd.jupyter.widget-view+json": {
       "model_id": "e36eac0b109141f7ade73c3b88d9a365",
       "version_major": 2,
       "version_minor": 0
      },
      "text/plain": [
       "HBox(children=(IntProgress(value=0, max=80), HTML(value='')))"
      ]
     },
     "metadata": {},
     "output_type": "display_data"
    },
    {
     "name": "stdout",
     "output_type": "stream",
     "text": [
      "######## Initializing losses ########\n",
      "Ml loaded.\n",
      "Cml_loss centers inited.\n",
      "Mdl_loss threshold inited.\n",
      "######## OK ########\n"
     ]
    },
    {
     "data": {
      "application/vnd.jupyter.widget-view+json": {
       "model_id": "fdbfd931692d40f9b9e9a35098298d50",
       "version_major": 2,
       "version_minor": 0
      },
      "text/plain": [
       "HBox(children=(IntProgress(value=0, max=99), HTML(value='')))"
      ]
     },
     "metadata": {},
     "output_type": "display_data"
    },
    {
     "name": "stdout",
     "output_type": "stream",
     "text": [
      "Epoch: 0, Loss: 10.6842 (3.3365 + 6.2431 + 1.1046 + 0.0000)\n",
      "\n"
     ]
    },
    {
     "data": {
      "application/vnd.jupyter.widget-view+json": {
       "model_id": "25d889b3d5634b3db20991d07701aa1a",
       "version_major": 2,
       "version_minor": 0
      },
      "text/plain": [
       "HBox(children=(IntProgress(value=0, max=99), HTML(value='')))"
      ]
     },
     "metadata": {},
     "output_type": "display_data"
    },
    {
     "name": "stdout",
     "output_type": "stream",
     "text": [
      "Epoch: 1, Loss: 10.6556 (3.6345 + 6.2713 + 0.1417 + 0.6080)\n",
      "\n"
     ]
    },
    {
     "data": {
      "application/vnd.jupyter.widget-view+json": {
       "model_id": "d797b38698bb4274b5c18371175a4258",
       "version_major": 2,
       "version_minor": 0
      },
      "text/plain": [
       "HBox(children=(IntProgress(value=0, max=99), HTML(value='')))"
      ]
     },
     "metadata": {},
     "output_type": "display_data"
    },
    {
     "name": "stdout",
     "output_type": "stream",
     "text": [
      "Epoch: 2, Loss: 10.3961 (3.4397 + 6.2342 + 0.1068 + 0.6154)\n",
      "\n"
     ]
    },
    {
     "data": {
      "application/vnd.jupyter.widget-view+json": {
       "model_id": "11cc0e0b24854edf81c98a870cc5af6d",
       "version_major": 2,
       "version_minor": 0
      },
      "text/plain": [
       "HBox(children=(IntProgress(value=0, max=99), HTML(value='')))"
      ]
     },
     "metadata": {},
     "output_type": "display_data"
    },
    {
     "name": "stdout",
     "output_type": "stream",
     "text": [
      "Epoch: 3, Loss: 10.5488 (3.6624 + 6.1746 + 0.1060 + 0.6058)\n",
      "\n"
     ]
    },
    {
     "data": {
      "application/vnd.jupyter.widget-view+json": {
       "model_id": "96ab7b8182b34f15ba992bda70bda945",
       "version_major": 2,
       "version_minor": 0
      },
      "text/plain": [
       "HBox(children=(IntProgress(value=0, max=99), HTML(value='')))"
      ]
     },
     "metadata": {},
     "output_type": "display_data"
    },
    {
     "name": "stdout",
     "output_type": "stream",
     "text": [
      "Epoch: 4, Loss: 10.2710 (3.3356 + 6.2030 + 0.1071 + 0.6252)\n",
      "\n"
     ]
    },
    {
     "data": {
      "application/vnd.jupyter.widget-view+json": {
       "model_id": "b212110818d94d10aecc1a606826376d",
       "version_major": 2,
       "version_minor": 0
      },
      "text/plain": [
       "HBox(children=(IntProgress(value=0, max=99), HTML(value='')))"
      ]
     },
     "metadata": {},
     "output_type": "display_data"
    },
    {
     "name": "stdout",
     "output_type": "stream",
     "text": [
      "Epoch: 5, Loss: 10.1738 (3.3412 + 6.0904 + 0.1057 + 0.6365)\n",
      "\n"
     ]
    },
    {
     "data": {
      "application/vnd.jupyter.widget-view+json": {
       "model_id": "496790190f8844b7b964b3d311e31af4",
       "version_major": 2,
       "version_minor": 0
      },
      "text/plain": [
       "HBox(children=(IntProgress(value=0, max=99), HTML(value='')))"
      ]
     },
     "metadata": {},
     "output_type": "display_data"
    },
    {
     "name": "stdout",
     "output_type": "stream",
     "text": [
      "Epoch: 6, Loss: 10.0553 (3.2058 + 6.1078 + 0.1047 + 0.6371)\n",
      "\n"
     ]
    },
    {
     "data": {
      "application/vnd.jupyter.widget-view+json": {
       "model_id": "226112e8d73041d3a196f2790243bebe",
       "version_major": 2,
       "version_minor": 0
      },
      "text/plain": [
       "HBox(children=(IntProgress(value=0, max=99), HTML(value='')))"
      ]
     },
     "metadata": {},
     "output_type": "display_data"
    },
    {
     "name": "stdout",
     "output_type": "stream",
     "text": [
      "Epoch: 7, Loss: 10.0538 (3.2937 + 6.0298 + 0.1046 + 0.6257)\n",
      "\n"
     ]
    },
    {
     "data": {
      "application/vnd.jupyter.widget-view+json": {
       "model_id": "eacc6cd8a5504017bd2e1dd1531d7a88",
       "version_major": 2,
       "version_minor": 0
      },
      "text/plain": [
       "HBox(children=(IntProgress(value=0, max=99), HTML(value='')))"
      ]
     },
     "metadata": {},
     "output_type": "display_data"
    },
    {
     "name": "stdout",
     "output_type": "stream",
     "text": [
      "Epoch: 8, Loss: 10.1289 (3.3386 + 6.0359 + 0.1063 + 0.6481)\n",
      "\n"
     ]
    },
    {
     "data": {
      "application/vnd.jupyter.widget-view+json": {
       "model_id": "0a05107e778d421eba96097c6d685fde",
       "version_major": 2,
       "version_minor": 0
      },
      "text/plain": [
       "HBox(children=(IntProgress(value=0, max=99), HTML(value='')))"
      ]
     },
     "metadata": {},
     "output_type": "display_data"
    },
    {
     "name": "stdout",
     "output_type": "stream",
     "text": [
      "Epoch: 9, Loss: 9.7106 (2.9927 + 5.9714 + 0.1039 + 0.6426)\n",
      "\n"
     ]
    },
    {
     "data": {
      "application/vnd.jupyter.widget-view+json": {
       "model_id": "b9c94a1948424920a9c411974e8e8293",
       "version_major": 2,
       "version_minor": 0
      },
      "text/plain": [
       "HBox(children=(IntProgress(value=0, max=99), HTML(value='')))"
      ]
     },
     "metadata": {},
     "output_type": "display_data"
    },
    {
     "name": "stdout",
     "output_type": "stream",
     "text": [
      "Epoch: 10, Loss: 9.7775 (3.0708 + 5.9710 + 0.1036 + 0.6321)\n",
      "\n"
     ]
    },
    {
     "data": {
      "application/vnd.jupyter.widget-view+json": {
       "model_id": "35c0dba8b9424d2fbd19e4e09f1a2802",
       "version_major": 2,
       "version_minor": 0
      },
      "text/plain": [
       "HBox(children=(IntProgress(value=0, max=99), HTML(value='')))"
      ]
     },
     "metadata": {},
     "output_type": "display_data"
    },
    {
     "name": "stdout",
     "output_type": "stream",
     "text": [
      "Epoch: 11, Loss: 9.8388 (3.2023 + 5.8830 + 0.1056 + 0.6479)\n",
      "\n"
     ]
    },
    {
     "data": {
      "application/vnd.jupyter.widget-view+json": {
       "model_id": "ab4fbf83576e4479b7232218bbae00fa",
       "version_major": 2,
       "version_minor": 0
      },
      "text/plain": [
       "HBox(children=(IntProgress(value=0, max=99), HTML(value='')))"
      ]
     },
     "metadata": {},
     "output_type": "display_data"
    },
    {
     "name": "stdout",
     "output_type": "stream",
     "text": [
      "Epoch: 12, Loss: 9.8276 (3.1011 + 5.9872 + 0.1043 + 0.6350)\n",
      "\n"
     ]
    },
    {
     "data": {
      "application/vnd.jupyter.widget-view+json": {
       "model_id": "23d00f683df54befb83589c0c6662ac8",
       "version_major": 2,
       "version_minor": 0
      },
      "text/plain": [
       "HBox(children=(IntProgress(value=0, max=99), HTML(value='')))"
      ]
     },
     "metadata": {},
     "output_type": "display_data"
    },
    {
     "name": "stdout",
     "output_type": "stream",
     "text": [
      "Epoch: 13, Loss: 9.7024 (3.0172 + 5.9475 + 0.1058 + 0.6320)\n",
      "\n"
     ]
    },
    {
     "data": {
      "application/vnd.jupyter.widget-view+json": {
       "model_id": "8004bf44a6b6469194a069c38435a527",
       "version_major": 2,
       "version_minor": 0
      },
      "text/plain": [
       "HBox(children=(IntProgress(value=0, max=99), HTML(value='')))"
      ]
     },
     "metadata": {},
     "output_type": "display_data"
    },
    {
     "name": "stdout",
     "output_type": "stream",
     "text": [
      "Epoch: 14, Loss: 9.9612 (3.2571 + 5.9621 + 0.1033 + 0.6387)\n",
      "\n"
     ]
    },
    {
     "data": {
      "application/vnd.jupyter.widget-view+json": {
       "model_id": "2f620cd0eb2843e9b5cdb4f74915caf2",
       "version_major": 2,
       "version_minor": 0
      },
      "text/plain": [
       "HBox(children=(IntProgress(value=0, max=99), HTML(value='')))"
      ]
     },
     "metadata": {},
     "output_type": "display_data"
    },
    {
     "name": "stdout",
     "output_type": "stream",
     "text": [
      "Epoch: 15, Loss: 9.8938 (3.2324 + 5.9165 + 0.1017 + 0.6432)\n",
      "\n"
     ]
    },
    {
     "data": {
      "application/vnd.jupyter.widget-view+json": {
       "model_id": "e100543d2d464fcd8ade5209857b505a",
       "version_major": 2,
       "version_minor": 0
      },
      "text/plain": [
       "HBox(children=(IntProgress(value=0, max=99), HTML(value='')))"
      ]
     },
     "metadata": {},
     "output_type": "display_data"
    },
    {
     "name": "stdout",
     "output_type": "stream",
     "text": [
      "Epoch: 16, Loss: 9.7829 (3.1485 + 5.8871 + 0.1036 + 0.6437)\n",
      "\n"
     ]
    },
    {
     "data": {
      "application/vnd.jupyter.widget-view+json": {
       "model_id": "c38502363e7a4eba960989afb7fac490",
       "version_major": 2,
       "version_minor": 0
      },
      "text/plain": [
       "HBox(children=(IntProgress(value=0, max=99), HTML(value='')))"
      ]
     },
     "metadata": {},
     "output_type": "display_data"
    },
    {
     "name": "stdout",
     "output_type": "stream",
     "text": [
      "Epoch: 17, Loss: 9.6673 (3.0295 + 5.8913 + 0.1029 + 0.6436)\n",
      "\n"
     ]
    },
    {
     "data": {
      "application/vnd.jupyter.widget-view+json": {
       "model_id": "e5aa7f80532f4f0db30e0da02100b8eb",
       "version_major": 2,
       "version_minor": 0
      },
      "text/plain": [
       "HBox(children=(IntProgress(value=0, max=99), HTML(value='')))"
      ]
     },
     "metadata": {},
     "output_type": "display_data"
    },
    {
     "name": "stdout",
     "output_type": "stream",
     "text": [
      "Epoch: 18, Loss: 9.4638 (2.9967 + 5.7319 + 0.1020 + 0.6332)\n",
      "\n"
     ]
    },
    {
     "data": {
      "application/vnd.jupyter.widget-view+json": {
       "model_id": "5e4af3ef4d474033908feb9f04fb94db",
       "version_major": 2,
       "version_minor": 0
      },
      "text/plain": [
       "HBox(children=(IntProgress(value=0, max=99), HTML(value='')))"
      ]
     },
     "metadata": {},
     "output_type": "display_data"
    },
    {
     "name": "stdout",
     "output_type": "stream",
     "text": [
      "Epoch: 19, Loss: 9.4939 (2.9018 + 5.8379 + 0.1050 + 0.6492)\n",
      "\n"
     ]
    },
    {
     "data": {
      "application/vnd.jupyter.widget-view+json": {
       "model_id": "cbfb09335aef4e67bb521702d8425a3f",
       "version_major": 2,
       "version_minor": 0
      },
      "text/plain": [
       "HBox(children=(IntProgress(value=0, max=99), HTML(value='')))"
      ]
     },
     "metadata": {},
     "output_type": "display_data"
    },
    {
     "name": "stdout",
     "output_type": "stream",
     "text": [
      "Epoch: 20, Loss: 9.5467 (3.0098 + 5.7937 + 0.1042 + 0.6390)\n",
      "\n"
     ]
    },
    {
     "data": {
      "application/vnd.jupyter.widget-view+json": {
       "model_id": "3f44dc12ae904bdea3102910d530d342",
       "version_major": 2,
       "version_minor": 0
      },
      "text/plain": [
       "HBox(children=(IntProgress(value=0, max=99), HTML(value='')))"
      ]
     },
     "metadata": {},
     "output_type": "display_data"
    },
    {
     "name": "stdout",
     "output_type": "stream",
     "text": [
      "Epoch: 21, Loss: 9.0816 (2.6123 + 5.7358 + 0.1025 + 0.6309)\n",
      "\n"
     ]
    },
    {
     "data": {
      "application/vnd.jupyter.widget-view+json": {
       "model_id": "b0040949d6484d9eaa145f4b81915484",
       "version_major": 2,
       "version_minor": 0
      },
      "text/plain": [
       "HBox(children=(IntProgress(value=0, max=99), HTML(value='')))"
      ]
     },
     "metadata": {},
     "output_type": "display_data"
    },
    {
     "name": "stdout",
     "output_type": "stream",
     "text": [
      "Epoch: 22, Loss: 9.1971 (2.7024 + 5.7545 + 0.1018 + 0.6384)\n",
      "\n"
     ]
    },
    {
     "data": {
      "application/vnd.jupyter.widget-view+json": {
       "model_id": "2eb703d51a83491fb681ff61a86b2a3d",
       "version_major": 2,
       "version_minor": 0
      },
      "text/plain": [
       "HBox(children=(IntProgress(value=0, max=99), HTML(value='')))"
      ]
     },
     "metadata": {},
     "output_type": "display_data"
    },
    {
     "name": "stdout",
     "output_type": "stream",
     "text": [
      "Epoch: 23, Loss: 9.0665 (2.6658 + 5.6596 + 0.1035 + 0.6376)\n",
      "\n"
     ]
    },
    {
     "data": {
      "application/vnd.jupyter.widget-view+json": {
       "model_id": "966af44c88824302b28124332d9fe055",
       "version_major": 2,
       "version_minor": 0
      },
      "text/plain": [
       "HBox(children=(IntProgress(value=0, max=99), HTML(value='')))"
      ]
     },
     "metadata": {},
     "output_type": "display_data"
    },
    {
     "name": "stdout",
     "output_type": "stream",
     "text": [
      "Epoch: 24, Loss: 9.4058 (2.9340 + 5.7254 + 0.1034 + 0.6430)\n",
      "\n"
     ]
    },
    {
     "data": {
      "application/vnd.jupyter.widget-view+json": {
       "model_id": "07e3a2b79fa24739a3374588cae069ea",
       "version_major": 2,
       "version_minor": 0
      },
      "text/plain": [
       "HBox(children=(IntProgress(value=0, max=99), HTML(value='')))"
      ]
     },
     "metadata": {},
     "output_type": "display_data"
    },
    {
     "name": "stdout",
     "output_type": "stream",
     "text": [
      "Epoch: 25, Loss: 9.3238 (2.8530 + 5.7286 + 0.1020 + 0.6402)\n",
      "\n"
     ]
    },
    {
     "data": {
      "application/vnd.jupyter.widget-view+json": {
       "model_id": "895d74390f794cb2a1b9f70cc5aa83b6",
       "version_major": 2,
       "version_minor": 0
      },
      "text/plain": [
       "HBox(children=(IntProgress(value=0, max=99), HTML(value='')))"
      ]
     },
     "metadata": {},
     "output_type": "display_data"
    },
    {
     "name": "stdout",
     "output_type": "stream",
     "text": [
      "Epoch: 26, Loss: 8.9747 (2.5523 + 5.6737 + 0.1034 + 0.6455)\n",
      "\n"
     ]
    },
    {
     "data": {
      "application/vnd.jupyter.widget-view+json": {
       "model_id": "98300bd90cfc4bf8b75935f0242c149f",
       "version_major": 2,
       "version_minor": 0
      },
      "text/plain": [
       "HBox(children=(IntProgress(value=0, max=99), HTML(value='')))"
      ]
     },
     "metadata": {},
     "output_type": "display_data"
    },
    {
     "name": "stdout",
     "output_type": "stream",
     "text": [
      "Epoch: 27, Loss: 8.9781 (2.5918 + 5.6329 + 0.1040 + 0.6494)\n",
      "\n"
     ]
    },
    {
     "data": {
      "application/vnd.jupyter.widget-view+json": {
       "model_id": "c5b4a6dd717b4ea58cd3fb232477554f",
       "version_major": 2,
       "version_minor": 0
      },
      "text/plain": [
       "HBox(children=(IntProgress(value=0, max=99), HTML(value='')))"
      ]
     },
     "metadata": {},
     "output_type": "display_data"
    },
    {
     "name": "stdout",
     "output_type": "stream",
     "text": [
      "Epoch: 28, Loss: 8.6662 (2.3333 + 5.5996 + 0.1015 + 0.6317)\n",
      "\n"
     ]
    },
    {
     "data": {
      "application/vnd.jupyter.widget-view+json": {
       "model_id": "34d97d6668e34b229e9b5c59a8421c72",
       "version_major": 2,
       "version_minor": 0
      },
      "text/plain": [
       "HBox(children=(IntProgress(value=0, max=99), HTML(value='')))"
      ]
     },
     "metadata": {},
     "output_type": "display_data"
    },
    {
     "name": "stdout",
     "output_type": "stream",
     "text": [
      "Epoch: 29, Loss: 9.1265 (2.7620 + 5.6297 + 0.1025 + 0.6322)\n",
      "\n"
     ]
    },
    {
     "data": {
      "application/vnd.jupyter.widget-view+json": {
       "model_id": "92ea37afb9f4400fa6b312336c5185d1",
       "version_major": 2,
       "version_minor": 0
      },
      "text/plain": [
       "HBox(children=(IntProgress(value=0, max=99), HTML(value='')))"
      ]
     },
     "metadata": {},
     "output_type": "display_data"
    },
    {
     "name": "stdout",
     "output_type": "stream",
     "text": [
      "Epoch: 30, Loss: 8.9457 (2.6579 + 5.5435 + 0.1028 + 0.6416)\n",
      "\n"
     ]
    },
    {
     "data": {
      "application/vnd.jupyter.widget-view+json": {
       "model_id": "efcfc45abca04c2cab16e82bfd710fec",
       "version_major": 2,
       "version_minor": 0
      },
      "text/plain": [
       "HBox(children=(IntProgress(value=0, max=99), HTML(value='')))"
      ]
     },
     "metadata": {},
     "output_type": "display_data"
    },
    {
     "name": "stdout",
     "output_type": "stream",
     "text": [
      "Epoch: 31, Loss: 9.0799 (2.6917 + 5.6459 + 0.1030 + 0.6394)\n",
      "\n"
     ]
    },
    {
     "data": {
      "application/vnd.jupyter.widget-view+json": {
       "model_id": "fd07e03e18d0497d9689112fb9bf7259",
       "version_major": 2,
       "version_minor": 0
      },
      "text/plain": [
       "HBox(children=(IntProgress(value=0, max=99), HTML(value='')))"
      ]
     },
     "metadata": {},
     "output_type": "display_data"
    },
    {
     "name": "stdout",
     "output_type": "stream",
     "text": [
      "Epoch: 32, Loss: 8.7476 (2.4257 + 5.5796 + 0.1014 + 0.6409)\n",
      "\n"
     ]
    },
    {
     "data": {
      "application/vnd.jupyter.widget-view+json": {
       "model_id": "8965c06d3777425e95f47f5957e960e1",
       "version_major": 2,
       "version_minor": 0
      },
      "text/plain": [
       "HBox(children=(IntProgress(value=0, max=99), HTML(value='')))"
      ]
     },
     "metadata": {},
     "output_type": "display_data"
    },
    {
     "name": "stdout",
     "output_type": "stream",
     "text": [
      "Epoch: 33, Loss: 8.7122 (2.4248 + 5.5585 + 0.0998 + 0.6291)\n",
      "\n"
     ]
    },
    {
     "data": {
      "application/vnd.jupyter.widget-view+json": {
       "model_id": "c91859e7a9924cc4b3da53a1b00a8022",
       "version_major": 2,
       "version_minor": 0
      },
      "text/plain": [
       "HBox(children=(IntProgress(value=0, max=99), HTML(value='')))"
      ]
     },
     "metadata": {},
     "output_type": "display_data"
    },
    {
     "name": "stdout",
     "output_type": "stream",
     "text": [
      "Epoch: 34, Loss: 8.4906 (2.2539 + 5.4978 + 0.1027 + 0.6362)\n",
      "\n"
     ]
    },
    {
     "data": {
      "application/vnd.jupyter.widget-view+json": {
       "model_id": "b1168c9f5a25447fb22f3cadc1f9e776",
       "version_major": 2,
       "version_minor": 0
      },
      "text/plain": [
       "HBox(children=(IntProgress(value=0, max=99), HTML(value='')))"
      ]
     },
     "metadata": {},
     "output_type": "display_data"
    },
    {
     "name": "stdout",
     "output_type": "stream",
     "text": [
      "Epoch: 35, Loss: 8.7863 (2.4880 + 5.5473 + 0.1021 + 0.6488)\n",
      "\n"
     ]
    },
    {
     "data": {
      "application/vnd.jupyter.widget-view+json": {
       "model_id": "705e4f8b0be54d3aa8ecf1a30f61f091",
       "version_major": 2,
       "version_minor": 0
      },
      "text/plain": [
       "HBox(children=(IntProgress(value=0, max=99), HTML(value='')))"
      ]
     },
     "metadata": {},
     "output_type": "display_data"
    },
    {
     "name": "stdout",
     "output_type": "stream",
     "text": [
      "Epoch: 36, Loss: 8.7549 (2.5321 + 5.4850 + 0.1017 + 0.6361)\n",
      "\n"
     ]
    },
    {
     "data": {
      "application/vnd.jupyter.widget-view+json": {
       "model_id": "29db718424474b7ca92416539d313857",
       "version_major": 2,
       "version_minor": 0
      },
      "text/plain": [
       "HBox(children=(IntProgress(value=0, max=99), HTML(value='')))"
      ]
     },
     "metadata": {},
     "output_type": "display_data"
    },
    {
     "name": "stdout",
     "output_type": "stream",
     "text": [
      "Epoch: 37, Loss: 8.5545 (2.3434 + 5.4728 + 0.1057 + 0.6326)\n",
      "\n"
     ]
    },
    {
     "data": {
      "application/vnd.jupyter.widget-view+json": {
       "model_id": "34c3817163244ed9bed52f3be2bc57e9",
       "version_major": 2,
       "version_minor": 0
      },
      "text/plain": [
       "HBox(children=(IntProgress(value=0, max=99), HTML(value='')))"
      ]
     },
     "metadata": {},
     "output_type": "display_data"
    },
    {
     "name": "stdout",
     "output_type": "stream",
     "text": [
      "Epoch: 38, Loss: 8.3167 (2.1930 + 5.3916 + 0.1016 + 0.6305)\n",
      "\n"
     ]
    },
    {
     "data": {
      "application/vnd.jupyter.widget-view+json": {
       "model_id": "7dc0112d67b8445d8f7015a9d8240a9f",
       "version_major": 2,
       "version_minor": 0
      },
      "text/plain": [
       "HBox(children=(IntProgress(value=0, max=99), HTML(value='')))"
      ]
     },
     "metadata": {},
     "output_type": "display_data"
    },
    {
     "name": "stdout",
     "output_type": "stream",
     "text": [
      "Epoch: 39, Loss: 8.6157 (2.4032 + 5.4677 + 0.1029 + 0.6419)\n",
      "\n"
     ]
    },
    {
     "data": {
      "application/vnd.jupyter.widget-view+json": {
       "model_id": "65a52cf2b800481fa1448ff9a68bed72",
       "version_major": 2,
       "version_minor": 0
      },
      "text/plain": [
       "HBox(children=(IntProgress(value=0, max=99), HTML(value='')))"
      ]
     },
     "metadata": {},
     "output_type": "display_data"
    },
    {
     "name": "stdout",
     "output_type": "stream",
     "text": [
      "Epoch: 40, Loss: 8.6744 (2.4469 + 5.4944 + 0.1043 + 0.6288)\n",
      "\n"
     ]
    },
    {
     "data": {
      "application/vnd.jupyter.widget-view+json": {
       "model_id": "b7fa0b302f194b8989c687a97b2e9ad4",
       "version_major": 2,
       "version_minor": 0
      },
      "text/plain": [
       "HBox(children=(IntProgress(value=0, max=99), HTML(value='')))"
      ]
     },
     "metadata": {},
     "output_type": "display_data"
    },
    {
     "name": "stdout",
     "output_type": "stream",
     "text": [
      "Epoch: 41, Loss: 8.5044 (2.3597 + 5.4139 + 0.1018 + 0.6290)\n",
      "\n"
     ]
    },
    {
     "data": {
      "application/vnd.jupyter.widget-view+json": {
       "model_id": "48414a855c15422bbf88d14d05f5ebbb",
       "version_major": 2,
       "version_minor": 0
      },
      "text/plain": [
       "HBox(children=(IntProgress(value=0, max=99), HTML(value='')))"
      ]
     },
     "metadata": {},
     "output_type": "display_data"
    },
    {
     "name": "stdout",
     "output_type": "stream",
     "text": [
      "Epoch: 42, Loss: 8.4537 (2.2984 + 5.4282 + 0.1008 + 0.6263)\n",
      "\n"
     ]
    },
    {
     "data": {
      "application/vnd.jupyter.widget-view+json": {
       "model_id": "618e7b53b3004332b175fc89043dc950",
       "version_major": 2,
       "version_minor": 0
      },
      "text/plain": [
       "HBox(children=(IntProgress(value=0, max=99), HTML(value='')))"
      ]
     },
     "metadata": {},
     "output_type": "display_data"
    },
    {
     "name": "stdout",
     "output_type": "stream",
     "text": [
      "Epoch: 43, Loss: 8.7389 (2.5921 + 5.4148 + 0.1041 + 0.6279)\n",
      "\n"
     ]
    },
    {
     "data": {
      "application/vnd.jupyter.widget-view+json": {
       "model_id": "79aad47c29b348cf884f4d6e8dd3440d",
       "version_major": 2,
       "version_minor": 0
      },
      "text/plain": [
       "HBox(children=(IntProgress(value=0, max=99), HTML(value='')))"
      ]
     },
     "metadata": {},
     "output_type": "display_data"
    },
    {
     "name": "stdout",
     "output_type": "stream",
     "text": [
      "Epoch: 44, Loss: 8.4775 (2.2764 + 5.4697 + 0.1030 + 0.6284)\n",
      "\n"
     ]
    },
    {
     "data": {
      "application/vnd.jupyter.widget-view+json": {
       "model_id": "2c580737dc4e41ff85cf58b426d5006a",
       "version_major": 2,
       "version_minor": 0
      },
      "text/plain": [
       "HBox(children=(IntProgress(value=0, max=99), HTML(value='')))"
      ]
     },
     "metadata": {},
     "output_type": "display_data"
    },
    {
     "name": "stdout",
     "output_type": "stream",
     "text": [
      "Epoch: 45, Loss: 8.7049 (2.4917 + 5.4857 + 0.0991 + 0.6285)\n",
      "\n"
     ]
    },
    {
     "data": {
      "application/vnd.jupyter.widget-view+json": {
       "model_id": "4147120d99b046c9820e18d6974a274d",
       "version_major": 2,
       "version_minor": 0
      },
      "text/plain": [
       "HBox(children=(IntProgress(value=0, max=99), HTML(value='')))"
      ]
     },
     "metadata": {},
     "output_type": "display_data"
    },
    {
     "name": "stdout",
     "output_type": "stream",
     "text": [
      "Epoch: 46, Loss: 8.4370 (2.3326 + 5.3756 + 0.1037 + 0.6251)\n",
      "\n"
     ]
    },
    {
     "data": {
      "application/vnd.jupyter.widget-view+json": {
       "model_id": "3fb478e4a73c4f2f8c14edeb335fc1b1",
       "version_major": 2,
       "version_minor": 0
      },
      "text/plain": [
       "HBox(children=(IntProgress(value=0, max=99), HTML(value='')))"
      ]
     },
     "metadata": {},
     "output_type": "display_data"
    },
    {
     "name": "stdout",
     "output_type": "stream",
     "text": [
      "Epoch: 47, Loss: 8.5326 (2.3809 + 5.4263 + 0.1032 + 0.6221)\n",
      "\n"
     ]
    },
    {
     "data": {
      "application/vnd.jupyter.widget-view+json": {
       "model_id": "7284f44662e8494891dc034b3632dd27",
       "version_major": 2,
       "version_minor": 0
      },
      "text/plain": [
       "HBox(children=(IntProgress(value=0, max=99), HTML(value='')))"
      ]
     },
     "metadata": {},
     "output_type": "display_data"
    },
    {
     "name": "stdout",
     "output_type": "stream",
     "text": [
      "Epoch: 48, Loss: 8.4311 (2.3069 + 5.4021 + 0.1020 + 0.6200)\n",
      "\n"
     ]
    },
    {
     "data": {
      "application/vnd.jupyter.widget-view+json": {
       "model_id": "4fec7e67e9e7484ea78d52b02fbc3392",
       "version_major": 2,
       "version_minor": 0
      },
      "text/plain": [
       "HBox(children=(IntProgress(value=0, max=99), HTML(value='')))"
      ]
     },
     "metadata": {},
     "output_type": "display_data"
    },
    {
     "name": "stdout",
     "output_type": "stream",
     "text": [
      "Epoch: 49, Loss: 8.1466 (2.1018 + 5.3180 + 0.1009 + 0.6260)\n",
      "\n"
     ]
    },
    {
     "data": {
      "application/vnd.jupyter.widget-view+json": {
       "model_id": "be0deef145b74f0bbda96895cb98c54e",
       "version_major": 2,
       "version_minor": 0
      },
      "text/plain": [
       "HBox(children=(IntProgress(value=0, max=99), HTML(value='')))"
      ]
     },
     "metadata": {},
     "output_type": "display_data"
    },
    {
     "name": "stdout",
     "output_type": "stream",
     "text": [
      "Epoch: 50, Loss: 7.8367 (1.8498 + 5.2612 + 0.1003 + 0.6254)\n",
      "\n"
     ]
    },
    {
     "data": {
      "application/vnd.jupyter.widget-view+json": {
       "model_id": "8f4c1c7d7e1d482e90bc9e0c45ad62d1",
       "version_major": 2,
       "version_minor": 0
      },
      "text/plain": [
       "HBox(children=(IntProgress(value=0, max=99), HTML(value='')))"
      ]
     },
     "metadata": {},
     "output_type": "display_data"
    },
    {
     "name": "stdout",
     "output_type": "stream",
     "text": [
      "Epoch: 51, Loss: 7.7018 (1.7740 + 5.2122 + 0.0968 + 0.6188)\n",
      "\n"
     ]
    },
    {
     "data": {
      "application/vnd.jupyter.widget-view+json": {
       "model_id": "66478b1269f440ae963ff5eb60b8c96a",
       "version_major": 2,
       "version_minor": 0
      },
      "text/plain": [
       "HBox(children=(IntProgress(value=0, max=99), HTML(value='')))"
      ]
     },
     "metadata": {},
     "output_type": "display_data"
    },
    {
     "name": "stdout",
     "output_type": "stream",
     "text": [
      "Epoch: 52, Loss: 7.7439 (1.8009 + 5.2245 + 0.0973 + 0.6213)\n",
      "\n"
     ]
    },
    {
     "data": {
      "application/vnd.jupyter.widget-view+json": {
       "model_id": "0110649d69c248558d945a7d570c8be5",
       "version_major": 2,
       "version_minor": 0
      },
      "text/plain": [
       "HBox(children=(IntProgress(value=0, max=99), HTML(value='')))"
      ]
     },
     "metadata": {},
     "output_type": "display_data"
    },
    {
     "name": "stdout",
     "output_type": "stream",
     "text": [
      "Epoch: 53, Loss: 7.4958 (1.6131 + 5.1638 + 0.0970 + 0.6219)\n",
      "\n"
     ]
    },
    {
     "data": {
      "application/vnd.jupyter.widget-view+json": {
       "model_id": "0797c2b7744845219791370af47152ee",
       "version_major": 2,
       "version_minor": 0
      },
      "text/plain": [
       "HBox(children=(IntProgress(value=0, max=99), HTML(value='')))"
      ]
     },
     "metadata": {},
     "output_type": "display_data"
    },
    {
     "name": "stdout",
     "output_type": "stream",
     "text": [
      "Epoch: 54, Loss: 7.5231 (1.6315 + 5.1754 + 0.0986 + 0.6176)\n",
      "\n"
     ]
    },
    {
     "data": {
      "application/vnd.jupyter.widget-view+json": {
       "model_id": "29d87d3209a84446bb970c2c6c6685c3",
       "version_major": 2,
       "version_minor": 0
      },
      "text/plain": [
       "HBox(children=(IntProgress(value=0, max=99), HTML(value='')))"
      ]
     },
     "metadata": {},
     "output_type": "display_data"
    },
    {
     "name": "stdout",
     "output_type": "stream",
     "text": [
      "Epoch: 55, Loss: 7.5334 (1.6550 + 5.1646 + 0.0987 + 0.6150)\n",
      "\n"
     ]
    },
    {
     "data": {
      "application/vnd.jupyter.widget-view+json": {
       "model_id": "55101d3ce08347cbafafb28d6da15a04",
       "version_major": 2,
       "version_minor": 0
      },
      "text/plain": [
       "HBox(children=(IntProgress(value=0, max=99), HTML(value='')))"
      ]
     },
     "metadata": {},
     "output_type": "display_data"
    },
    {
     "name": "stdout",
     "output_type": "stream",
     "text": [
      "Epoch: 56, Loss: 7.4486 (1.5906 + 5.1465 + 0.0973 + 0.6143)\n",
      "\n"
     ]
    },
    {
     "data": {
      "application/vnd.jupyter.widget-view+json": {
       "model_id": "ae8bf97a2e064b8a8eac916b0baffdb0",
       "version_major": 2,
       "version_minor": 0
      },
      "text/plain": [
       "HBox(children=(IntProgress(value=0, max=99), HTML(value='')))"
      ]
     },
     "metadata": {},
     "output_type": "display_data"
    },
    {
     "name": "stdout",
     "output_type": "stream",
     "text": [
      "Epoch: 57, Loss: 7.5424 (1.7079 + 5.1182 + 0.0978 + 0.6185)\n",
      "\n"
     ]
    },
    {
     "data": {
      "application/vnd.jupyter.widget-view+json": {
       "model_id": "3624992a7764480a9ee13fbfb701ef17",
       "version_major": 2,
       "version_minor": 0
      },
      "text/plain": [
       "HBox(children=(IntProgress(value=0, max=99), HTML(value='')))"
      ]
     },
     "metadata": {},
     "output_type": "display_data"
    },
    {
     "name": "stdout",
     "output_type": "stream",
     "text": [
      "Epoch: 58, Loss: 7.5773 (1.7154 + 5.1379 + 0.0974 + 0.6265)\n",
      "\n"
     ]
    },
    {
     "data": {
      "application/vnd.jupyter.widget-view+json": {
       "model_id": "9b0dd3c3bb744dfca52adc9319ad4830",
       "version_major": 2,
       "version_minor": 0
      },
      "text/plain": [
       "HBox(children=(IntProgress(value=0, max=99), HTML(value='')))"
      ]
     },
     "metadata": {},
     "output_type": "display_data"
    },
    {
     "name": "stdout",
     "output_type": "stream",
     "text": [
      "Epoch: 59, Loss: 7.4506 (1.6252 + 5.1176 + 0.0984 + 0.6094)\n",
      "\n"
     ]
    },
    {
     "data": {
      "application/vnd.jupyter.widget-view+json": {
       "model_id": "b00646844018496a897227dad258a805",
       "version_major": 2,
       "version_minor": 0
      },
      "text/plain": [
       "HBox(children=(IntProgress(value=0, max=99), HTML(value='')))"
      ]
     },
     "metadata": {},
     "output_type": "display_data"
    },
    {
     "name": "stdout",
     "output_type": "stream",
     "text": [
      "Epoch: 60, Loss: 7.4396 (1.6281 + 5.1061 + 0.0964 + 0.6089)\n",
      "\n"
     ]
    },
    {
     "data": {
      "application/vnd.jupyter.widget-view+json": {
       "model_id": "bc1000e674af483abed4e38d922bdce6",
       "version_major": 2,
       "version_minor": 0
      },
      "text/plain": [
       "HBox(children=(IntProgress(value=0, max=99), HTML(value='')))"
      ]
     },
     "metadata": {},
     "output_type": "display_data"
    },
    {
     "name": "stdout",
     "output_type": "stream",
     "text": [
      "Epoch: 61, Loss: 7.2857 (1.4774 + 5.0949 + 0.0967 + 0.6168)\n",
      "\n"
     ]
    },
    {
     "data": {
      "application/vnd.jupyter.widget-view+json": {
       "model_id": "1c5748b2cedc47f38aac1b070aa9d156",
       "version_major": 2,
       "version_minor": 0
      },
      "text/plain": [
       "HBox(children=(IntProgress(value=0, max=99), HTML(value='')))"
      ]
     },
     "metadata": {},
     "output_type": "display_data"
    },
    {
     "name": "stdout",
     "output_type": "stream",
     "text": [
      "Epoch: 62, Loss: 7.1426 (1.3783 + 5.0501 + 0.0983 + 0.6159)\n",
      "\n"
     ]
    },
    {
     "data": {
      "application/vnd.jupyter.widget-view+json": {
       "model_id": "5b0e54a066944e2f98dd3d9751fa5e67",
       "version_major": 2,
       "version_minor": 0
      },
      "text/plain": [
       "HBox(children=(IntProgress(value=0, max=99), HTML(value='')))"
      ]
     },
     "metadata": {},
     "output_type": "display_data"
    },
    {
     "name": "stdout",
     "output_type": "stream",
     "text": [
      "Epoch: 63, Loss: 7.2481 (1.4738 + 5.0594 + 0.0970 + 0.6178)\n",
      "\n"
     ]
    },
    {
     "data": {
      "application/vnd.jupyter.widget-view+json": {
       "model_id": "3bbd5ba55e584d18a89b5144ba0fdf0a",
       "version_major": 2,
       "version_minor": 0
      },
      "text/plain": [
       "HBox(children=(IntProgress(value=0, max=99), HTML(value='')))"
      ]
     },
     "metadata": {},
     "output_type": "display_data"
    },
    {
     "name": "stdout",
     "output_type": "stream",
     "text": [
      "Epoch: 64, Loss: 7.2642 (1.4801 + 5.0723 + 0.0970 + 0.6149)\n",
      "\n"
     ]
    },
    {
     "data": {
      "application/vnd.jupyter.widget-view+json": {
       "model_id": "31b088686653495aa1f40aed53a30acb",
       "version_major": 2,
       "version_minor": 0
      },
      "text/plain": [
       "HBox(children=(IntProgress(value=0, max=99), HTML(value='')))"
      ]
     },
     "metadata": {},
     "output_type": "display_data"
    },
    {
     "name": "stdout",
     "output_type": "stream",
     "text": [
      "Epoch: 65, Loss: 7.2702 (1.5173 + 5.0438 + 0.0973 + 0.6118)\n",
      "\n"
     ]
    },
    {
     "data": {
      "application/vnd.jupyter.widget-view+json": {
       "model_id": "810ad7337e144600b43e6f3eceff7507",
       "version_major": 2,
       "version_minor": 0
      },
      "text/plain": [
       "HBox(children=(IntProgress(value=0, max=99), HTML(value='')))"
      ]
     },
     "metadata": {},
     "output_type": "display_data"
    },
    {
     "name": "stdout",
     "output_type": "stream",
     "text": [
      "Epoch: 66, Loss: 7.2731 (1.5275 + 5.0307 + 0.0966 + 0.6184)\n",
      "\n"
     ]
    },
    {
     "data": {
      "application/vnd.jupyter.widget-view+json": {
       "model_id": "0bdad2818bcd4ecaba0105c2dc1284cf",
       "version_major": 2,
       "version_minor": 0
      },
      "text/plain": [
       "HBox(children=(IntProgress(value=0, max=99), HTML(value='')))"
      ]
     },
     "metadata": {},
     "output_type": "display_data"
    },
    {
     "name": "stdout",
     "output_type": "stream",
     "text": [
      "Epoch: 67, Loss: 7.2233 (1.4917 + 5.0239 + 0.0957 + 0.6120)\n",
      "\n"
     ]
    },
    {
     "data": {
      "application/vnd.jupyter.widget-view+json": {
       "model_id": "03b7d3ab73174d3d94e141fc7a7ff8c0",
       "version_major": 2,
       "version_minor": 0
      },
      "text/plain": [
       "HBox(children=(IntProgress(value=0, max=99), HTML(value='')))"
      ]
     },
     "metadata": {},
     "output_type": "display_data"
    },
    {
     "name": "stdout",
     "output_type": "stream",
     "text": [
      "Epoch: 68, Loss: 7.2326 (1.5301 + 5.0003 + 0.0969 + 0.6054)\n",
      "\n"
     ]
    },
    {
     "data": {
      "application/vnd.jupyter.widget-view+json": {
       "model_id": "afb89d7c0ec74d39a7b9e933fe3c60bf",
       "version_major": 2,
       "version_minor": 0
      },
      "text/plain": [
       "HBox(children=(IntProgress(value=0, max=99), HTML(value='')))"
      ]
     },
     "metadata": {},
     "output_type": "display_data"
    },
    {
     "name": "stdout",
     "output_type": "stream",
     "text": [
      "Epoch: 69, Loss: 7.1834 (1.4678 + 5.0081 + 0.0953 + 0.6122)\n",
      "\n"
     ]
    },
    {
     "data": {
      "application/vnd.jupyter.widget-view+json": {
       "model_id": "203efba8f3524ed6a7acc95d056e85cd",
       "version_major": 2,
       "version_minor": 0
      },
      "text/plain": [
       "HBox(children=(IntProgress(value=0, max=99), HTML(value='')))"
      ]
     },
     "metadata": {},
     "output_type": "display_data"
    },
    {
     "name": "stdout",
     "output_type": "stream",
     "text": [
      "Epoch: 70, Loss: 7.1518 (1.4461 + 5.0063 + 0.0951 + 0.6043)\n",
      "\n"
     ]
    },
    {
     "data": {
      "application/vnd.jupyter.widget-view+json": {
       "model_id": "61ed39cbb96d45c794d04b69d4c95a14",
       "version_major": 2,
       "version_minor": 0
      },
      "text/plain": [
       "HBox(children=(IntProgress(value=0, max=99), HTML(value='')))"
      ]
     },
     "metadata": {},
     "output_type": "display_data"
    },
    {
     "name": "stdout",
     "output_type": "stream",
     "text": [
      "Epoch: 71, Loss: 7.1381 (1.4315 + 5.0070 + 0.0947 + 0.6048)\n",
      "\n"
     ]
    },
    {
     "data": {
      "application/vnd.jupyter.widget-view+json": {
       "model_id": "dd1963763c644a779f07e5db8b3c3419",
       "version_major": 2,
       "version_minor": 0
      },
      "text/plain": [
       "HBox(children=(IntProgress(value=0, max=99), HTML(value='')))"
      ]
     },
     "metadata": {},
     "output_type": "display_data"
    },
    {
     "name": "stdout",
     "output_type": "stream",
     "text": [
      "Epoch: 72, Loss: 7.1263 (1.4124 + 5.0039 + 0.0966 + 0.6134)\n",
      "\n"
     ]
    },
    {
     "data": {
      "application/vnd.jupyter.widget-view+json": {
       "model_id": "1e257f9d34744579a139b23956f2009d",
       "version_major": 2,
       "version_minor": 0
      },
      "text/plain": [
       "HBox(children=(IntProgress(value=0, max=99), HTML(value='')))"
      ]
     },
     "metadata": {},
     "output_type": "display_data"
    },
    {
     "name": "stdout",
     "output_type": "stream",
     "text": [
      "Epoch: 73, Loss: 7.1922 (1.4680 + 5.0154 + 0.0961 + 0.6126)\n",
      "\n"
     ]
    },
    {
     "data": {
      "application/vnd.jupyter.widget-view+json": {
       "model_id": "13b116b38a07462e9a18ab186a042410",
       "version_major": 2,
       "version_minor": 0
      },
      "text/plain": [
       "HBox(children=(IntProgress(value=0, max=99), HTML(value='')))"
      ]
     },
     "metadata": {},
     "output_type": "display_data"
    },
    {
     "name": "stdout",
     "output_type": "stream",
     "text": [
      "Epoch: 74, Loss: 7.1926 (1.5026 + 4.9914 + 0.0950 + 0.6036)\n",
      "\n"
     ]
    },
    {
     "data": {
      "application/vnd.jupyter.widget-view+json": {
       "model_id": "e5977ad6c9244451824b81a3f25d2a94",
       "version_major": 2,
       "version_minor": 0
      },
      "text/plain": [
       "HBox(children=(IntProgress(value=0, max=99), HTML(value='')))"
      ]
     },
     "metadata": {},
     "output_type": "display_data"
    },
    {
     "name": "stdout",
     "output_type": "stream",
     "text": [
      "Epoch: 75, Loss: 7.1768 (1.4702 + 5.0173 + 0.0965 + 0.5928)\n",
      "\n"
     ]
    },
    {
     "data": {
      "application/vnd.jupyter.widget-view+json": {
       "model_id": "a3c5c7a3166e4c23bb306a7f22dfa40c",
       "version_major": 2,
       "version_minor": 0
      },
      "text/plain": [
       "HBox(children=(IntProgress(value=0, max=99), HTML(value='')))"
      ]
     },
     "metadata": {},
     "output_type": "display_data"
    },
    {
     "name": "stdout",
     "output_type": "stream",
     "text": [
      "Epoch: 76, Loss: 7.2185 (1.5183 + 4.9993 + 0.0952 + 0.6057)\n",
      "\n"
     ]
    },
    {
     "data": {
      "application/vnd.jupyter.widget-view+json": {
       "model_id": "1c055f19deac4c1f97e165195e3c8dad",
       "version_major": 2,
       "version_minor": 0
      },
      "text/plain": [
       "HBox(children=(IntProgress(value=0, max=99), HTML(value='')))"
      ]
     },
     "metadata": {},
     "output_type": "display_data"
    },
    {
     "name": "stdout",
     "output_type": "stream",
     "text": [
      "Epoch: 77, Loss: 7.0047 (1.3046 + 4.9862 + 0.0958 + 0.6181)\n",
      "\n"
     ]
    },
    {
     "data": {
      "application/vnd.jupyter.widget-view+json": {
       "model_id": "b1a5e1ae417141c2a42ec0b237c5548b",
       "version_major": 2,
       "version_minor": 0
      },
      "text/plain": [
       "HBox(children=(IntProgress(value=0, max=99), HTML(value='')))"
      ]
     },
     "metadata": {},
     "output_type": "display_data"
    },
    {
     "name": "stdout",
     "output_type": "stream",
     "text": [
      "Epoch: 78, Loss: 6.9338 (1.2128 + 5.0057 + 0.0960 + 0.6193)\n",
      "\n"
     ]
    },
    {
     "data": {
      "application/vnd.jupyter.widget-view+json": {
       "model_id": "736bde409470411ba3610218233c640c",
       "version_major": 2,
       "version_minor": 0
      },
      "text/plain": [
       "HBox(children=(IntProgress(value=0, max=99), HTML(value='')))"
      ]
     },
     "metadata": {},
     "output_type": "display_data"
    },
    {
     "name": "stdout",
     "output_type": "stream",
     "text": [
      "Epoch: 79, Loss: 7.3788 (1.6714 + 4.9951 + 0.0959 + 0.6164)\n",
      "\n",
      "\n"
     ]
    }
   ],
   "source": [
    "trainer = Trainer()\n",
    "trainer.train()"
   ]
  },
  {
   "cell_type": "code",
   "execution_count": 5,
   "metadata": {},
   "outputs": [
    {
     "name": "stdout",
     "output_type": "stream",
     "text": [
      "Model weight saved.\n",
      "Model weight saved.\n"
     ]
    }
   ],
   "source": [
    "trainer.save_model()\n",
    "trainer.save_model(cover=True)"
   ]
  },
  {
   "cell_type": "markdown",
   "metadata": {},
   "source": [
    "# Eval"
   ]
  },
  {
   "cell_type": "code",
   "execution_count": 6,
   "metadata": {
    "scrolled": true
   },
   "outputs": [
    {
     "name": "stdout",
     "output_type": "stream",
     "text": [
      "Pretrained model loaded.\n"
     ]
    }
   ],
   "source": [
    "trainer = Trainer()"
   ]
  },
  {
   "cell_type": "code",
   "execution_count": 7,
   "metadata": {},
   "outputs": [
    {
     "data": {
      "text/plain": [
       "{'r1': <utils.AverageMeter at 0x7f41febdd350>,\n",
       " 'r5': <utils.AverageMeter at 0x7f41febddad0>,\n",
       " 'r10': <utils.AverageMeter at 0x7f41febdda50>,\n",
       " 'MAP': <utils.AverageMeter at 0x7f41febdda90>}"
      ]
     },
     "execution_count": 7,
     "metadata": {},
     "output_type": "execute_result"
    }
   ],
   "source": [
    "trainer.eval_performance(data_loader['gallery'], data_loader['probe'])"
   ]
  },
  {
   "cell_type": "code",
   "execution_count": 8,
   "metadata": {},
   "outputs": [
    {
     "data": {
      "text/plain": [
       "(29.453681710213775, 46.080760095011875, 54.89904988123515, 14.61836043303487)"
      ]
     },
     "execution_count": 8,
     "metadata": {},
     "output_type": "execute_result"
    }
   ],
   "source": [
    "trainer.r1, trainer.r5, trainer.r10, trainer.MAP"
   ]
  },
  {
   "cell_type": "code",
   "execution_count": 9,
   "metadata": {},
   "outputs": [],
   "source": [
    "exit()"
   ]
  }
 ],
 "metadata": {
  "kernelspec": {
   "display_name": "Python 3",
   "language": "python",
   "name": "python3"
  },
  "language_info": {
   "codemirror_mode": {
    "name": "ipython",
    "version": 3
   },
   "file_extension": ".py",
   "mimetype": "text/x-python",
   "name": "python",
   "nbconvert_exporter": "python",
   "pygments_lexer": "ipython3",
   "version": "3.7.4"
  },
  "toc": {
   "base_numbering": 1,
   "nav_menu": {},
   "number_sections": true,
   "sideBar": true,
   "skip_h1_title": false,
   "title_cell": "Table of Contents",
   "title_sidebar": "Contents",
   "toc_cell": false,
   "toc_position": {},
   "toc_section_display": true,
   "toc_window_display": false
  },
  "varInspector": {
   "cols": {
    "lenName": 16,
    "lenType": 16,
    "lenVar": 40
   },
   "kernels_config": {
    "python": {
     "delete_cmd_postfix": "",
     "delete_cmd_prefix": "del ",
     "library": "var_list.py",
     "varRefreshCmd": "print(var_dic_list())"
    },
    "r": {
     "delete_cmd_postfix": ") ",
     "delete_cmd_prefix": "rm(",
     "library": "var_list.r",
     "varRefreshCmd": "cat(var_dic_list()) "
    }
   },
   "position": {
    "height": "803.217px",
    "left": "1568.33px",
    "right": "20px",
    "top": "89px",
    "width": "350px"
   },
   "types_to_exclude": [
    "module",
    "function",
    "builtin_function_or_method",
    "instance",
    "_Feature"
   ],
   "window_display": false
  }
 },
 "nbformat": 4,
 "nbformat_minor": 2
}
